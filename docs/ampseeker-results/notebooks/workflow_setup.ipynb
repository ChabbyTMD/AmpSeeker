{
 "cells": [
  {
   "cell_type": "markdown",
   "metadata": {},
   "source": [
    "# Workflow Setup\n",
    "1. Before running the AmpSeeker workflow, it's important to specify in the `config.yaml` file in the `config/` directory the following;\n",
    "- Relaitve or absolute path of Illumina MiSeq directory for raw output data, if available at the `illumina_dir:` directive.\n",
    "- Path to appropriate metadata file in the `metadata:` directive.\n",
    "- Relative or absolute paths to reference sequence and feature files in the `reference_fasta:` and the `reference_gff3:` directives respectively. If working with _Anopheles gambiae_ data these are provided.\n",
    "\n",
    "2. Copy into the `resources/reference/` directory the appropriate whole genome or amplicon reference."
   ]
  }
 ],
 "metadata": {
  "language_info": {
   "name": "python"
  },
  "orig_nbformat": 4
 },
 "nbformat": 4,
 "nbformat_minor": 2
}
