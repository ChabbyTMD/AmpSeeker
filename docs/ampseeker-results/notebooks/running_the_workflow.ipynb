{
 "cells": [
  {
   "attachments": {},
   "cell_type": "markdown",
   "metadata": {},
   "source": [
    "# Running the workflow\n",
    "\n",
    "Once your data is set up, perform a dry run of snakemake to see which rules and modules the workflow is configured to run. \n",
    "\n",
    "NOTE: `-n` indicates a dry run.\n",
    "\n",
    "## Workflow Dry Run\n",
    "```{code-cell}\n",
    "snakemake --cores 4 --use-conda -n \n",
    "```\n",
    "\n",
    "## Workflow Execution\n",
    "\n",
    "To run the workflow on 4 cores. Conda will install all necessary packages.\n",
    "\n",
    "`snakemake --cores 4 --use-conda`\n",
    "\n",
    "## Building Workflow DAG\n",
    "\n",
    "In order to visulize the job execution graph to ensure all modules run as intended. This will generate an image file called `ampseeker.png`\n",
    "\n",
    "`snakemake -n --cores 1 --dag | dot -Tpng > ampseeker.png`"
   ]
  }
 ],
 "metadata": {
  "language_info": {
   "name": "python"
  },
  "orig_nbformat": 4
 },
 "nbformat": 4,
 "nbformat_minor": 2
}
