{
 "cells": [
  {
   "cell_type": "code",
   "execution_count": null,
   "id": "815df38c",
   "metadata": {
    "tags": [
     "remove-input"
    ]
   },
   "outputs": [],
   "source": [
    "import pandas as pd\n",
    "import plotly.express as px\n",
    "from datetime import datetime"
   ]
  },
  {
   "cell_type": "code",
   "execution_count": null,
   "id": "d7de2784",
   "metadata": {
    "tags": [
     "parameters",
     "remove-input"
    ]
   },
   "outputs": [],
   "source": [
    "metadata_path = '../../config/metadata.tsv'\n",
    "bed_targets_path = '../../config/ag-vampir.bed'\n",
    "wkdir = '../..'\n",
    "dataset= \"my_dataset_name\"\n",
    "panel= 'ag-vampir'\n",
    "cohort_cols = 'taxon,location'\n",
    "config_path = '../../config/config.yaml'\n",
    "\n",
    "pd.set_option(\"display.max_rows\", None)\n",
    "pd.set_option(\"display.max_columns\", None)\n",
    "pd.set_option(\"max_colwidth\", None)"
   ]
  },
  {
   "cell_type": "markdown",
   "id": "a94dc14d",
   "metadata": {},
   "source": [
    "# Run information"
   ]
  },
  {
   "cell_type": "code",
   "execution_count": null,
   "id": "2b5e4660",
   "metadata": {
    "tags": [
     "remove-input"
    ]
   },
   "outputs": [],
   "source": [
    "time = datetime.today().strftime('%Y-%m-%d %H:%M:%S')\n",
    "\n",
    "print(f\"Dataset: {dataset}\\nPanel: {panel}\\nCohort columns: {cohort_cols}\\n\\nExecution time: {time}\")"
   ]
  },
  {
   "cell_type": "markdown",
   "id": "25a46875",
   "metadata": {},
   "source": [
    "#### Reference genome"
   ]
  },
  {
   "cell_type": "code",
   "execution_count": null,
   "id": "e6cc3a7c",
   "metadata": {
    "tags": [
     "remove-input"
    ]
   },
   "outputs": [],
   "source": [
    "import yaml \n",
    "with open(config_path, 'r') as file:\n",
    "    config_yml = yaml.safe_load(file)\n",
    "\n",
    "ref_dict = {k:v for k,v in config_yml.items() if 'reference' in k}\n",
    "\n",
    "ref_df = pd.DataFrame.from_dict(ref_dict, orient='index').reset_index()\n",
    "ref_df.columns = ['reference', 'value']\n",
    "ref_df"
   ]
  },
  {
   "cell_type": "markdown",
   "id": "88bc0070",
   "metadata": {},
   "source": [
    "#### Panel information"
   ]
  },
  {
   "cell_type": "code",
   "execution_count": null,
   "id": "e80adc4d",
   "metadata": {
    "tags": [
     "remove-input"
    ]
   },
   "outputs": [],
   "source": [
    "panel_metadata = pd.read_csv(bed_targets_path, sep=\"\\t\")\n",
    "panel_metadata.columns = ['chrom', 'start', 'end', 'amplicon', 'type']\n",
    "contigs = panel_metadata.chrom.unique()\n",
    "panel_metadata"
   ]
  },
  {
   "cell_type": "markdown",
   "id": "20c621dd",
   "metadata": {},
   "source": [
    "#### Input metadata"
   ]
  },
  {
   "cell_type": "code",
   "execution_count": null,
   "id": "1aaaa3bb",
   "metadata": {
    "tags": [
     "remove-input"
    ]
   },
   "outputs": [],
   "source": [
    "# load panel metadata\n",
    "if metadata_path.endswith('.xlsx'):\n",
    "    metadata = pd.read_excel(metadata_path, engine='openpyxl')\n",
    "elif metadata_path.endswith('.tsv'):\n",
    "    metadata = pd.read_csv(metadata_path, sep=\"\\t\")\n",
    "elif metadata_path.endswith('.csv'):\n",
    "    metadata = pd.read_csv(metadata_path, sep=\",\")\n",
    "else:\n",
    "    raise ValueError(\"Metadata file must be .xlsx or .csv\")\n",
    "\n",
    "metadata    "
   ]
  },
  {
   "cell_type": "code",
   "execution_count": null,
   "id": "cf5c2924",
   "metadata": {},
   "outputs": [],
   "source": []
  }
 ],
 "metadata": {
  "celltoolbar": "Tags",
  "kernelspec": {
   "display_name": "Python 3 (ipykernel)",
   "language": "python",
   "name": "python3"
  },
  "language_info": {
   "codemirror_mode": {
    "name": "ipython",
    "version": 3
   },
   "file_extension": ".py",
   "mimetype": "text/x-python",
   "name": "python",
   "nbconvert_exporter": "python",
   "pygments_lexer": "ipython3",
   "version": "3.10.10"
  }
 },
 "nbformat": 4,
 "nbformat_minor": 5
}
