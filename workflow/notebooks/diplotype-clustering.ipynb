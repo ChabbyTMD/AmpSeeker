{
 "cells": [
  {
   "cell_type": "code",
   "execution_count": null,
   "id": "8c01954f",
   "metadata": {
    "tags": [
     "remove-input"
    ]
   },
   "outputs": [],
   "source": [
    "import allel\n",
    "import numpy as np\n",
    "import pandas as pd \n",
    "import plotly.express as px\n",
    "\n",
    "def load_vcf(vcf_path, metadata):\n",
    "    \"\"\"\n",
    "    Load VCF and filter poor-quality samples\n",
    "    \"\"\"\n",
    "    \n",
    "    sampleIDs = metadata.sampleID.to_list()\n",
    "    \n",
    "    # load vcf and get genotypes and positions\n",
    "    vcf = allel.read_vcf(vcf_path, fields=\"*\")\n",
    "    samples = vcf['samples']\n",
    "    # keep only samples in qcpass metadata \n",
    "    sample_mask = np.isin(vcf['samples'], metadata.sampleID)\n",
    "    \n",
    "    # remove low quality samples \n",
    "    geno = allel.GenotypeArray(vcf['calldata/GT'])\n",
    "    geno = geno.compress(sample_mask, axis=1)\n",
    "    pos = vcf['variants/POS']\n",
    "    contig = vcf['variants/CHROM']\n",
    "    indel = vcf['variants/INDEL']\n",
    "    \n",
    "    # remove any indels \n",
    "    geno = geno.compress(~indel, axis=0)\n",
    "    pos = pos[~indel]\n",
    "    contig = contig[~indel]\n",
    "    \n",
    "    metadata = metadata.set_index('sampleID')\n",
    "    samples = samples[sample_mask]\n",
    "    \n",
    "    return geno, pos, contig, metadata.loc[samples, :]"
   ]
  },
  {
   "cell_type": "code",
   "execution_count": null,
   "id": "d6302ed5",
   "metadata": {
    "tags": [
     "parameters",
     "remove-input"
    ]
   },
   "outputs": [],
   "source": [
    "dataset = 'ampseq-vigg002'\n",
    "vcf_path = f\"../../results/vcfs/targets/{dataset}.annot.vcf\"\n",
    "metadata_path = \"../../results/config/metadata.qcpass.tsv\"\n",
    "cohort_cols = 'taxon,location'"
   ]
  },
  {
   "cell_type": "markdown",
   "id": "696938a0",
   "metadata": {},
   "source": [
    "## Diplotype clustering"
   ]
  },
  {
   "cell_type": "code",
   "execution_count": null,
   "id": "a7ae6392",
   "metadata": {
    "tags": [
     "remove-input",
     "remove-output"
    ]
   },
   "outputs": [],
   "source": [
    "cohort_cols = cohort_cols.split(\",\")"
   ]
  },
  {
   "cell_type": "code",
   "execution_count": null,
   "id": "0e53849e",
   "metadata": {
    "tags": [
     "remove-input"
    ]
   },
   "outputs": [],
   "source": [
    "import numba\n",
    "from scipy.spatial.distance import squareform  # type: ignore\n",
    "\n",
    "@numba.njit(parallel=True)\n",
    "def multiallelic_diplotype_pdist(X, metric):\n",
    "    \"\"\"Optimised implementation of pairwise distance between diplotypes.\n",
    "\n",
    "    N.B., here we assume the array X provides diplotypes as genotype allele\n",
    "    counts, with axes in the order (n_samples, n_sites, n_alleles).\n",
    "\n",
    "    Computation will be faster if X is a contiguous (C order) array.\n",
    "\n",
    "    The metric argument is the function to compute distance for a pair of\n",
    "    diplotypes. This can be a numba jitted function.\n",
    "\n",
    "    \"\"\"\n",
    "    n_samples = X.shape[0]\n",
    "    n_pairs = (n_samples * (n_samples - 1)) // 2\n",
    "    out = np.zeros(n_pairs, dtype=np.float32)\n",
    "\n",
    "    # Loop over samples, first in pair.\n",
    "    for i in range(n_samples):\n",
    "        x = X[i, :, :]\n",
    "\n",
    "        # Loop over observations again, second in pair.\n",
    "        for j in numba.prange(i + 1, n_samples):\n",
    "            y = X[j, :, :]\n",
    "\n",
    "            # Compute distance for the current pair.\n",
    "            d = metric(x, y)\n",
    "\n",
    "            # Store result for the current pair.\n",
    "            k = square_to_condensed(i, j, n_samples)\n",
    "            out[k] = d\n",
    "\n",
    "    return out\n",
    "\n",
    "\n",
    "@numba.njit\n",
    "def square_to_condensed(i, j, n):\n",
    "    \"\"\"Convert distance matrix coordinates from square form (i, j) to condensed form.\"\"\"\n",
    "\n",
    "    assert i != j, \"no diagonal elements in condensed matrix\"\n",
    "    if i < j:\n",
    "        i, j = j, i\n",
    "    return n * j - j * (j + 1) // 2 + i - 1 - j\n",
    "\n",
    "\n",
    "@numba.njit\n",
    "def multiallelic_diplotype_mean_cityblock(x, y):\n",
    "    \"\"\"Compute the mean cityblock distance between two diplotypes x and y. The\n",
    "    diplotype vectors are expected as genotype allele counts, i.e., x and y\n",
    "    should have the same shape (n_sites, n_alleles).\n",
    "\n",
    "    N.B., here we compute the mean value of the distance over sites where\n",
    "    both individuals have a called genotype. This avoids computing distance\n",
    "    at missing sites.\n",
    "\n",
    "    \"\"\"\n",
    "    n_sites = x.shape[0]\n",
    "    n_alleles = x.shape[1]\n",
    "    distance = np.float32(0)\n",
    "    n_sites_called = np.float32(0)\n",
    "\n",
    "    # Loop over sites.\n",
    "    for i in range(n_sites):\n",
    "        x_is_called = False\n",
    "        y_is_called = False\n",
    "        d = np.float32(0)\n",
    "\n",
    "        # Loop over alleles.\n",
    "        for j in range(n_alleles):\n",
    "            # Access allele counts.\n",
    "            xc = np.float32(x[i, j])\n",
    "            yc = np.float32(y[i, j])\n",
    "\n",
    "            # Check if any alleles observed.\n",
    "            x_is_called = x_is_called or (xc > 0)\n",
    "            y_is_called = y_is_called or (yc > 0)\n",
    "\n",
    "            # Compute cityblock distance (absolute difference).\n",
    "            d += np.fabs(xc - yc)\n",
    "\n",
    "        # Accumulate distance for the current pair, but only if both samples\n",
    "        # have a called genotype.\n",
    "        if x_is_called and y_is_called:\n",
    "            distance += d\n",
    "            n_sites_called += np.float32(1)\n",
    "\n",
    "    # Compute the mean distance over sites with called genotypes.\n",
    "    if n_sites_called > 0:\n",
    "        mean_distance = distance / n_sites_called\n",
    "    else:\n",
    "        mean_distance = np.nan\n",
    "\n",
    "    return mean_distance"
   ]
  },
  {
   "cell_type": "code",
   "execution_count": null,
   "id": "5f0977f1",
   "metadata": {
    "tags": [
     "remove-input"
    ]
   },
   "outputs": [],
   "source": [
    "df_samples = pd.read_csv(\"../../results/config/metadata.qcpass.tsv\", sep=\"\\t\", index_col=0)\n",
    "\n",
    "geno, pos, contig, df_samples = load_vcf(vcf_path, metadata=df_samples)"
   ]
  },
  {
   "cell_type": "code",
   "execution_count": null,
   "id": "783b9b6c",
   "metadata": {
    "tags": [
     "remove-input"
    ]
   },
   "outputs": [],
   "source": [
    "ac = allel.GenotypeArray(geno).to_allele_counts(max_allele=3)\n",
    "X = np.ascontiguousarray(np.swapaxes(ac.values, 0, 1))\n",
    "\n",
    "dists = multiallelic_diplotype_pdist(X, metric=multiallelic_diplotype_mean_cityblock)"
   ]
  },
  {
   "cell_type": "code",
   "execution_count": null,
   "id": "2821a092",
   "metadata": {},
   "outputs": [],
   "source": [
    "from malariagen_data.plotly_dendrogram import plot_dendrogram"
   ]
  },
  {
   "cell_type": "code",
   "execution_count": null,
   "id": "7d50cbd1",
   "metadata": {},
   "outputs": [],
   "source": [
    "distance_metric = 'cityblock'\n",
    "\n",
    "fig, leaf_data = plot_dendrogram(\n",
    "    dist=dists,\n",
    "    linkage_method=\"complete\",\n",
    "    count_sort=True,\n",
    "    distance_sort=False,\n",
    "    render_mode=\"svg\",\n",
    "    width=800,\n",
    "    height=500,\n",
    "    title=dataset,\n",
    "    line_width=0.5,\n",
    "    line_color='black',\n",
    "    marker_size=5,\n",
    "    leaf_data=df_samples.reset_index(),\n",
    "    leaf_hover_name=\"sampleID\",\n",
    "    leaf_hover_data=cohort_cols,\n",
    "    leaf_color=\"taxon\",\n",
    "    leaf_symbol=None,\n",
    "    leaf_y=-0.05,\n",
    "    leaf_color_discrete_map=None,\n",
    "    leaf_category_orders=None,\n",
    "    template=\"simple_white\",\n",
    "    y_axis_title=f\"Distance ({distance_metric})\",\n",
    "    y_axis_buffer=0.1,\n",
    ")\n",
    "\n",
    "fig.show()"
   ]
  },
  {
   "cell_type": "markdown",
   "id": "64b6f43b",
   "metadata": {},
   "source": [
    "### Diplotype clustering at target loci"
   ]
  },
  {
   "cell_type": "code",
   "execution_count": null,
   "id": "2a996ce9",
   "metadata": {},
   "outputs": [],
   "source": [
    "major_loci = '2L:2_000_000-3_000_000'"
   ]
  },
  {
   "cell_type": "code",
   "execution_count": null,
   "id": "9404b863",
   "metadata": {},
   "outputs": [],
   "source": [
    "df_bed = pd.read_csv(\"../../config/ag-vampir.bed\", sep=\"\\t\", header=None)\n",
    "df_bed"
   ]
  }
 ],
 "metadata": {
  "celltoolbar": "Tags",
  "kernelspec": {
   "display_name": "Python 3 (ipykernel)",
   "language": "python",
   "name": "python3"
  },
  "language_info": {
   "codemirror_mode": {
    "name": "ipython",
    "version": 3
   },
   "file_extension": ".py",
   "mimetype": "text/x-python",
   "name": "python",
   "nbconvert_exporter": "python",
   "pygments_lexer": "ipython3",
   "version": "3.10.12"
  }
 },
 "nbformat": 4,
 "nbformat_minor": 5
}
