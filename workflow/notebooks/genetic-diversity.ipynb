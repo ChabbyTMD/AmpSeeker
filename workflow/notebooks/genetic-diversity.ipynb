{
 "cells": [
  {
   "cell_type": "code",
   "execution_count": 1,
   "id": "6057752e",
   "metadata": {
    "tags": [
     "remove-input"
    ]
   },
   "outputs": [],
   "source": [
    "import plotly.express as px\n",
    "import allel\n",
    "import numpy as np\n",
    "import pandas as pd\n",
    "\n",
    "def load_vcf(vcf_path, metadata):\n",
    "    \"\"\"\n",
    "    Load VCF and filter poor-quality samples\n",
    "    \"\"\"\n",
    "    \n",
    "    sampleIDs = metadata.sampleID.to_list()\n",
    "    \n",
    "    # load vcf and get genotypes and positions\n",
    "    vcf = allel.read_vcf(vcf_path, fields='*')\n",
    "    samples = vcf['samples']\n",
    "    # keep only samples in qcpass metadata \n",
    "    sample_mask = np.isin(vcf['samples'], metadata.sampleID)\n",
    "    \n",
    "    # remove low quality samples \n",
    "    geno = allel.GenotypeArray(vcf['calldata/GT'])\n",
    "    geno = geno.compress(sample_mask, axis=1)\n",
    "    pos = vcf['variants/POS']\n",
    "    contig = vcf['variants/CHROM']\n",
    "    indel = vcf['variants/INDEL']\n",
    "    \n",
    "    # remove indels \n",
    "    geno = geno.compress(~indel, axis=0)\n",
    "    pos = pos[~indel]\n",
    "    contig = contig[~indel]\n",
    "    \n",
    "    return geno, pos, contig, samples[sample_mask]\n",
    "\n",
    "def sample_diversity(geno, samples):\n",
    "    pis = []\n",
    "    for i, sample in enumerate(samples):\n",
    "        ac = geno.take([i], axis=1).count_alleles()\n",
    "        pis.append(allel.sequence_diversity(ac=ac, pos=np.arange(len(pos))))\n",
    "\n",
    "    return pd.DataFrame({'sampleID':samples, 'pi':pis})\n",
    "\n",
    "def cohort_diversity(geno, samples, metadata, cohort_col):\n",
    "    cohs = metadata[cohort_col].unique()\n",
    "    coh_idxs = {loc:np.where(metadata[cohort_col] == loc)[0] for loc in cohs}\n",
    "\n",
    "    pis = []\n",
    "    for coh in cohs:\n",
    "        ac = geno.take(coh_idxs[coh], axis=1).count_alleles()\n",
    "        pis.append(allel.sequence_diversity(ac=ac, pos=np.arange(len(pos))))   \n",
    "\n",
    "    return pd.DataFrame({'cohort':cohs, 'pi':pis}) "
   ]
  },
  {
   "cell_type": "code",
   "execution_count": null,
   "id": "d4571035",
   "metadata": {
    "tags": [
     "remove-input",
     "parameters"
    ]
   },
   "outputs": [],
   "source": [
    "dataset = 'vigg-01'\n",
    "metadata_path = \"../../results/config/metadata.qcpass.tsv\"\n",
    "cohort_cols = 'location,taxon'\n",
    "vcf_path = \"../../results/vcfs/amplicons/ampseq-vigg-01.annot.vcf\"\n",
    "wkdir = \"../..\""
   ]
  },
  {
   "cell_type": "markdown",
   "id": "7d349d15",
   "metadata": {
    "tags": [
     "remove-input"
    ]
   },
   "source": [
    "### Estimating genetic diversity\n",
    "\n",
    "This page calculates genetic diversity in individuals and cohorts. \n",
    "\n",
    "Calculating genetic diversity from ag-vampir amplicons is tricky because there are so many Vgsc amplicons, results will be biased by the presence of selective sweeps, and aims. "
   ]
  },
  {
   "cell_type": "code",
   "execution_count": null,
   "id": "c702a1cd",
   "metadata": {
    "tags": [
     "remove-input",
     "remove-output"
    ]
   },
   "outputs": [],
   "source": [
    "cohort_cols = cohort_cols.split(\",\")\n",
    "\n",
    "# load metadata\n",
    "if metadata_path.endswith('.xlsx'):\n",
    "    metadata = pd.read_excel(metadata_path, engine='openpyxl')\n",
    "elif metadata_path.endswith('.tsv'):\n",
    "    metadata = pd.read_csv(metadata_path, sep=\"\\t\")\n",
    "elif metadata_path.endswith('.csv'):\n",
    "    metadata = pd.read_csv(metadata_path, sep=\",\")\n",
    "else:\n",
    "    raise ValueError(\"Metadata file must be .xlsx or .csv\")\n",
    "\n",
    "geno, pos, contig, samples = load_vcf(vcf_path, metadata)"
   ]
  },
  {
   "cell_type": "markdown",
   "id": "bb1e69eb",
   "metadata": {},
   "source": [
    "#### By cohort"
   ]
  },
  {
   "cell_type": "code",
   "execution_count": null,
   "id": "f7924b40",
   "metadata": {
    "tags": [
     "remove-input"
    ]
   },
   "outputs": [],
   "source": [
    "for coh in cohort_cols:\n",
    "    cohort_pi_df = cohort_diversity(\n",
    "        geno=geno, \n",
    "        samples=samples, \n",
    "        metadata=metadata, \n",
    "        cohort_col=coh\n",
    "    )\n",
    "    cohort_pi_df.to_csv(f\"{wkdir}/results/genetic-diversity/{coh}.pi.tsv\", sep=\"\\t\")\n",
    "    px.bar(cohort_pi_df, x='cohort', y='pi', template='simple_white', width=600, height=400)"
   ]
  },
  {
   "cell_type": "code",
   "execution_count": null,
   "id": "44248773",
   "metadata": {
    "tags": [
     "remove-input"
    ]
   },
   "outputs": [],
   "source": [
    "sample_pi_df = sample_diversity(geno, samples)\n",
    "sample_pi_df.to_csv(f\"{wkdir}/results/genetic-diversity/samples.pi.tsv\", sep=\"\\t\")"
   ]
  },
  {
   "cell_type": "code",
   "execution_count": null,
   "id": "813ee8e6",
   "metadata": {},
   "outputs": [],
   "source": []
  }
 ],
 "metadata": {
  "celltoolbar": "Tags",
  "kernelspec": {
   "display_name": "pythonGenomics",
   "language": "python",
   "name": "pythongenomics"
  },
  "language_info": {
   "codemirror_mode": {
    "name": "ipython",
    "version": 3
   },
   "file_extension": ".py",
   "mimetype": "text/x-python",
   "name": "python",
   "nbconvert_exporter": "python",
   "pygments_lexer": "ipython3",
   "version": "3.10.12"
  }
 },
 "nbformat": 4,
 "nbformat_minor": 5
}
