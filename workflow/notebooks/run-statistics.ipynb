{
 "cells": [
  {
   "cell_type": "code",
   "execution_count": null,
   "id": "815df38c",
   "metadata": {
    "tags": [
     "remove-input"
    ]
   },
   "outputs": [],
   "source": [
    "import pandas as pd\n",
    "import plotly.express as px"
   ]
  },
  {
   "cell_type": "code",
   "execution_count": null,
   "id": "eec7e40c",
   "metadata": {
    "tags": [
     "remove-input",
     "parameters"
    ]
   },
   "outputs": [],
   "source": [
    "metadata_path = '../../config/metadata_ms.tsv'\n",
    "wkdir = '../..'\n",
    "plate_info = False\n",
    "cohort_cols = 'location,taxon'\n",
    "\n",
    "pd.set_option(\"display.max_rows\", None)\n",
    "pd.set_option(\"display.max_columns\", None)\n",
    "pd.set_option(\"max_colwidth\", None)"
   ]
  },
  {
   "cell_type": "markdown",
   "id": "a94dc14d",
   "metadata": {},
   "source": [
    "# Run statistics"
   ]
  },
  {
   "cell_type": "code",
   "execution_count": null,
   "id": "f54b15fa",
   "metadata": {
    "tags": [
     "remove-input"
    ]
   },
   "outputs": [],
   "source": [
    "cohort_col = cohort_cols.split(\",\")[0]\n",
    "\n",
    "# load panel metadata\n",
    "if metadata_path.endswith('.xlsx'):\n",
    "    metadata = pd.read_excel(metadata_path, engine='openpyxl')\n",
    "elif metadata_path.endswith('.tsv'):\n",
    "    metadata = pd.read_csv(metadata_path, sep=\"\\t\")\n",
    "elif metadata_path.endswith('.csv'):\n",
    "    metadata = pd.read_csv(metadata_path, sep=\",\")\n",
    "else:\n",
    "    raise ValueError(\"Metadata file must be .xlsx or .csv\")\n",
    "\n",
    "import json\n",
    "with open(f\"{wkdir}/config/metadata_colours.json\", 'r') as f:\n",
    "    color_mapping = json.load(f)\n",
    "\n",
    "demultiplex_data = pd.read_csv(\n",
    "    f\"{wkdir}/results/bcl_output/Reports/Demultiplex_Stats.csv\"\n",
    ").rename(columns={'# Reads':'n_reads', 'SampleID':'sample_id'})"
   ]
  },
  {
   "cell_type": "markdown",
   "id": "10eeda46",
   "metadata": {},
   "source": [
    "What percentage of total reads are undetermined?"
   ]
  },
  {
   "cell_type": "code",
   "execution_count": null,
   "id": "36d8c9f6",
   "metadata": {
    "scrolled": true,
    "tags": [
     "remove-input"
    ]
   },
   "outputs": [],
   "source": [
    "n_undetermined = demultiplex_data.query(\"sample_id == 'Undetermined'\")['n_reads'].to_list()[0]\n",
    "pc_undetermined = demultiplex_data.query(\"sample_id == 'Undetermined'\")['% Reads'].to_list()[0]\n",
    "\n",
    "print(f\"There are {n_undetermined:,} undetermined reads, {pc_undetermined*100}% of all reads\")\n",
    "print(f\"There are {demultiplex_data['n_reads'].sum():,} total reads\")"
   ]
  },
  {
   "cell_type": "markdown",
   "id": "822e5f41",
   "metadata": {},
   "source": [
    "#### Total reads per sample"
   ]
  },
  {
   "cell_type": "code",
   "execution_count": null,
   "id": "a6a2de57",
   "metadata": {
    "tags": [
     "remove-input"
    ]
   },
   "outputs": [],
   "source": [
    "demultiplex_data = demultiplex_data.query(\"sample_id != 'Undetermined'\")\n",
    "demultiplex_data = metadata.merge(demultiplex_data, how='left')\n",
    "\n",
    "fig = px.bar(demultiplex_data, \n",
    "       x='sample_id', \n",
    "       y='n_reads', \n",
    "       color=cohort_col, \n",
    "       color_discrete_map=color_mapping[cohort_col],\n",
    "       title='Total reads assigned to each sample',\n",
    "       template='simple_white'\n",
    "      )\n",
    "fig.show()"
   ]
  },
  {
   "cell_type": "markdown",
   "id": "3689aca4",
   "metadata": {},
   "source": [
    "#### Percentage of perfect and mismatched index reads"
   ]
  },
  {
   "cell_type": "code",
   "execution_count": null,
   "id": "4e3e59db",
   "metadata": {
    "tags": [
     "remove-input"
    ]
   },
   "outputs": [],
   "source": [
    "fig = px.bar(demultiplex_data, \n",
    "       x='sample_id', \n",
    "       y='% Perfect Index Reads', \n",
    "       color=cohort_col, \n",
    "       color_discrete_map=color_mapping[cohort_col],\n",
    "       title='The % of perfect index reads',\n",
    "       template='simple_white'\n",
    "      )\n",
    "fig.show()\n",
    "\n",
    "fig = px.bar(demultiplex_data.query(\"n_reads > 100\"), \n",
    "       x='sample_id', \n",
    "       y='% One Mismatch Index Reads', \n",
    "       color=cohort_col, \n",
    "       color_discrete_map=color_mapping[cohort_col],\n",
    "       title='The % of Index reads with one mismatch',\n",
    "       template='simple_white'\n",
    "      )\n",
    "fig.show()"
   ]
  },
  {
   "cell_type": "markdown",
   "id": "8a13e84e",
   "metadata": {},
   "source": [
    "#### The number of reads for  each i7 index"
   ]
  },
  {
   "cell_type": "code",
   "execution_count": null,
   "id": "795259ef",
   "metadata": {
    "tags": [
     "remove-input"
    ]
   },
   "outputs": [],
   "source": [
    "demultiplex_data.loc[:, 'i7'] = demultiplex_data['Index'].str.slice(0,8)\n",
    "fig = px.box(demultiplex_data, \n",
    "             x='i7', \n",
    "             y='n_reads', \n",
    "             template='simple_white',\n",
    "             color=cohort_col,\n",
    "             color_discrete_map=color_mapping[cohort_col],\n",
    "             title='Boxplot of total reads for each I7 index'\n",
    "            )\n",
    "fig.show()\n",
    "\n",
    "fig2 = px.scatter(demultiplex_data, \n",
    "           x='n_reads', \n",
    "           y='% Perfect Index Reads', \n",
    "           color='i7', \n",
    "           hover_data=['well_letter', 'well_number'],\n",
    "           title='The % of perfect index reads against total reads for each i7 index',\n",
    "           template='simple_white')\n",
    "\n",
    "fig2.show()"
   ]
  },
  {
   "cell_type": "code",
   "execution_count": null,
   "id": "4a580786",
   "metadata": {
    "tags": [
     "remove-input"
    ]
   },
   "outputs": [],
   "source": [
    "def plot_96well_plate(metadata, color_var='mapped_reads', title='Plate A - Number of mapped reads'):\n",
    "    fig = px.scatter(metadata[::-1], \n",
    "                     y='well_letter', \n",
    "                     x='well_number',\n",
    "                     color=color_var, \n",
    "                     hover_data=metadata.columns, \n",
    "                     template='plotly_white')\n",
    "    fig.update_traces(marker_size=40)\n",
    "    fig.update_layout(xaxis = dict(\n",
    "                                side='top',\n",
    "                                tickmode = 'linear',\n",
    "                                tick0 = 0,\n",
    "                                dtick = 1), \n",
    "                      title=title)\n",
    "    return fig\n",
    "\n",
    "\n",
    "if plate_info:\n",
    "    from IPython.display import display, Markdown\n",
    "    display(Markdown('#### Visualising edge effects'))\n",
    "    tot_per_well = demultiplex_data.groupby(['well_letter', 'well_number']).agg({'n_reads':'mean'}).reset_index()\n",
    "\n",
    "    plot_96well_plate(tot_per_well,\n",
    "                    color_var='n_reads',\n",
    "                    title=\"Visualising edge effects - total reads across i7s\")"
   ]
  }
 ],
 "metadata": {
  "celltoolbar": "Tags",
  "kernelspec": {
   "display_name": "Python 3 (ipykernel)",
   "language": "python",
   "name": "python3"
  },
  "language_info": {
   "codemirror_mode": {
    "name": "ipython",
    "version": 3
   },
   "file_extension": ".py",
   "mimetype": "text/x-python",
   "name": "python",
   "nbconvert_exporter": "python",
   "pygments_lexer": "ipython3",
   "version": "3.10.12"
  }
 },
 "nbformat": 4,
 "nbformat_minor": 5
}
