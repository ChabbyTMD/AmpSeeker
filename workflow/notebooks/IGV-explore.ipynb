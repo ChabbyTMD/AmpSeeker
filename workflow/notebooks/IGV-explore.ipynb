{
 "cells": [
  {
   "cell_type": "code",
   "execution_count": null,
   "id": "5c602cfc",
   "metadata": {
    "tags": [
     "parameters"
    ]
   },
   "outputs": [],
   "source": [
    "import igv_notebook\n",
    "import pandas as pd\n",
    "\n",
    "genome_name =  'Anopheles gambiae (PEST)'\n",
    "reference_fasta = \"resources/reference/Anopheles-gambiae-PEST_CHROMOSOMES_AgamP4.fa\"\n",
    "reference_index = \"resources/reference/Anopheles-gambiae-PEST_CHROMOSOMES_AgamP4.fa.fai\"\n",
    "path_to_gff3 = 'resources/reference/Anopheles-gambiae-PEST_BASEFEATURES_AgamP4.12.gff3'\n",
    "\n",
    "bed_name = 'AgamDao'\n",
    "path_to_bed = \"resources/AgamDao_wholegenome_snptargets.bed\"\n",
    "region = \"2L:24,376,166-24,376,456\"\n",
    "\n",
    "metadata_path = \"config/metadata.tsv\"\n",
    "metadata = pd.read_csv(metadata_path, sep=\"\\t\")\n",
    "samples = metadata['sampleID']"
   ]
  },
  {
   "cell_type": "markdown",
   "id": "403c9b59",
   "metadata": {},
   "source": [
    "## Exploring amplicon sequencing read data in IGV\n",
    "\n",
    "In this notebook, we can explore our amplicon sequencing reads in an interactive Jupyter environment. "
   ]
  },
  {
   "cell_type": "code",
   "execution_count": null,
   "id": "eaf12f16",
   "metadata": {},
   "outputs": [],
   "source": [
    "config = {\n",
    "        \"reference\":{\n",
    "            \"id\": genome_name,\n",
    "            \"name\": genome_name,     \n",
    "            \"fastaURL\": reference_fasta,\n",
    "            \"indexURL\": reference_index,\n",
    "            \"tracks\": [\n",
    "                {\n",
    "                \"name\": \"Genes\",\n",
    "                \"type\":\"annotation\",\n",
    "                \"format\": \"gff3\",\n",
    "                \"url\" : path_to_gff3,\n",
    "                \"indexed\": False,\n",
    "                }\n",
    "            ]\n",
    "        },\n",
    "}"
   ]
  },
  {
   "cell_type": "code",
   "execution_count": null,
   "id": "e123c05a",
   "metadata": {},
   "outputs": [],
   "source": [
    "igv_notebook.init()"
   ]
  },
  {
   "cell_type": "code",
   "execution_count": null,
   "id": "7b3706e9",
   "metadata": {
    "scrolled": false
   },
   "outputs": [],
   "source": [
    "igv_browser = igv_notebook.Browser(config)\n",
    "\n",
    "for sample in samples:\n",
    "    \n",
    "    bam_path = f\"../../results_wholegenome/alignments/{sample}.bam\"\n",
    "    bai_path = bam_path + \".bai\"\n",
    "    \n",
    "    igv_browser.load_track(\n",
    "        {\n",
    "            \"name\": sample,\n",
    "            \"url\": bam_path,\n",
    "            \"indexURL\": bai_path,\n",
    "            \"format\": \"bam\",\n",
    "            \"type\": \"alignment\"\n",
    "        })"
   ]
  },
  {
   "cell_type": "code",
   "execution_count": null,
   "id": "c524cf56",
   "metadata": {},
   "outputs": [],
   "source": []
  }
 ],
 "metadata": {
  "kernelspec": {
   "display_name": "Python 3 (ipykernel)",
   "language": "python",
   "name": "python3"
  },
  "language_info": {
   "codemirror_mode": {
    "name": "ipython",
    "version": 3
   },
   "file_extension": ".py",
   "mimetype": "text/x-python",
   "name": "python",
   "nbconvert_exporter": "python",
   "pygments_lexer": "ipython3",
   "version": "3.7.13"
  }
 },
 "nbformat": 4,
 "nbformat_minor": 5
}
