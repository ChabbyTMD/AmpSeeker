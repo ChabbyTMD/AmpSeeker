{
 "cells": [
  {
   "cell_type": "code",
   "execution_count": 17,
   "id": "70487a64",
   "metadata": {},
   "outputs": [],
   "source": [
    "import numpy as np\n",
    "import pandas as pd\n",
    "from tqdm.notebook import tqdm"
   ]
  },
  {
   "cell_type": "markdown",
   "id": "a4699cc9",
   "metadata": {},
   "source": [
    "### Primer rebalancing\n",
    "\n",
    "In this notebook, we will use the coverage calculations from a MiSeq run to 'rebalance' the primer pools, so that we have more even coverage. This is according to T112_LAB_SOP011_GBS_Testing_&_Rebalancing_V6.docx from GSU. "
   ]
  },
  {
   "cell_type": "code",
   "execution_count": 30,
   "id": "4369666a",
   "metadata": {},
   "outputs": [
    {
     "data": {
      "text/plain": [
       "(672, 9)"
      ]
     },
     "execution_count": 30,
     "metadata": {},
     "output_type": "execute_result"
    }
   ],
   "source": [
    "# Load the sample metadata\n",
    "metadata = pd.read_csv(\"../../config/metadata.tsv\", sep=\"\\t\")\n",
    "metadata.shape"
   ]
  },
  {
   "cell_type": "code",
   "execution_count": 78,
   "id": "344e6cda",
   "metadata": {},
   "outputs": [
    {
     "data": {
      "application/vnd.jupyter.widget-view+json": {
       "model_id": "c7825dfc13e8424da58831259c1b81b6",
       "version_major": 2,
       "version_minor": 0
      },
      "text/plain": [
       "  0%|          | 0/672 [00:00<?, ?it/s]"
      ]
     },
     "metadata": {},
     "output_type": "display_data"
    },
    {
     "data": {
      "text/plain": [
       "(54202, 3)"
      ]
     },
     "execution_count": 78,
     "metadata": {},
     "output_type": "execute_result"
    }
   ],
   "source": [
    "## Load the coverage data for each sample\n",
    "# Take the mean where we have multiple target SNPs on a given amplicon\n",
    "\n",
    "dfs =[]\n",
    "for sample in tqdm(metadata.sampleID):\n",
    "    df = pd.read_csv(f\"../../results/coverage/{sample}.regions.bed.gz\", sep=\"\\t\", header=None, names=['contig', 'start', 'end', 'amplicon', 'depth'])\n",
    "    df = df.groupby('amplicon').agg({'depth':'mean'}).reset_index().sort_values('amplicon')\n",
    "    dfs.append(df.assign(sample=sample))\n",
    "    \n",
    "dfs = pd.concat(dfs)\n",
    "\n",
    "# Remove samples that are negative controls\n",
    "dfs = dfs.query(\"~sample.str.contains('negative')\", engine='python').reset_index(drop=True)\n",
    "dfs = dfs.query(\"~sample.str.contains('Negative')\", engine='python').reset_index(drop=True)\n",
    "dfs = dfs.query(\"~sample.str.contains('random')\", engine='python').reset_index(drop=True)\n",
    "dfs.shape"
   ]
  },
  {
   "cell_type": "markdown",
   "id": "2d333bd7",
   "metadata": {},
   "source": [
    "Convert the dataframe to amplicons x samples depth table. "
   ]
  },
  {
   "cell_type": "code",
   "execution_count": 121,
   "id": "e115d75f",
   "metadata": {},
   "outputs": [
    {
     "data": {
      "text/html": [
       "<div>\n",
       "<style scoped>\n",
       "    .dataframe tbody tr th:only-of-type {\n",
       "        vertical-align: middle;\n",
       "    }\n",
       "\n",
       "    .dataframe tbody tr th {\n",
       "        vertical-align: top;\n",
       "    }\n",
       "\n",
       "    .dataframe thead th {\n",
       "        text-align: right;\n",
       "    }\n",
       "</style>\n",
       "<table border=\"1\" class=\"dataframe\">\n",
       "  <thead>\n",
       "    <tr style=\"text-align: right;\">\n",
       "      <th>sample</th>\n",
       "      <th>Calvin_01</th>\n",
       "      <th>Calvin_02</th>\n",
       "      <th>Calvin_03</th>\n",
       "      <th>Calvin_04</th>\n",
       "      <th>Calvin_05</th>\n",
       "      <th>Calvin_06</th>\n",
       "      <th>Calvin_07</th>\n",
       "      <th>Calvin_08</th>\n",
       "      <th>Calvin_09</th>\n",
       "      <th>Calvin_10</th>\n",
       "      <th>...</th>\n",
       "      <th>VK7_dead_34</th>\n",
       "      <th>VK7_dead_34_dil</th>\n",
       "      <th>VK7_dead_35</th>\n",
       "      <th>VK7_dead_36</th>\n",
       "      <th>VK7_dead_37</th>\n",
       "      <th>VK7_dead_38</th>\n",
       "      <th>VK7_dead_39</th>\n",
       "      <th>VK7_dead_40</th>\n",
       "      <th>VK7_dead_41</th>\n",
       "      <th>VK7_dead_42</th>\n",
       "    </tr>\n",
       "    <tr>\n",
       "      <th>amplicon</th>\n",
       "      <th></th>\n",
       "      <th></th>\n",
       "      <th></th>\n",
       "      <th></th>\n",
       "      <th></th>\n",
       "      <th></th>\n",
       "      <th></th>\n",
       "      <th></th>\n",
       "      <th></th>\n",
       "      <th></th>\n",
       "      <th></th>\n",
       "      <th></th>\n",
       "      <th></th>\n",
       "      <th></th>\n",
       "      <th></th>\n",
       "      <th></th>\n",
       "      <th></th>\n",
       "      <th></th>\n",
       "      <th></th>\n",
       "      <th></th>\n",
       "      <th></th>\n",
       "    </tr>\n",
       "  </thead>\n",
       "  <tbody>\n",
       "    <tr>\n",
       "      <th>Agam_1</th>\n",
       "      <td>68.0</td>\n",
       "      <td>19.0</td>\n",
       "      <td>50.0</td>\n",
       "      <td>70.0</td>\n",
       "      <td>25.0</td>\n",
       "      <td>32.0</td>\n",
       "      <td>8.0</td>\n",
       "      <td>74.0</td>\n",
       "      <td>28.0</td>\n",
       "      <td>36.0</td>\n",
       "      <td>...</td>\n",
       "      <td>61.0</td>\n",
       "      <td>12.0</td>\n",
       "      <td>157.0</td>\n",
       "      <td>78.0</td>\n",
       "      <td>101.0</td>\n",
       "      <td>124.0</td>\n",
       "      <td>158.0</td>\n",
       "      <td>126.0</td>\n",
       "      <td>79.0</td>\n",
       "      <td>89.0</td>\n",
       "    </tr>\n",
       "    <tr>\n",
       "      <th>Agam_10</th>\n",
       "      <td>222.0</td>\n",
       "      <td>40.0</td>\n",
       "      <td>174.0</td>\n",
       "      <td>198.0</td>\n",
       "      <td>109.0</td>\n",
       "      <td>75.0</td>\n",
       "      <td>10.0</td>\n",
       "      <td>226.0</td>\n",
       "      <td>49.0</td>\n",
       "      <td>130.0</td>\n",
       "      <td>...</td>\n",
       "      <td>86.0</td>\n",
       "      <td>11.0</td>\n",
       "      <td>236.0</td>\n",
       "      <td>114.0</td>\n",
       "      <td>171.0</td>\n",
       "      <td>155.0</td>\n",
       "      <td>234.0</td>\n",
       "      <td>204.0</td>\n",
       "      <td>150.0</td>\n",
       "      <td>202.0</td>\n",
       "    </tr>\n",
       "  </tbody>\n",
       "</table>\n",
       "<p>2 rows × 661 columns</p>\n",
       "</div>"
      ],
      "text/plain": [
       "sample    Calvin_01  Calvin_02  Calvin_03  Calvin_04  Calvin_05  Calvin_06  \\\n",
       "amplicon                                                                     \n",
       "Agam_1         68.0       19.0       50.0       70.0       25.0       32.0   \n",
       "Agam_10       222.0       40.0      174.0      198.0      109.0       75.0   \n",
       "\n",
       "sample    Calvin_07  Calvin_08  Calvin_09  Calvin_10  ...  VK7_dead_34  \\\n",
       "amplicon                                              ...                \n",
       "Agam_1          8.0       74.0       28.0       36.0  ...         61.0   \n",
       "Agam_10        10.0      226.0       49.0      130.0  ...         86.0   \n",
       "\n",
       "sample    VK7_dead_34_dil  VK7_dead_35  VK7_dead_36  VK7_dead_37  VK7_dead_38  \\\n",
       "amplicon                                                                        \n",
       "Agam_1               12.0        157.0         78.0        101.0        124.0   \n",
       "Agam_10              11.0        236.0        114.0        171.0        155.0   \n",
       "\n",
       "sample    VK7_dead_39  VK7_dead_40  VK7_dead_41  VK7_dead_42  \n",
       "amplicon                                                      \n",
       "Agam_1          158.0        126.0         79.0         89.0  \n",
       "Agam_10         234.0        204.0        150.0        202.0  \n",
       "\n",
       "[2 rows x 661 columns]"
      ]
     },
     "execution_count": 121,
     "metadata": {},
     "output_type": "execute_result"
    }
   ],
   "source": [
    "depth_df = dfs.pivot(columns='sample', index='amplicon', values='depth')\n",
    "depth_df.head(2)"
   ]
  },
  {
   "cell_type": "markdown",
   "id": "0f6a1a85",
   "metadata": {},
   "source": [
    "Calculate the total reads per amplicon, and the total reads per sample."
   ]
  },
  {
   "cell_type": "code",
   "execution_count": 109,
   "id": "0019130d",
   "metadata": {},
   "outputs": [],
   "source": [
    "tot_per_amplicon = depth_df.sum(axis=1)\n",
    "tot_per_sample = depth_df.sum(axis=0)"
   ]
  },
  {
   "cell_type": "code",
   "execution_count": null,
   "id": "919513dc",
   "metadata": {},
   "outputs": [],
   "source": [
    "# sort the dataframe by total depth per amplicon and sample. Not necessary. \n",
    "\n",
    "# sample_order = tot_per_sample.sort_values().to_frame().reset_index()['sample'].to_list()\n",
    "# amplicon_order = tot_per_amplicon.sort_values().to_frame().reset_index()['amplicon'].to_list()\n",
    "# depth_df = depth_df.loc[amplicon_order, sample_order]"
   ]
  },
  {
   "cell_type": "markdown",
   "id": "d98d303b",
   "metadata": {},
   "source": [
    "Divide each value in the amplicon x sample table by the total reads per amplicon to get the fraction of amplicon/target reads. "
   ]
  },
  {
   "cell_type": "code",
   "execution_count": 120,
   "id": "40a681ca",
   "metadata": {},
   "outputs": [],
   "source": [
    "fraction_df = depth_df.divide(tot_per_amplicon, axis=0)"
   ]
  },
  {
   "cell_type": "markdown",
   "id": "5944bfe0",
   "metadata": {},
   "source": [
    "Find the median target fraction across all samples."
   ]
  },
  {
   "cell_type": "code",
   "execution_count": 123,
   "id": "d9598886",
   "metadata": {},
   "outputs": [
    {
     "data": {
      "text/plain": [
       "amplicon\n",
       "Agam_1     3.857433e-08\n",
       "Agam_10    1.576085e-08\n",
       "Agam_11    3.033801e-08\n",
       "Agam_12    1.377803e-08\n",
       "Agam_13    6.351626e-08\n",
       "               ...     \n",
       "Agam_8     9.922454e-08\n",
       "Agam_80    3.358414e-08\n",
       "Agam_81    0.000000e+00\n",
       "Agam_82    0.000000e+00\n",
       "Agam_9     3.697632e-08\n",
       "Length: 82, dtype: float64"
      ]
     },
     "execution_count": 123,
     "metadata": {},
     "output_type": "execute_result"
    }
   ],
   "source": [
    "med_read_fractions = fraction_df.median(axis=1)\n",
    "med_read_fractions"
   ]
  },
  {
   "cell_type": "markdown",
   "id": "36f02ab1",
   "metadata": {},
   "source": [
    "And the total sum of the median read fractions..."
   ]
  },
  {
   "cell_type": "code",
   "execution_count": 125,
   "id": "d9334f05",
   "metadata": {},
   "outputs": [],
   "source": [
    "med_read_fraction_sum = med_read_fractions.sum()"
   ]
  },
  {
   "cell_type": "markdown",
   "id": "b3af9e48",
   "metadata": {},
   "source": [
    "Scale it so they all add up to 1. "
   ]
  },
  {
   "cell_type": "code",
   "execution_count": 131,
   "id": "03d414fd",
   "metadata": {},
   "outputs": [],
   "source": [
    "scaled_med_read_fractions = med_read_fractions * (1/med_read_fraction_sum)\n",
    "scaled_med_read_fractions"
   ]
  },
  {
   "cell_type": "markdown",
   "id": "be6f47da",
   "metadata": {},
   "source": [
    "Take the scaled median read fraction for each amplicon, and put it to the power of -0.561 (the magic number). "
   ]
  },
  {
   "cell_type": "code",
   "execution_count": 134,
   "id": "b04deece",
   "metadata": {
    "scrolled": true
   },
   "outputs": [],
   "source": [
    "primer_volumes = scaled_med_read_fractions**-0.561"
   ]
  },
  {
   "cell_type": "markdown",
   "id": "9d46d81d",
   "metadata": {},
   "source": [
    "The pool weightings can be interpreted directly as the volumes to add of each target’s primer pair in a pool, however in order to reduce inaccuracies associated with pipetting small volumes it is prudent to scale all the weightings such that the minimum weight in the pool is 1 (so that the minimum volume pipetted is 1µl); "
   ]
  },
  {
   "cell_type": "code",
   "execution_count": 137,
   "id": "5b7f5a35",
   "metadata": {},
   "outputs": [],
   "source": [
    "primer_volumes = primer_volumes / min(primer_volumes)"
   ]
  },
  {
   "cell_type": "markdown",
   "id": "5488de8e",
   "metadata": {},
   "source": [
    "Primer pairs which generate only very small read fractions can be overweighted by the primer rebalancing algorithm, which leads to them dominating the reads from the resultant rebalanced pool. Given that very poorly performing primers may hint at a design issue, it has been empirically determined to be prudent to ‘clip’ the maximum pool weighting to 10x the minimum. Given that the minimum pool weight has been scaled to 1, the maximum volume of primer pair that can be added is 10µl."
   ]
  },
  {
   "cell_type": "code",
   "execution_count": 140,
   "id": "312acd94",
   "metadata": {},
   "outputs": [],
   "source": [
    "primer_volumes = np.clip(primer_volumes, 0, 10)"
   ]
  },
  {
   "cell_type": "markdown",
   "id": "345bb3e6",
   "metadata": {},
   "source": [
    "Calculate the sum of the pool weightings, and the interquartile mean pool weighting; we use the interquartile mean rather than the arithmetic mean so as to allow us to ignore the effect of clipping any overweighted targets to 10x the minimum"
   ]
  },
  {
   "cell_type": "code",
   "execution_count": 143,
   "id": "c96ca101",
   "metadata": {},
   "outputs": [
    {
     "data": {
      "text/plain": [
       "585.9869569294103"
      ]
     },
     "execution_count": 143,
     "metadata": {},
     "output_type": "execute_result"
    }
   ],
   "source": [
    "primer_volumes.sum()"
   ]
  },
  {
   "cell_type": "code",
   "execution_count": 145,
   "id": "71e7601b",
   "metadata": {},
   "outputs": [
    {
     "data": {
      "text/plain": [
       "3.731180598479294"
      ]
     },
     "execution_count": 145,
     "metadata": {},
     "output_type": "execute_result"
    }
   ],
   "source": [
    "iqr = np.subtract(*np.percentile(primer_volumes, [75, 25]))\n",
    "iqr"
   ]
  },
  {
   "cell_type": "markdown",
   "id": "87e9a79a",
   "metadata": {},
   "source": [
    "Calculate (IQM pool weighting/sum of weightings) and multiply by 250000nM (the concentration of the primer pairs in the source plate) to obtain the ‘central’ primer concentration for the pool in nM."
   ]
  },
  {
   "cell_type": "code",
   "execution_count": 149,
   "id": "8a449d0a",
   "metadata": {},
   "outputs": [
    {
     "data": {
      "text/plain": [
       "1591.836027388218"
      ]
     },
     "execution_count": 149,
     "metadata": {},
     "output_type": "execute_result"
    }
   ],
   "source": [
    "central_primer_conc = iqr/primer_volumes.sum() * 250_000\n",
    "central_primer_conc"
   ]
  },
  {
   "cell_type": "markdown",
   "id": "c8925f55",
   "metadata": {},
   "source": [
    "Calculate the dilution factor required to dilute this pool to 40nM working concentration as (central pool concentration/40). "
   ]
  },
  {
   "cell_type": "code",
   "execution_count": 150,
   "id": "3b4c8a0e",
   "metadata": {},
   "outputs": [
    {
     "data": {
      "text/plain": [
       "39.79590068470545"
      ]
     },
     "execution_count": 150,
     "metadata": {},
     "output_type": "execute_result"
    }
   ],
   "source": [
    "working_conc_40nm = central_primer_conc/40\n",
    "working_conc_40nm"
   ]
  }
 ],
 "metadata": {
  "kernelspec": {
   "display_name": "Python 3 (ipykernel)",
   "language": "python",
   "name": "python3"
  },
  "language_info": {
   "codemirror_mode": {
    "name": "ipython",
    "version": 3
   },
   "file_extension": ".py",
   "mimetype": "text/x-python",
   "name": "python",
   "nbconvert_exporter": "python",
   "pygments_lexer": "ipython3",
   "version": "3.10.10"
  }
 },
 "nbformat": 4,
 "nbformat_minor": 5
}
