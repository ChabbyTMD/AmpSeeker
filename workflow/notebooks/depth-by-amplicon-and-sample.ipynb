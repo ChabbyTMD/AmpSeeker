{
 "cells": [
  {
   "cell_type": "code",
   "execution_count": null,
   "metadata": {
    "tags": [
     "remove-input"
    ]
   },
   "outputs": [],
   "source": [
    "import pandas as pd\n",
    "import numpy as np\n",
    "import plotly.express as px\n",
    "\n",
    "def natural_sort( l ): \n",
    "    import re \n",
    "    \"\"\" Sort the given iterable in the way that humans expect.\"\"\" \n",
    "    convert = lambda text: int(text) if text.isdigit() else text \n",
    "    alphanum_key = lambda key: [ convert(c) for c in re.split('([0-9]+)', key) ] \n",
    "    return sorted(l, key = alphanum_key)"
   ]
  },
  {
   "cell_type": "code",
   "execution_count": null,
   "metadata": {
    "tags": [
     "parameters",
     "remove-input"
    ]
   },
   "outputs": [],
   "source": [
    "metadata_path = '../../config/metadata.tsv'\n",
    "bed_targets_path = \"../../config/AgamDao.bed\"\n",
    "wkdir = \"\""
   ]
  },
  {
   "cell_type": "markdown",
   "metadata": {},
   "source": [
    "### Read depth by sample and amplicon\n",
    "\n",
    "In this notebook, we calculate coverage at each amplicon for each sample. "
   ]
  },
  {
   "cell_type": "code",
   "execution_count": null,
   "metadata": {
    "tags": [
     "remove-input"
    ]
   },
   "outputs": [],
   "source": [
    "# load panel metadata\n",
    "if metadata_path.endswith('.xlsx'):\n",
    "    metadata = pd.read_excel(metadata_path, engine='openpyxl')\n",
    "elif metadata_path.endswith('.tsv'):\n",
    "    metadata = pd.read_csv(metadata_path, sep=\"\\t\")\n",
    "elif metadata_path.endswith('.csv'):\n",
    "    metadata = pd.read_csv(metadata_path, sep=\",\")\n",
    "else:\n",
    "    raise ValueError(\"Metadata file must be .xlsx or .csv\")\n",
    "\n",
    "panel_metadata = pd.read_csv(bed_targets_path, sep=\"\\t\")\n",
    "panel_metadata.columns = ['chrom', 'start', 'end', 'snp_target', 'type']\n",
    "contigs = panel_metadata.chrom.unique()"
   ]
  },
  {
   "cell_type": "code",
   "execution_count": null,
   "metadata": {
    "tags": [
     "remove-input"
    ]
   },
   "outputs": [],
   "source": [
    "# Loop through each sample and read coverage table and concat \n",
    "cov_list = []\n",
    "for sampleID in metadata['sampleID']:\n",
    "    cov_df = pd.read_csv(f\"../../results/coverage/{sampleID}.per-base.bed.gz\", sep=\"\\t\", header=None)\n",
    "    cov_df.columns = [\"chrom\", \"start\", \"end\", \"depth\"]\n",
    "    cov_df = cov_df.assign(sampleID=sampleID).query(\"chrom in @contigs\")\n",
    "    cov_list.append(cov_df)\n",
    "\n",
    "cov_df = pd.concat(cov_list, axis=0)\n",
    "\n",
    "def filter_and_add_snp_target_loc(dataframe, panel_metadata):\n",
    "    # Initialize an empty list to store the filtered DataFrames for each contig\n",
    "    filtered_dfs = []\n",
    "    \n",
    "    # Loop through each unique 'contig' in the snp_target_locs DataFrame\n",
    "    for contig in panel_metadata['chrom'].unique():\n",
    "        # Get the snp_target_locs for the current contig\n",
    "        contig_snp_locs = panel_metadata[panel_metadata['chrom'] == contig]['start'].tolist()\n",
    "        \n",
    "        # Create a filtered DataFrame for the current contig\n",
    "        filtered_rows = []\n",
    "        for index, row in dataframe[dataframe['chrom'] == contig].iterrows():\n",
    "            matching_locs = [loc for loc in contig_snp_locs if row['start'] <= loc < row['end']]\n",
    "            if matching_locs:\n",
    "                filtered_rows.append(row.to_dict())\n",
    "        \n",
    "        # Convert the filtered rows to a DataFrame\n",
    "        filtered_df = pd.DataFrame(filtered_rows)\n",
    "        \n",
    "        # Add a new column 'snp_target_loc' and populate it with the matching snp_target_loc values\n",
    "        filtered_df['snp_target_loc'] = [next(iter([loc for loc in contig_snp_locs if row['start'] <= loc < row['end']]), None) for _, row in filtered_df.iterrows()]\n",
    "        \n",
    "        # Append the filtered DataFrame to the list\n",
    "        filtered_dfs.append(filtered_df)\n",
    "    \n",
    "    # Concatenate all the filtered DataFrames into a final DataFrame\n",
    "    final_filtered_df = pd.concat(filtered_dfs)\n",
    "    \n",
    "    return final_filtered_df"
   ]
  },
  {
   "cell_type": "code",
   "execution_count": null,
   "metadata": {
    "tags": [
     "remove-input"
    ]
   },
   "outputs": [],
   "source": [
    "# filter out coverage at other regions and take mean coverage where we have multiple \n",
    "# depth values within an amplicon\n",
    "cov_df = filter_and_add_snp_target_loc(cov_df, panel_metadata)\n",
    "cov_df = cov_df.drop(columns=['start', 'end']).rename(columns={'snp_target_loc':'start'}).merge(panel_metadata)\n",
    "cov_df = cov_df.rename(columns={'snp_target':'amplicon'})\n",
    "cov_df = cov_df.groupby(['sampleID', 'amplicon']).agg({'depth':'mean'}).reset_index()\n",
    "\n",
    "# pivot to amplicon x sample depth table \n",
    "cov_sample_by_amplicon = cov_df.pivot(values='depth', index='amplicon', columns='sampleID').fillna(0)\n",
    "\n",
    "# add in amplicons not present in data at all due to zero coverage\n",
    "present = cov_sample_by_amplicon.index.to_list()\n",
    "not_present = [i for i in panel_metadata.snp_target.to_list() if i not in present]\n",
    "not_present_df = pd.DataFrame(np.zeros((len(not_present), len(metadata.sampleID))), index=not_present, columns=metadata.sampleID)\n",
    "df = pd.concat([cov_sample_by_amplicon, not_present_df])\n",
    "\n",
    "# reorder amplicons alphabetical\n",
    "order = natural_sort(df.index.to_list())\n",
    "df = df.loc[order]\n",
    "\n",
    "df.to_excel(\"results/coverage/amplicon_by_sample_depth.xlsx\")"
   ]
  },
  {
   "cell_type": "code",
   "execution_count": null,
   "metadata": {
    "tags": [
     "remove-input"
    ]
   },
   "outputs": [],
   "source": [
    "from IPython.display import display, Markdown\n",
    "display(Markdown(f'<a href=\"{wkdir}/results/coverage/amplicon_by_sample_depth.xlsx\">Amplicon by sample read depth (.xlsx)</a>'))"
   ]
  },
  {
   "cell_type": "code",
   "execution_count": null,
   "metadata": {
    "tags": [
     "remove-input"
    ]
   },
   "outputs": [],
   "source": [
    "px.imshow(df, width=1000, height=1000, color_continuous_scale='blues')"
   ]
  }
 ],
 "metadata": {
  "celltoolbar": "Tags",
  "kernelspec": {
   "display_name": "Python 3 (ipykernel)",
   "language": "python",
   "name": "python3"
  },
  "language_info": {
   "codemirror_mode": {
    "name": "ipython",
    "version": 3
   },
   "file_extension": ".py",
   "mimetype": "text/x-python",
   "name": "python",
   "nbconvert_exporter": "python",
   "pygments_lexer": "ipython3",
   "version": "3.10.10"
  },
  "vscode": {
   "interpreter": {
    "hash": "ce681de973941d5edd9bd94c9a2926b7fe65e17e578a68317f38265a230b8ca7"
   }
  }
 },
 "nbformat": 4,
 "nbformat_minor": 2
}
