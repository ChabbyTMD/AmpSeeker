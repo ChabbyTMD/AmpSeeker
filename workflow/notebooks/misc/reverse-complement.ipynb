{
 "cells": [
  {
   "cell_type": "code",
   "execution_count": 2,
   "id": "5d6a757a",
   "metadata": {},
   "outputs": [],
   "source": [
    "import numpy as np\n",
    "import pandas as pd\n",
    "\n",
    "def _rev_complement(seq):\n",
    "    BASES = \"NRWSMBDACGTHVKSWY\"\n",
    "    return \"\".join([BASES[-j] for j in [BASES.find(i) for i in seq][::-1]])\n",
    "\n",
    "my_rev_comp = np.vectorize(_rev_complement)"
   ]
  },
  {
   "cell_type": "code",
   "execution_count": 3,
   "id": "5cca0efc",
   "metadata": {},
   "outputs": [],
   "source": [
    "sample_sheet = pd.read_csv(\"../resources/230530_M02853_0061_000000000-L23TH/SampleSheet.csv\", skiprows=19)\n",
    "sample_sheet = sample_sheet.assign(index = my_rev_comp(sample_sheet['index']))"
   ]
  },
  {
   "cell_type": "code",
   "execution_count": 5,
   "id": "feac4c28",
   "metadata": {},
   "outputs": [],
   "source": [
    "# write to file so we can copy new index to sample sheet (manually!)\n",
    "sample_sheet.to_csv(\"new_index.tsv\", sep=\"\\t\")"
   ]
  }
 ],
 "metadata": {
  "kernelspec": {
   "display_name": "Python 3 (ipykernel)",
   "language": "python",
   "name": "python3"
  },
  "language_info": {
   "codemirror_mode": {
    "name": "ipython",
    "version": 3
   },
   "file_extension": ".py",
   "mimetype": "text/x-python",
   "name": "python",
   "nbconvert_exporter": "python",
   "pygments_lexer": "ipython3",
   "version": "3.10.10"
  }
 },
 "nbformat": 4,
 "nbformat_minor": 5
}
