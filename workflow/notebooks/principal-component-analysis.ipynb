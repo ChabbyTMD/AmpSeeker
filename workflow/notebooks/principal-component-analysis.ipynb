{
 "cells": [
  {
   "cell_type": "code",
   "execution_count": 7,
   "id": "8c01954f",
   "metadata": {
    "tags": [
     "remove-input"
    ]
   },
   "outputs": [],
   "source": [
    "import allel\n",
    "import numpy as np\n",
    "import pandas as pd \n",
    "import plotly.express as px\n",
    "\n",
    "def load_vcf(vcf_path, metadata):\n",
    "    \"\"\"\n",
    "    Load VCF and filter poor-quality samples\n",
    "    \"\"\"\n",
    "    \n",
    "    sampleIDs = metadata.sampleID.to_list()\n",
    "    \n",
    "    # load vcf and get genotypes and positions\n",
    "    vcf = allel.read_vcf(vcf_path, fields='*')\n",
    "    samples = vcf['samples']\n",
    "    # keep only samples in qcpass metadata \n",
    "    sample_mask = np.isin(vcf['samples'], metadata.sampleID)\n",
    "    \n",
    "    # remove low quality samples \n",
    "    geno = allel.GenotypeArray(vcf['calldata/GT'])\n",
    "    geno = geno.compress(sample_mask, axis=1)\n",
    "    pos = vcf['variants/POS']\n",
    "    contig = vcf['variants/CHROM']\n",
    "    indel = vcf['variants/INDEL']\n",
    "    \n",
    "    # remove indels \n",
    "    geno = geno.compress(~indel, axis=0)\n",
    "    pos = pos[~indel]\n",
    "    contig = contig[~indel]\n",
    "    \n",
    "    return geno, pos, contig, samples[sample_mask]\n",
    "\n",
    "def pca(metadata_path, vcf_path, n_components = 6):\n",
    "    \"\"\"\n",
    "    Load genotype data and run PCA \n",
    "    \"\"\"\n",
    "    if metadata_path.endswith('.xlsx'):\n",
    "        metadata = pd.read_excel(metadata_path, engine='openpyxl')\n",
    "    elif metadata_path.endswith('.tsv'):\n",
    "        metadata = pd.read_csv(metadata_path, sep=\"\\t\")\n",
    "    elif metadata_path.endswith('.csv'):\n",
    "        metadata = pd.read_csv(metadata_path, sep=\",\")\n",
    "    else:\n",
    "        raise ValueError(\"Metadata file must be .xlsx or .csv\")\n",
    "\n",
    "    geno, pos, contig, samples = load_vcf(vcf_path, metadata)\n",
    "    \n",
    "    ac = geno.count_alleles()\n",
    "    gn_alt = geno.to_n_alt()\n",
    "\n",
    "    print(\"removing any invariant sites\")\n",
    "    loc_var = np.any(gn_alt != gn_alt[:, 0, np.newaxis], axis=1)\n",
    "    gn_var = np.compress(loc_var, gn_alt, axis=0)\n",
    "    \n",
    "    coords, model = allel.pca(gn_var, n_components=n_components)\n",
    "    # flip axes back so PC1 is same orientation in each window \n",
    "    for i in range(n_components):\n",
    "        c = coords[:, i]\n",
    "    if np.abs(c.min()) > np.abs(c.max()):\n",
    "        coords[:, i] = c * -1\n",
    "    \n",
    "    pca_df = pd.DataFrame(coords)\n",
    "    pca_df.columns = [f\"PC{pc+1}\" for pc in range(n_components)]\n",
    "    pca_df = pd.concat([metadata, pca_df], axis=1)\n",
    "    \n",
    "    return pca_df, model\n",
    "\n",
    "def plot_pca(pca_df, colour_column, cohort_columns):\n",
    "    fig1 = px.scatter(\n",
    "        pca_df, \n",
    "        x='PC1', \n",
    "        y='PC2', \n",
    "        title=f\"PCA {dataset} | PC1 vs PC2 | coloured by {colour_column}\", \n",
    "        color=colour_column, \n",
    "        hover_data=cohort_columns, \n",
    "        template='simple_white'\n",
    "    )\n",
    "    \n",
    "    fig2 = px.scatter(\n",
    "        pca_df, \n",
    "        x='PC3', \n",
    "        y='PC4', \n",
    "        title=f\"PCA {dataset} | PC3 vs PC4 | coloured by {colour_column}\", \n",
    "        color=colour_column, \n",
    "        hover_data=cohort_columns,\n",
    "        template='simple_white'\n",
    "    )\n",
    "    return fig1, fig2\n",
    "    "
   ]
  },
  {
   "cell_type": "code",
   "execution_count": null,
   "id": "d6302ed5",
   "metadata": {
    "tags": [
     "parameters",
     "remove-input"
    ]
   },
   "outputs": [],
   "source": [
    "dataset = 'ampseq-vigg-01'\n",
    "vcf_path = f\"../../results/vcfs/targets/{dataset}.annot.vcf\"\n",
    "metadata_path = \"../../results/config/metadata.qcpass.tsv\"\n",
    "cohort_cols = 'taxon,location'"
   ]
  },
  {
   "cell_type": "markdown",
   "id": "696938a0",
   "metadata": {},
   "source": [
    "## PCA\n",
    "\n",
    "In this notebook, we run a principal components analysis on the amplicon sequencing variant data, plotting PC1 v PC2 and PC3 v PC4, and the variance explained by the model."
   ]
  },
  {
   "cell_type": "code",
   "execution_count": null,
   "id": "a7ae6392",
   "metadata": {
    "tags": [
     "remove-input",
     "remove-output"
    ]
   },
   "outputs": [],
   "source": [
    "cohort_cols = cohort_cols.split(\",\")\n",
    "pca_df, model = pca(metadata_path, vcf_path)"
   ]
  },
  {
   "cell_type": "markdown",
   "id": "8b018edf",
   "metadata": {},
   "source": [
    "### Variance explained\n",
    "\n",
    "As a general rule of thumb, when the variance explained for each PC begins to flatten out, that is when the PCs are no longer informative."
   ]
  },
  {
   "cell_type": "code",
   "execution_count": null,
   "id": "572a0d44",
   "metadata": {
    "tags": [
     "remove-input"
    ]
   },
   "outputs": [],
   "source": [
    "fig = px.bar(model.explained_variance_ratio_ , labels={\n",
    "                     \"value\": \"Variance Explained\",\n",
    "                     \"index\": \"Principal Component\",\n",
    "                 }, template='simple_white')\n",
    "fig.update_layout(showlegend=False)\n",
    "\n",
    "fig.show()"
   ]
  },
  {
   "cell_type": "markdown",
   "id": "1f9b98cf",
   "metadata": {},
   "source": [
    "### PCA"
   ]
  },
  {
   "cell_type": "code",
   "execution_count": null,
   "id": "da0e807c",
   "metadata": {
    "scrolled": false,
    "tags": [
     "remove-input"
    ]
   },
   "outputs": [],
   "source": [
    "for coh in cohort_cols:\n",
    "    fig1, fig2 = plot_pca(pca_df, colour_column=coh, cohort_columns=cohort_cols)\n",
    "    fig1.show()\n",
    "    fig2.show()"
   ]
  },
  {
   "cell_type": "code",
   "execution_count": null,
   "id": "62029894",
   "metadata": {},
   "outputs": [],
   "source": []
  }
 ],
 "metadata": {
  "celltoolbar": "Tags",
  "kernelspec": {
   "display_name": "Python 3 (ipykernel)",
   "language": "python",
   "name": "python3"
  },
  "language_info": {
   "codemirror_mode": {
    "name": "ipython",
    "version": 3
   },
   "file_extension": ".py",
   "mimetype": "text/x-python",
   "name": "python",
   "nbconvert_exporter": "python",
   "pygments_lexer": "ipython3",
   "version": "3.10.10"
  }
 },
 "nbformat": 4,
 "nbformat_minor": 5
}
