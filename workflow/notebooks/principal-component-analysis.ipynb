{
 "cells": [
  {
   "cell_type": "code",
   "execution_count": null,
   "id": "8c01954f",
   "metadata": {},
   "outputs": [],
   "source": [
    "import allel\n",
    "import numpy as np\n",
    "import pandas as pd \n",
    "import plotly.express as px\n",
    "\n",
    "def pca(metadata_path, vcf_path, n_components = 6):\n",
    "    \"\"\"\n",
    "    Load genotype data and run PCA \n",
    "    \"\"\"\n",
    "    metadata = pd.read_csv(metadata_path, sep=\"\\t\")\n",
    "    vcf = allel.read_vcf(vcf_path)\n",
    "    \n",
    "    # sampleIDs = vcf['samples']\n",
    "    geno = allel.GenotypeArray(vcf['calldata/GT'])\n",
    "    # pos = vcf['variants/POS']\n",
    "    # contig = vcf['variants/CHROM']\n",
    "    # qual = vcf['variants/QUAL']\n",
    "    \n",
    "    ac = geno.count_alleles()\n",
    "    gn_alt = geno.to_n_alt()\n",
    "\n",
    "    print(\"removing any invariant sites\")\n",
    "    loc_var = np.any(gn_alt != gn_alt[:, 0, np.newaxis], axis=1)\n",
    "    gn_var = np.compress(loc_var, gn_alt, axis=0)\n",
    "    \n",
    "    coords, model = allel.pca(gn_var, n_components=n_components)\n",
    "    # flip axes back so PC1 is same orientation in each window \n",
    "    for i in range(n_components):\n",
    "        c = coords[:, i]\n",
    "    if np.abs(c.min()) > np.abs(c.max()):\n",
    "        coords[:, i] = c * -1\n",
    "    \n",
    "    pca_df = pd.DataFrame(coords)\n",
    "    pca_df.columns = [f\"PC{pc+1}\" for pc in range(n_components)]\n",
    "    pca_df = pd.concat([metadata, pca_df], axis=1)\n",
    "    \n",
    "    return pca_df, model"
   ]
  },
  {
   "cell_type": "code",
   "execution_count": null,
   "id": "d6302ed5",
   "metadata": {
    "tags": [
     "parameters"
    ]
   },
   "outputs": [],
   "source": [
    "dataset = 'gaard-agamdao'\n",
    "vcf_path = f\"../../results/vcfs/{dataset}.merged.vcf\"\n",
    "metadata_path = \"../../config/metadata.tsv\""
   ]
  },
  {
   "cell_type": "markdown",
   "id": "696938a0",
   "metadata": {},
   "source": [
    "## PCA\n",
    "\n",
    "In this notebook, we run a principal components analysis on the amplicon sequencing variant data, plotting PC1 v PC2 and PC3 v PC4, and the variance explained by the model."
   ]
  },
  {
   "cell_type": "code",
   "execution_count": null,
   "id": "a7ae6392",
   "metadata": {},
   "outputs": [],
   "source": [
    "pca_df, model = pca(metadata_path, vcf_path)"
   ]
  },
  {
   "cell_type": "markdown",
   "id": "8b018edf",
   "metadata": {},
   "source": [
    "### Variance explained\n",
    "\n",
    "As a general rule of thumb, when the variance explained for each PC begins to flatten out, that is when the PCs are no longer informative."
   ]
  },
  {
   "cell_type": "code",
   "execution_count": null,
   "id": "572a0d44",
   "metadata": {},
   "outputs": [],
   "source": [
    "px.bar(model.explained_variance_ratio_)"
   ]
  },
  {
   "cell_type": "markdown",
   "id": "1f9b98cf",
   "metadata": {},
   "source": [
    "### PC1 v PC2"
   ]
  },
  {
   "cell_type": "code",
   "execution_count": null,
   "id": "da0e807c",
   "metadata": {},
   "outputs": [],
   "source": [
    "fig = px.scatter(\n",
    "    pca_df, \n",
    "    x='PC1', \n",
    "    y='PC2', \n",
    "    title=f\"PCA {dataset}\", \n",
    "    color='taxon', \n",
    "    hover_data=['country', 'location'])\n",
    "\n",
    "fig"
   ]
  },
  {
   "cell_type": "markdown",
   "id": "e84fa81a",
   "metadata": {},
   "source": [
    "### PC3 v PC4"
   ]
  },
  {
   "cell_type": "code",
   "execution_count": null,
   "id": "cf916920",
   "metadata": {},
   "outputs": [],
   "source": [
    "fig = px.scatter(\n",
    "    pca_df, \n",
    "    x='PC3', \n",
    "    y='PC4', \n",
    "    title=f\"PCA {dataset}\", \n",
    "    color='taxon', \n",
    "    hover_data=['country', 'location'])\n",
    "\n",
    "fig"
   ]
  }
 ],
 "metadata": {
  "kernelspec": {
   "display_name": "AmpSeq_python",
   "language": "python",
   "name": "ampseq_python"
  },
  "language_info": {
   "codemirror_mode": {
    "name": "ipython",
    "version": 3
   },
   "file_extension": ".py",
   "mimetype": "text/x-python",
   "name": "python",
   "nbconvert_exporter": "python",
   "pygments_lexer": "ipython3",
   "version": "3.9.16"
  }
 },
 "nbformat": 4,
 "nbformat_minor": 5
}
