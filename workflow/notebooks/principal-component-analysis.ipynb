{
 "cells": [
  {
   "cell_type": "code",
   "execution_count": 1,
   "id": "8c01954f",
   "metadata": {},
   "outputs": [],
   "source": [
    "import allel\n",
    "import numpy as np\n",
    "import pandas as pd \n",
    "import plotly.express as px\n",
    "\n",
    "def pca(metadata_path, vcf_path):\n",
    "    \"\"\"\n",
    "    Load genotype data and run PCA \n",
    "    \"\"\"\n",
    "    metadata = pd.read_csv(metadata_path, sep=\"\\t\")\n",
    "    vcf = allel.read_vcf(vcf_path)\n",
    "    \n",
    "    # sampleIDs = vcf['samples']\n",
    "    geno = allel.GenotypeArray(vcf['calldata/GT'])\n",
    "    # pos = vcf['variants/POS']\n",
    "    # contig = vcf['variants/CHROM']\n",
    "    # qual = vcf['variants/QUAL']\n",
    "    \n",
    "    ac = geno.count_alleles()\n",
    "    gn_alt = geno.to_n_alt()\n",
    "\n",
    "    print(\"removing any invariant sites\")\n",
    "    loc_var = np.any(gn_alt != gn_alt[:, 0, np.newaxis], axis=1)\n",
    "    gn_var = np.compress(loc_var, gn_alt, axis=0)\n",
    "    \n",
    "    coords, model = allel.pca(gn_var, n_components=10)\n",
    "    # flip axes back so PC1 is same orientation in each window \n",
    "    for i in range(10):\n",
    "        c = coords[:, i]\n",
    "    if np.abs(c.min()) > np.abs(c.max()):\n",
    "        coords[:, i] = c * -1\n",
    "    \n",
    "    pca_df = pd.DataFrame(coords)\n",
    "    pca_df.columns = [f\"PC{pc+1}\" for pc in range(10)]\n",
    "    pca_df = pd.concat([metadata, pca_df], axis=1)\n",
    "    \n",
    "    return pca_df, model"
   ]
  },
  {
   "cell_type": "code",
   "execution_count": 33,
   "id": "d6302ed5",
   "metadata": {
    "tags": [
     "parameters"
    ]
   },
   "outputs": [],
   "source": [
    "dataset = 'gaard-agamdao'\n",
    "vcf_path = f\"../../results/vcfs/{dataset}.merged.vcf\"\n",
    "metadata_path = \"../../config/metadata.tsv\""
   ]
  },
  {
   "cell_type": "markdown",
   "id": "696938a0",
   "metadata": {},
   "source": [
    "## PCA\n",
    "\n",
    "In this notebook, we run a principal components analysis on the amplicon sequencing variant data, plotting PC1 v PC2 and PC3 v PC4, and the variance explained by the model."
   ]
  },
  {
   "cell_type": "code",
   "execution_count": 44,
   "id": "a7ae6392",
   "metadata": {},
   "outputs": [
    {
     "name": "stdout",
     "output_type": "stream",
     "text": [
      "removing any invariant sites\n"
     ]
    },
    {
     "name": "stderr",
     "output_type": "stream",
     "text": [
      "/home/sanj/apps/mambaforge/lib/python3.10/site-packages/allel/io/vcf_read.py:1732: UserWarning:\n",
      "\n",
      "invalid INFO header: '##INFO=<ID=VDB,Number=1,Type=Float,Description=\"Variant Distance Bias for filtering splice-site artefacts in RNA-seq data (bigger is better)\",Version=\"3\">\\n'\n",
      "\n"
     ]
    }
   ],
   "source": [
    "pca_df, model = pca(metadata_path, vcf_path)"
   ]
  },
  {
   "cell_type": "markdown",
   "id": "8b018edf",
   "metadata": {},
   "source": [
    "### Variance explained\n",
    "\n",
    "As a general rule of thumb, when the variance explained for each PC begins to flatten out, that is when the PCs are no longer informative."
   ]
  },
  {
   "cell_type": "code",
   "execution_count": 46,
   "id": "572a0d44",
   "metadata": {},
   "outputs": [
    {
     "data": {
      "application/vnd.plotly.v1+json": {
       "config": {
        "plotlyServerURL": "https://plot.ly"
       },
       "data": [
        {
         "alignmentgroup": "True",
         "hovertemplate": "variable=0<br>index=%{x}<br>value=%{y}<extra></extra>",
         "legendgroup": "0",
         "marker": {
          "color": "#636efa",
          "pattern": {
           "shape": ""
          }
         },
         "name": "0",
         "offsetgroup": "0",
         "orientation": "v",
         "showlegend": true,
         "textposition": "auto",
         "type": "bar",
         "x": [
          0,
          1,
          2,
          3,
          4,
          5,
          6,
          7,
          8,
          9
         ],
         "xaxis": "x",
         "y": [
          0.6457670331001282,
          0.08322528749704361,
          0.02973082847893238,
          0.024920761585235596,
          0.021556267514824867,
          0.02032691240310669,
          0.019137004390358925,
          0.018096745014190674,
          0.0162239670753479,
          0.014421720989048481
         ],
         "yaxis": "y"
        }
       ],
       "layout": {
        "barmode": "relative",
        "legend": {
         "title": {
          "text": "variable"
         },
         "tracegroupgap": 0
        },
        "margin": {
         "t": 60
        },
        "template": {
         "data": {
          "bar": [
           {
            "error_x": {
             "color": "#2a3f5f"
            },
            "error_y": {
             "color": "#2a3f5f"
            },
            "marker": {
             "line": {
              "color": "#E5ECF6",
              "width": 0.5
             },
             "pattern": {
              "fillmode": "overlay",
              "size": 10,
              "solidity": 0.2
             }
            },
            "type": "bar"
           }
          ],
          "barpolar": [
           {
            "marker": {
             "line": {
              "color": "#E5ECF6",
              "width": 0.5
             },
             "pattern": {
              "fillmode": "overlay",
              "size": 10,
              "solidity": 0.2
             }
            },
            "type": "barpolar"
           }
          ],
          "carpet": [
           {
            "aaxis": {
             "endlinecolor": "#2a3f5f",
             "gridcolor": "white",
             "linecolor": "white",
             "minorgridcolor": "white",
             "startlinecolor": "#2a3f5f"
            },
            "baxis": {
             "endlinecolor": "#2a3f5f",
             "gridcolor": "white",
             "linecolor": "white",
             "minorgridcolor": "white",
             "startlinecolor": "#2a3f5f"
            },
            "type": "carpet"
           }
          ],
          "choropleth": [
           {
            "colorbar": {
             "outlinewidth": 0,
             "ticks": ""
            },
            "type": "choropleth"
           }
          ],
          "contour": [
           {
            "colorbar": {
             "outlinewidth": 0,
             "ticks": ""
            },
            "colorscale": [
             [
              0,
              "#0d0887"
             ],
             [
              0.1111111111111111,
              "#46039f"
             ],
             [
              0.2222222222222222,
              "#7201a8"
             ],
             [
              0.3333333333333333,
              "#9c179e"
             ],
             [
              0.4444444444444444,
              "#bd3786"
             ],
             [
              0.5555555555555556,
              "#d8576b"
             ],
             [
              0.6666666666666666,
              "#ed7953"
             ],
             [
              0.7777777777777778,
              "#fb9f3a"
             ],
             [
              0.8888888888888888,
              "#fdca26"
             ],
             [
              1,
              "#f0f921"
             ]
            ],
            "type": "contour"
           }
          ],
          "contourcarpet": [
           {
            "colorbar": {
             "outlinewidth": 0,
             "ticks": ""
            },
            "type": "contourcarpet"
           }
          ],
          "heatmap": [
           {
            "colorbar": {
             "outlinewidth": 0,
             "ticks": ""
            },
            "colorscale": [
             [
              0,
              "#0d0887"
             ],
             [
              0.1111111111111111,
              "#46039f"
             ],
             [
              0.2222222222222222,
              "#7201a8"
             ],
             [
              0.3333333333333333,
              "#9c179e"
             ],
             [
              0.4444444444444444,
              "#bd3786"
             ],
             [
              0.5555555555555556,
              "#d8576b"
             ],
             [
              0.6666666666666666,
              "#ed7953"
             ],
             [
              0.7777777777777778,
              "#fb9f3a"
             ],
             [
              0.8888888888888888,
              "#fdca26"
             ],
             [
              1,
              "#f0f921"
             ]
            ],
            "type": "heatmap"
           }
          ],
          "heatmapgl": [
           {
            "colorbar": {
             "outlinewidth": 0,
             "ticks": ""
            },
            "colorscale": [
             [
              0,
              "#0d0887"
             ],
             [
              0.1111111111111111,
              "#46039f"
             ],
             [
              0.2222222222222222,
              "#7201a8"
             ],
             [
              0.3333333333333333,
              "#9c179e"
             ],
             [
              0.4444444444444444,
              "#bd3786"
             ],
             [
              0.5555555555555556,
              "#d8576b"
             ],
             [
              0.6666666666666666,
              "#ed7953"
             ],
             [
              0.7777777777777778,
              "#fb9f3a"
             ],
             [
              0.8888888888888888,
              "#fdca26"
             ],
             [
              1,
              "#f0f921"
             ]
            ],
            "type": "heatmapgl"
           }
          ],
          "histogram": [
           {
            "marker": {
             "pattern": {
              "fillmode": "overlay",
              "size": 10,
              "solidity": 0.2
             }
            },
            "type": "histogram"
           }
          ],
          "histogram2d": [
           {
            "colorbar": {
             "outlinewidth": 0,
             "ticks": ""
            },
            "colorscale": [
             [
              0,
              "#0d0887"
             ],
             [
              0.1111111111111111,
              "#46039f"
             ],
             [
              0.2222222222222222,
              "#7201a8"
             ],
             [
              0.3333333333333333,
              "#9c179e"
             ],
             [
              0.4444444444444444,
              "#bd3786"
             ],
             [
              0.5555555555555556,
              "#d8576b"
             ],
             [
              0.6666666666666666,
              "#ed7953"
             ],
             [
              0.7777777777777778,
              "#fb9f3a"
             ],
             [
              0.8888888888888888,
              "#fdca26"
             ],
             [
              1,
              "#f0f921"
             ]
            ],
            "type": "histogram2d"
           }
          ],
          "histogram2dcontour": [
           {
            "colorbar": {
             "outlinewidth": 0,
             "ticks": ""
            },
            "colorscale": [
             [
              0,
              "#0d0887"
             ],
             [
              0.1111111111111111,
              "#46039f"
             ],
             [
              0.2222222222222222,
              "#7201a8"
             ],
             [
              0.3333333333333333,
              "#9c179e"
             ],
             [
              0.4444444444444444,
              "#bd3786"
             ],
             [
              0.5555555555555556,
              "#d8576b"
             ],
             [
              0.6666666666666666,
              "#ed7953"
             ],
             [
              0.7777777777777778,
              "#fb9f3a"
             ],
             [
              0.8888888888888888,
              "#fdca26"
             ],
             [
              1,
              "#f0f921"
             ]
            ],
            "type": "histogram2dcontour"
           }
          ],
          "mesh3d": [
           {
            "colorbar": {
             "outlinewidth": 0,
             "ticks": ""
            },
            "type": "mesh3d"
           }
          ],
          "parcoords": [
           {
            "line": {
             "colorbar": {
              "outlinewidth": 0,
              "ticks": ""
             }
            },
            "type": "parcoords"
           }
          ],
          "pie": [
           {
            "automargin": true,
            "type": "pie"
           }
          ],
          "scatter": [
           {
            "fillpattern": {
             "fillmode": "overlay",
             "size": 10,
             "solidity": 0.2
            },
            "type": "scatter"
           }
          ],
          "scatter3d": [
           {
            "line": {
             "colorbar": {
              "outlinewidth": 0,
              "ticks": ""
             }
            },
            "marker": {
             "colorbar": {
              "outlinewidth": 0,
              "ticks": ""
             }
            },
            "type": "scatter3d"
           }
          ],
          "scattercarpet": [
           {
            "marker": {
             "colorbar": {
              "outlinewidth": 0,
              "ticks": ""
             }
            },
            "type": "scattercarpet"
           }
          ],
          "scattergeo": [
           {
            "marker": {
             "colorbar": {
              "outlinewidth": 0,
              "ticks": ""
             }
            },
            "type": "scattergeo"
           }
          ],
          "scattergl": [
           {
            "marker": {
             "colorbar": {
              "outlinewidth": 0,
              "ticks": ""
             }
            },
            "type": "scattergl"
           }
          ],
          "scattermapbox": [
           {
            "marker": {
             "colorbar": {
              "outlinewidth": 0,
              "ticks": ""
             }
            },
            "type": "scattermapbox"
           }
          ],
          "scatterpolar": [
           {
            "marker": {
             "colorbar": {
              "outlinewidth": 0,
              "ticks": ""
             }
            },
            "type": "scatterpolar"
           }
          ],
          "scatterpolargl": [
           {
            "marker": {
             "colorbar": {
              "outlinewidth": 0,
              "ticks": ""
             }
            },
            "type": "scatterpolargl"
           }
          ],
          "scatterternary": [
           {
            "marker": {
             "colorbar": {
              "outlinewidth": 0,
              "ticks": ""
             }
            },
            "type": "scatterternary"
           }
          ],
          "surface": [
           {
            "colorbar": {
             "outlinewidth": 0,
             "ticks": ""
            },
            "colorscale": [
             [
              0,
              "#0d0887"
             ],
             [
              0.1111111111111111,
              "#46039f"
             ],
             [
              0.2222222222222222,
              "#7201a8"
             ],
             [
              0.3333333333333333,
              "#9c179e"
             ],
             [
              0.4444444444444444,
              "#bd3786"
             ],
             [
              0.5555555555555556,
              "#d8576b"
             ],
             [
              0.6666666666666666,
              "#ed7953"
             ],
             [
              0.7777777777777778,
              "#fb9f3a"
             ],
             [
              0.8888888888888888,
              "#fdca26"
             ],
             [
              1,
              "#f0f921"
             ]
            ],
            "type": "surface"
           }
          ],
          "table": [
           {
            "cells": {
             "fill": {
              "color": "#EBF0F8"
             },
             "line": {
              "color": "white"
             }
            },
            "header": {
             "fill": {
              "color": "#C8D4E3"
             },
             "line": {
              "color": "white"
             }
            },
            "type": "table"
           }
          ]
         },
         "layout": {
          "annotationdefaults": {
           "arrowcolor": "#2a3f5f",
           "arrowhead": 0,
           "arrowwidth": 1
          },
          "autotypenumbers": "strict",
          "coloraxis": {
           "colorbar": {
            "outlinewidth": 0,
            "ticks": ""
           }
          },
          "colorscale": {
           "diverging": [
            [
             0,
             "#8e0152"
            ],
            [
             0.1,
             "#c51b7d"
            ],
            [
             0.2,
             "#de77ae"
            ],
            [
             0.3,
             "#f1b6da"
            ],
            [
             0.4,
             "#fde0ef"
            ],
            [
             0.5,
             "#f7f7f7"
            ],
            [
             0.6,
             "#e6f5d0"
            ],
            [
             0.7,
             "#b8e186"
            ],
            [
             0.8,
             "#7fbc41"
            ],
            [
             0.9,
             "#4d9221"
            ],
            [
             1,
             "#276419"
            ]
           ],
           "sequential": [
            [
             0,
             "#0d0887"
            ],
            [
             0.1111111111111111,
             "#46039f"
            ],
            [
             0.2222222222222222,
             "#7201a8"
            ],
            [
             0.3333333333333333,
             "#9c179e"
            ],
            [
             0.4444444444444444,
             "#bd3786"
            ],
            [
             0.5555555555555556,
             "#d8576b"
            ],
            [
             0.6666666666666666,
             "#ed7953"
            ],
            [
             0.7777777777777778,
             "#fb9f3a"
            ],
            [
             0.8888888888888888,
             "#fdca26"
            ],
            [
             1,
             "#f0f921"
            ]
           ],
           "sequentialminus": [
            [
             0,
             "#0d0887"
            ],
            [
             0.1111111111111111,
             "#46039f"
            ],
            [
             0.2222222222222222,
             "#7201a8"
            ],
            [
             0.3333333333333333,
             "#9c179e"
            ],
            [
             0.4444444444444444,
             "#bd3786"
            ],
            [
             0.5555555555555556,
             "#d8576b"
            ],
            [
             0.6666666666666666,
             "#ed7953"
            ],
            [
             0.7777777777777778,
             "#fb9f3a"
            ],
            [
             0.8888888888888888,
             "#fdca26"
            ],
            [
             1,
             "#f0f921"
            ]
           ]
          },
          "colorway": [
           "#636efa",
           "#EF553B",
           "#00cc96",
           "#ab63fa",
           "#FFA15A",
           "#19d3f3",
           "#FF6692",
           "#B6E880",
           "#FF97FF",
           "#FECB52"
          ],
          "font": {
           "color": "#2a3f5f"
          },
          "geo": {
           "bgcolor": "white",
           "lakecolor": "white",
           "landcolor": "#E5ECF6",
           "showlakes": true,
           "showland": true,
           "subunitcolor": "white"
          },
          "hoverlabel": {
           "align": "left"
          },
          "hovermode": "closest",
          "mapbox": {
           "style": "light"
          },
          "paper_bgcolor": "white",
          "plot_bgcolor": "#E5ECF6",
          "polar": {
           "angularaxis": {
            "gridcolor": "white",
            "linecolor": "white",
            "ticks": ""
           },
           "bgcolor": "#E5ECF6",
           "radialaxis": {
            "gridcolor": "white",
            "linecolor": "white",
            "ticks": ""
           }
          },
          "scene": {
           "xaxis": {
            "backgroundcolor": "#E5ECF6",
            "gridcolor": "white",
            "gridwidth": 2,
            "linecolor": "white",
            "showbackground": true,
            "ticks": "",
            "zerolinecolor": "white"
           },
           "yaxis": {
            "backgroundcolor": "#E5ECF6",
            "gridcolor": "white",
            "gridwidth": 2,
            "linecolor": "white",
            "showbackground": true,
            "ticks": "",
            "zerolinecolor": "white"
           },
           "zaxis": {
            "backgroundcolor": "#E5ECF6",
            "gridcolor": "white",
            "gridwidth": 2,
            "linecolor": "white",
            "showbackground": true,
            "ticks": "",
            "zerolinecolor": "white"
           }
          },
          "shapedefaults": {
           "line": {
            "color": "#2a3f5f"
           }
          },
          "ternary": {
           "aaxis": {
            "gridcolor": "white",
            "linecolor": "white",
            "ticks": ""
           },
           "baxis": {
            "gridcolor": "white",
            "linecolor": "white",
            "ticks": ""
           },
           "bgcolor": "#E5ECF6",
           "caxis": {
            "gridcolor": "white",
            "linecolor": "white",
            "ticks": ""
           }
          },
          "title": {
           "x": 0.05
          },
          "xaxis": {
           "automargin": true,
           "gridcolor": "white",
           "linecolor": "white",
           "ticks": "",
           "title": {
            "standoff": 15
           },
           "zerolinecolor": "white",
           "zerolinewidth": 2
          },
          "yaxis": {
           "automargin": true,
           "gridcolor": "white",
           "linecolor": "white",
           "ticks": "",
           "title": {
            "standoff": 15
           },
           "zerolinecolor": "white",
           "zerolinewidth": 2
          }
         }
        },
        "xaxis": {
         "anchor": "y",
         "domain": [
          0,
          1
         ],
         "title": {
          "text": "index"
         }
        },
        "yaxis": {
         "anchor": "x",
         "domain": [
          0,
          1
         ],
         "title": {
          "text": "value"
         }
        }
       }
      },
      "text/html": [
       "<div>                            <div id=\"fb6e69e5-7fdd-4475-b5e1-dc945a706e52\" class=\"plotly-graph-div\" style=\"height:525px; width:100%;\"></div>            <script type=\"text/javascript\">                require([\"plotly\"], function(Plotly) {                    window.PLOTLYENV=window.PLOTLYENV || {};                                    if (document.getElementById(\"fb6e69e5-7fdd-4475-b5e1-dc945a706e52\")) {                    Plotly.newPlot(                        \"fb6e69e5-7fdd-4475-b5e1-dc945a706e52\",                        [{\"alignmentgroup\":\"True\",\"hovertemplate\":\"variable=0<br>index=%{x}<br>value=%{y}<extra></extra>\",\"legendgroup\":\"0\",\"marker\":{\"color\":\"#636efa\",\"pattern\":{\"shape\":\"\"}},\"name\":\"0\",\"offsetgroup\":\"0\",\"orientation\":\"v\",\"showlegend\":true,\"textposition\":\"auto\",\"x\":[0,1,2,3,4,5,6,7,8,9],\"xaxis\":\"x\",\"y\":[0.6457670331001282,0.08322528749704361,0.02973082847893238,0.024920761585235596,0.021556267514824867,0.02032691240310669,0.019137004390358925,0.018096745014190674,0.0162239670753479,0.014421720989048481],\"yaxis\":\"y\",\"type\":\"bar\"}],                        {\"template\":{\"data\":{\"histogram2dcontour\":[{\"type\":\"histogram2dcontour\",\"colorbar\":{\"outlinewidth\":0,\"ticks\":\"\"},\"colorscale\":[[0.0,\"#0d0887\"],[0.1111111111111111,\"#46039f\"],[0.2222222222222222,\"#7201a8\"],[0.3333333333333333,\"#9c179e\"],[0.4444444444444444,\"#bd3786\"],[0.5555555555555556,\"#d8576b\"],[0.6666666666666666,\"#ed7953\"],[0.7777777777777778,\"#fb9f3a\"],[0.8888888888888888,\"#fdca26\"],[1.0,\"#f0f921\"]]}],\"choropleth\":[{\"type\":\"choropleth\",\"colorbar\":{\"outlinewidth\":0,\"ticks\":\"\"}}],\"histogram2d\":[{\"type\":\"histogram2d\",\"colorbar\":{\"outlinewidth\":0,\"ticks\":\"\"},\"colorscale\":[[0.0,\"#0d0887\"],[0.1111111111111111,\"#46039f\"],[0.2222222222222222,\"#7201a8\"],[0.3333333333333333,\"#9c179e\"],[0.4444444444444444,\"#bd3786\"],[0.5555555555555556,\"#d8576b\"],[0.6666666666666666,\"#ed7953\"],[0.7777777777777778,\"#fb9f3a\"],[0.8888888888888888,\"#fdca26\"],[1.0,\"#f0f921\"]]}],\"heatmap\":[{\"type\":\"heatmap\",\"colorbar\":{\"outlinewidth\":0,\"ticks\":\"\"},\"colorscale\":[[0.0,\"#0d0887\"],[0.1111111111111111,\"#46039f\"],[0.2222222222222222,\"#7201a8\"],[0.3333333333333333,\"#9c179e\"],[0.4444444444444444,\"#bd3786\"],[0.5555555555555556,\"#d8576b\"],[0.6666666666666666,\"#ed7953\"],[0.7777777777777778,\"#fb9f3a\"],[0.8888888888888888,\"#fdca26\"],[1.0,\"#f0f921\"]]}],\"heatmapgl\":[{\"type\":\"heatmapgl\",\"colorbar\":{\"outlinewidth\":0,\"ticks\":\"\"},\"colorscale\":[[0.0,\"#0d0887\"],[0.1111111111111111,\"#46039f\"],[0.2222222222222222,\"#7201a8\"],[0.3333333333333333,\"#9c179e\"],[0.4444444444444444,\"#bd3786\"],[0.5555555555555556,\"#d8576b\"],[0.6666666666666666,\"#ed7953\"],[0.7777777777777778,\"#fb9f3a\"],[0.8888888888888888,\"#fdca26\"],[1.0,\"#f0f921\"]]}],\"contourcarpet\":[{\"type\":\"contourcarpet\",\"colorbar\":{\"outlinewidth\":0,\"ticks\":\"\"}}],\"contour\":[{\"type\":\"contour\",\"colorbar\":{\"outlinewidth\":0,\"ticks\":\"\"},\"colorscale\":[[0.0,\"#0d0887\"],[0.1111111111111111,\"#46039f\"],[0.2222222222222222,\"#7201a8\"],[0.3333333333333333,\"#9c179e\"],[0.4444444444444444,\"#bd3786\"],[0.5555555555555556,\"#d8576b\"],[0.6666666666666666,\"#ed7953\"],[0.7777777777777778,\"#fb9f3a\"],[0.8888888888888888,\"#fdca26\"],[1.0,\"#f0f921\"]]}],\"surface\":[{\"type\":\"surface\",\"colorbar\":{\"outlinewidth\":0,\"ticks\":\"\"},\"colorscale\":[[0.0,\"#0d0887\"],[0.1111111111111111,\"#46039f\"],[0.2222222222222222,\"#7201a8\"],[0.3333333333333333,\"#9c179e\"],[0.4444444444444444,\"#bd3786\"],[0.5555555555555556,\"#d8576b\"],[0.6666666666666666,\"#ed7953\"],[0.7777777777777778,\"#fb9f3a\"],[0.8888888888888888,\"#fdca26\"],[1.0,\"#f0f921\"]]}],\"mesh3d\":[{\"type\":\"mesh3d\",\"colorbar\":{\"outlinewidth\":0,\"ticks\":\"\"}}],\"scatter\":[{\"fillpattern\":{\"fillmode\":\"overlay\",\"size\":10,\"solidity\":0.2},\"type\":\"scatter\"}],\"parcoords\":[{\"type\":\"parcoords\",\"line\":{\"colorbar\":{\"outlinewidth\":0,\"ticks\":\"\"}}}],\"scatterpolargl\":[{\"type\":\"scatterpolargl\",\"marker\":{\"colorbar\":{\"outlinewidth\":0,\"ticks\":\"\"}}}],\"bar\":[{\"error_x\":{\"color\":\"#2a3f5f\"},\"error_y\":{\"color\":\"#2a3f5f\"},\"marker\":{\"line\":{\"color\":\"#E5ECF6\",\"width\":0.5},\"pattern\":{\"fillmode\":\"overlay\",\"size\":10,\"solidity\":0.2}},\"type\":\"bar\"}],\"scattergeo\":[{\"type\":\"scattergeo\",\"marker\":{\"colorbar\":{\"outlinewidth\":0,\"ticks\":\"\"}}}],\"scatterpolar\":[{\"type\":\"scatterpolar\",\"marker\":{\"colorbar\":{\"outlinewidth\":0,\"ticks\":\"\"}}}],\"histogram\":[{\"marker\":{\"pattern\":{\"fillmode\":\"overlay\",\"size\":10,\"solidity\":0.2}},\"type\":\"histogram\"}],\"scattergl\":[{\"type\":\"scattergl\",\"marker\":{\"colorbar\":{\"outlinewidth\":0,\"ticks\":\"\"}}}],\"scatter3d\":[{\"type\":\"scatter3d\",\"line\":{\"colorbar\":{\"outlinewidth\":0,\"ticks\":\"\"}},\"marker\":{\"colorbar\":{\"outlinewidth\":0,\"ticks\":\"\"}}}],\"scattermapbox\":[{\"type\":\"scattermapbox\",\"marker\":{\"colorbar\":{\"outlinewidth\":0,\"ticks\":\"\"}}}],\"scatterternary\":[{\"type\":\"scatterternary\",\"marker\":{\"colorbar\":{\"outlinewidth\":0,\"ticks\":\"\"}}}],\"scattercarpet\":[{\"type\":\"scattercarpet\",\"marker\":{\"colorbar\":{\"outlinewidth\":0,\"ticks\":\"\"}}}],\"carpet\":[{\"aaxis\":{\"endlinecolor\":\"#2a3f5f\",\"gridcolor\":\"white\",\"linecolor\":\"white\",\"minorgridcolor\":\"white\",\"startlinecolor\":\"#2a3f5f\"},\"baxis\":{\"endlinecolor\":\"#2a3f5f\",\"gridcolor\":\"white\",\"linecolor\":\"white\",\"minorgridcolor\":\"white\",\"startlinecolor\":\"#2a3f5f\"},\"type\":\"carpet\"}],\"table\":[{\"cells\":{\"fill\":{\"color\":\"#EBF0F8\"},\"line\":{\"color\":\"white\"}},\"header\":{\"fill\":{\"color\":\"#C8D4E3\"},\"line\":{\"color\":\"white\"}},\"type\":\"table\"}],\"barpolar\":[{\"marker\":{\"line\":{\"color\":\"#E5ECF6\",\"width\":0.5},\"pattern\":{\"fillmode\":\"overlay\",\"size\":10,\"solidity\":0.2}},\"type\":\"barpolar\"}],\"pie\":[{\"automargin\":true,\"type\":\"pie\"}]},\"layout\":{\"autotypenumbers\":\"strict\",\"colorway\":[\"#636efa\",\"#EF553B\",\"#00cc96\",\"#ab63fa\",\"#FFA15A\",\"#19d3f3\",\"#FF6692\",\"#B6E880\",\"#FF97FF\",\"#FECB52\"],\"font\":{\"color\":\"#2a3f5f\"},\"hovermode\":\"closest\",\"hoverlabel\":{\"align\":\"left\"},\"paper_bgcolor\":\"white\",\"plot_bgcolor\":\"#E5ECF6\",\"polar\":{\"bgcolor\":\"#E5ECF6\",\"angularaxis\":{\"gridcolor\":\"white\",\"linecolor\":\"white\",\"ticks\":\"\"},\"radialaxis\":{\"gridcolor\":\"white\",\"linecolor\":\"white\",\"ticks\":\"\"}},\"ternary\":{\"bgcolor\":\"#E5ECF6\",\"aaxis\":{\"gridcolor\":\"white\",\"linecolor\":\"white\",\"ticks\":\"\"},\"baxis\":{\"gridcolor\":\"white\",\"linecolor\":\"white\",\"ticks\":\"\"},\"caxis\":{\"gridcolor\":\"white\",\"linecolor\":\"white\",\"ticks\":\"\"}},\"coloraxis\":{\"colorbar\":{\"outlinewidth\":0,\"ticks\":\"\"}},\"colorscale\":{\"sequential\":[[0.0,\"#0d0887\"],[0.1111111111111111,\"#46039f\"],[0.2222222222222222,\"#7201a8\"],[0.3333333333333333,\"#9c179e\"],[0.4444444444444444,\"#bd3786\"],[0.5555555555555556,\"#d8576b\"],[0.6666666666666666,\"#ed7953\"],[0.7777777777777778,\"#fb9f3a\"],[0.8888888888888888,\"#fdca26\"],[1.0,\"#f0f921\"]],\"sequentialminus\":[[0.0,\"#0d0887\"],[0.1111111111111111,\"#46039f\"],[0.2222222222222222,\"#7201a8\"],[0.3333333333333333,\"#9c179e\"],[0.4444444444444444,\"#bd3786\"],[0.5555555555555556,\"#d8576b\"],[0.6666666666666666,\"#ed7953\"],[0.7777777777777778,\"#fb9f3a\"],[0.8888888888888888,\"#fdca26\"],[1.0,\"#f0f921\"]],\"diverging\":[[0,\"#8e0152\"],[0.1,\"#c51b7d\"],[0.2,\"#de77ae\"],[0.3,\"#f1b6da\"],[0.4,\"#fde0ef\"],[0.5,\"#f7f7f7\"],[0.6,\"#e6f5d0\"],[0.7,\"#b8e186\"],[0.8,\"#7fbc41\"],[0.9,\"#4d9221\"],[1,\"#276419\"]]},\"xaxis\":{\"gridcolor\":\"white\",\"linecolor\":\"white\",\"ticks\":\"\",\"title\":{\"standoff\":15},\"zerolinecolor\":\"white\",\"automargin\":true,\"zerolinewidth\":2},\"yaxis\":{\"gridcolor\":\"white\",\"linecolor\":\"white\",\"ticks\":\"\",\"title\":{\"standoff\":15},\"zerolinecolor\":\"white\",\"automargin\":true,\"zerolinewidth\":2},\"scene\":{\"xaxis\":{\"backgroundcolor\":\"#E5ECF6\",\"gridcolor\":\"white\",\"linecolor\":\"white\",\"showbackground\":true,\"ticks\":\"\",\"zerolinecolor\":\"white\",\"gridwidth\":2},\"yaxis\":{\"backgroundcolor\":\"#E5ECF6\",\"gridcolor\":\"white\",\"linecolor\":\"white\",\"showbackground\":true,\"ticks\":\"\",\"zerolinecolor\":\"white\",\"gridwidth\":2},\"zaxis\":{\"backgroundcolor\":\"#E5ECF6\",\"gridcolor\":\"white\",\"linecolor\":\"white\",\"showbackground\":true,\"ticks\":\"\",\"zerolinecolor\":\"white\",\"gridwidth\":2}},\"shapedefaults\":{\"line\":{\"color\":\"#2a3f5f\"}},\"annotationdefaults\":{\"arrowcolor\":\"#2a3f5f\",\"arrowhead\":0,\"arrowwidth\":1},\"geo\":{\"bgcolor\":\"white\",\"landcolor\":\"#E5ECF6\",\"subunitcolor\":\"white\",\"showland\":true,\"showlakes\":true,\"lakecolor\":\"white\"},\"title\":{\"x\":0.05},\"mapbox\":{\"style\":\"light\"}}},\"xaxis\":{\"anchor\":\"y\",\"domain\":[0.0,1.0],\"title\":{\"text\":\"index\"}},\"yaxis\":{\"anchor\":\"x\",\"domain\":[0.0,1.0],\"title\":{\"text\":\"value\"}},\"legend\":{\"title\":{\"text\":\"variable\"},\"tracegroupgap\":0},\"margin\":{\"t\":60},\"barmode\":\"relative\"},                        {\"responsive\": true}                    ).then(function(){\n",
       "                            \n",
       "var gd = document.getElementById('fb6e69e5-7fdd-4475-b5e1-dc945a706e52');\n",
       "var x = new MutationObserver(function (mutations, observer) {{\n",
       "        var display = window.getComputedStyle(gd).display;\n",
       "        if (!display || display === 'none') {{\n",
       "            console.log([gd, 'removed!']);\n",
       "            Plotly.purge(gd);\n",
       "            observer.disconnect();\n",
       "        }}\n",
       "}});\n",
       "\n",
       "// Listen for the removal of the full notebook cells\n",
       "var notebookContainer = gd.closest('#notebook-container');\n",
       "if (notebookContainer) {{\n",
       "    x.observe(notebookContainer, {childList: true});\n",
       "}}\n",
       "\n",
       "// Listen for the clearing of the current output cell\n",
       "var outputEl = gd.closest('.output');\n",
       "if (outputEl) {{\n",
       "    x.observe(outputEl, {childList: true});\n",
       "}}\n",
       "\n",
       "                        })                };                });            </script>        </div>"
      ]
     },
     "metadata": {},
     "output_type": "display_data"
    }
   ],
   "source": [
    "px.bar(model.explained_variance_ratio_)"
   ]
  },
  {
   "cell_type": "markdown",
   "id": "1f9b98cf",
   "metadata": {},
   "source": [
    "### PC1 v PC2"
   ]
  },
  {
   "cell_type": "code",
   "execution_count": 47,
   "id": "da0e807c",
   "metadata": {},
   "outputs": [
    {
     "data": {
      "application/vnd.plotly.v1+json": {
       "config": {
        "plotlyServerURL": "https://plot.ly"
       },
       "data": [
        {
         "customdata": [
          [
           "Benin",
           "Avrankou"
          ],
          [
           "Benin",
           "Avrankou"
          ],
          [
           "Benin",
           "Avrankou"
          ],
          [
           "Benin",
           "Avrankou"
          ],
          [
           "Benin",
           "Avrankou"
          ],
          [
           "Benin",
           "Avrankou"
          ],
          [
           "Benin",
           "Avrankou"
          ],
          [
           "Benin",
           "Avrankou"
          ],
          [
           "Benin",
           "Avrankou"
          ],
          [
           "Benin",
           "Avrankou"
          ],
          [
           "Benin",
           "Avrankou"
          ],
          [
           "Benin",
           "Avrankou"
          ],
          [
           "Benin",
           "Avrankou"
          ],
          [
           "Benin",
           "Avrankou"
          ],
          [
           "Benin",
           "Avrankou"
          ],
          [
           "Benin",
           "Avrankou"
          ],
          [
           "Benin",
           "Avrankou"
          ],
          [
           "Benin",
           "Avrankou"
          ],
          [
           "Benin",
           "Avrankou"
          ],
          [
           "Benin",
           "Avrankou"
          ],
          [
           "Benin",
           "Avrankou"
          ],
          [
           "Benin",
           "Avrankou"
          ],
          [
           "Benin",
           "Avrankou"
          ],
          [
           "Benin",
           "Avrankou"
          ],
          [
           "Benin",
           "Avrankou"
          ],
          [
           "Benin",
           "Avrankou"
          ],
          [
           "Benin",
           "Avrankou"
          ],
          [
           "Benin",
           "Avrankou"
          ],
          [
           "Benin",
           "Avrankou"
          ],
          [
           "Benin",
           "Avrankou"
          ],
          [
           "Benin",
           "Avrankou"
          ],
          [
           "Benin",
           "Avrankou"
          ],
          [
           "Benin",
           "Avrankou"
          ],
          [
           "Benin",
           "Avrankou"
          ],
          [
           "Benin",
           "Avrankou"
          ],
          [
           "Benin",
           "Avrankou"
          ],
          [
           "Benin",
           "Avrankou"
          ],
          [
           "Benin",
           "Avrankou"
          ],
          [
           "Benin",
           "Avrankou"
          ],
          [
           "Benin",
           "Avrankou"
          ],
          [
           "Benin",
           "Avrankou"
          ],
          [
           "Benin",
           "Avrankou"
          ],
          [
           "Benin",
           "Avrankou"
          ],
          [
           "Benin",
           "Avrankou"
          ],
          [
           "Benin",
           "Avrankou"
          ],
          [
           "Benin",
           "Avrankou"
          ],
          [
           "Benin",
           "Avrankou"
          ],
          [
           "Benin",
           "Avrankou"
          ],
          [
           "Benin",
           "Avrankou"
          ],
          [
           "Benin",
           "Avrankou"
          ],
          [
           "Benin",
           "Avrankou"
          ],
          [
           "Benin",
           "Avrankou"
          ],
          [
           "Benin",
           "Avrankou"
          ],
          [
           "Benin",
           "Avrankou"
          ],
          [
           "Benin",
           "Avrankou"
          ],
          [
           "Benin",
           "Avrankou"
          ],
          [
           "Benin",
           "Avrankou"
          ],
          [
           "Benin",
           "Avrankou"
          ],
          [
           "Benin",
           "Avrankou"
          ],
          [
           "Benin",
           "Avrankou"
          ],
          [
           "Benin",
           "Avrankou"
          ],
          [
           "Benin",
           "Avrankou"
          ],
          [
           "Benin",
           "Avrankou"
          ],
          [
           "Benin",
           "Avrankou"
          ],
          [
           "Benin",
           "Avrankou"
          ],
          [
           "Benin",
           "Avrankou"
          ],
          [
           "Benin",
           "Avrankou"
          ],
          [
           "Benin",
           "Avrankou"
          ],
          [
           "Benin",
           "Avrankou"
          ],
          [
           "Benin",
           "Avrankou"
          ],
          [
           "Benin",
           "Avrankou"
          ],
          [
           "Benin",
           "Avrankou"
          ],
          [
           "Benin",
           "Avrankou"
          ],
          [
           "Benin",
           "Avrankou"
          ],
          [
           "Benin",
           "Avrankou"
          ],
          [
           "Benin",
           "Avrankou"
          ],
          [
           "Benin",
           "Avrankou"
          ],
          [
           "Benin",
           "Avrankou"
          ],
          [
           "Benin",
           "Avrankou"
          ],
          [
           "Benin",
           "Avrankou"
          ],
          [
           "Benin",
           "Avrankou"
          ],
          [
           "Benin",
           "Avrankou"
          ],
          [
           "Benin",
           "Avrankou"
          ],
          [
           "Benin",
           "Avrankou"
          ],
          [
           "Benin",
           "Avrankou"
          ],
          [
           "Benin",
           "Avrankou"
          ],
          [
           "Benin",
           "Avrankou"
          ]
         ],
         "hovertemplate": "taxon=coluzzii<br>PC1=%{x}<br>PC2=%{y}<br>country=%{customdata[0]}<br>location=%{customdata[1]}<extra></extra>",
         "legendgroup": "coluzzii",
         "marker": {
          "color": "#636efa",
          "symbol": "circle"
         },
         "mode": "markers",
         "name": "coluzzii",
         "orientation": "v",
         "showlegend": true,
         "type": "scatter",
         "x": [
          -3.431375741958618,
          -3.7260866165161133,
          -3.478306531906128,
          -4.023698329925537,
          -3.061809778213501,
          -4.175347805023193,
          -4.330020427703857,
          -3.528759479522705,
          -3.726087808609009,
          -3.4421820640563965,
          -3.8614203929901123,
          -3.4968719482421875,
          -2.945322275161743,
          -4.192164897918701,
          -3.5779507160186768,
          -3.5051023960113525,
          -3.3136603832244873,
          -3.6584959030151367,
          -3.1296892166137695,
          -3.5891613960266113,
          -3.4210762977600098,
          -3.915447235107422,
          -3.782212257385254,
          -3.9773857593536377,
          -3.5139153003692627,
          -2.920159339904785,
          -2.8013432025909424,
          -3.026057004928589,
          -3.4987874031066895,
          -3.303331136703491,
          -1.3917045593261719,
          -3.952972412109375,
          -4.474099636077881,
          -3.916433334350586,
          -3.617263078689575,
          -3.3779780864715576,
          -3.7495152950286865,
          -3.617263078689575,
          -3.7263073921203613,
          -4.027982711791992,
          -4.029664516448975,
          -4.136463165283203,
          -3.574582815170288,
          -3.797940731048584,
          -4.4164228439331055,
          -3.380139112472534,
          -3.9502618312835693,
          -3.4210762977600098,
          -4.494765281677246,
          -3.9902217388153076,
          -3.979924440383911,
          -3.725599527359009,
          -3.6108782291412354,
          -4.336369037628174,
          -4.447063446044922,
          -2.810964345932007,
          -4.487410545349121,
          -4.017055511474609,
          -3.8595051765441895,
          -4.994251728057861,
          -4.098080635070801,
          -3.8387224674224854,
          -3.047531843185425,
          -3.574582815170288,
          -3.528759479522705,
          -3.2256298065185547,
          -4.1544270515441895,
          -4.104419708251953,
          -4.297163009643555,
          -3.45671010017395,
          -4.10245418548584,
          -2.5141444206237793,
          -3.39485502243042,
          -4.101393699645996,
          -2.3800714015960693,
          -3.830425262451172,
          -3.8253109455108643,
          -3.4883856773376465,
          -3.638671398162842,
          -3.391820192337036,
          -3.987579822540283,
          -3.954688549041748,
          -3.524247646331787,
          -4.458024024963379,
          -3.931276321411133,
          -3.3133153915405273,
          -4.586030960083008
         ],
         "xaxis": "x",
         "y": [
          -1.1638659238815308,
          -3.1682558059692383,
          -3.039700746536255,
          -1.5090409517288208,
          -3.0404765605926514,
          4.738772869110107,
          -0.1893818974494934,
          -3.026819944381714,
          -3.1682560443878174,
          -3.9605772495269775,
          -2.348543643951416,
          -2.9100112915039062,
          -2.832906723022461,
          -1.6811060905456543,
          -3.2762293815612793,
          6.513737201690674,
          -2.263303279876709,
          -1.726723313331604,
          -2.883814573287964,
          -3.0538785457611084,
          -3.1339612007141113,
          -1.0780766010284424,
          -2.1685116291046143,
          -1.7032029628753662,
          1.1114140748977661,
          -2.4548380374908447,
          -2.7842535972595215,
          -2.8053770065307617,
          -3.2380049228668213,
          -3.1274499893188477,
          -2.8815860748291016,
          -1.4521582126617432,
          5.779097557067871,
          -1.8681880235671997,
          -2.6565074920654297,
          -3.239504098892212,
          -2.2869181632995605,
          -2.6565074920654297,
          6.3061652183532715,
          6.251776218414307,
          -0.8976389169692993,
          6.513529300689697,
          -3.0140559673309326,
          -2.1116385459899902,
          5.713377952575684,
          -1.7595410346984863,
          -1.3419855833053589,
          -3.1339612007141113,
          6.25661563873291,
          -1.3162685632705688,
          -1.7669923305511475,
          -3.13964581489563,
          0.8240100741386414,
          0.7687246203422546,
          2.6887803077697754,
          -2.485938549041748,
          6.349283218383789,
          -1.6573435068130493,
          -2.02055025100708,
          10.409006118774414,
          -0.7481886744499207,
          -1.7641445398330688,
          1.2915102243423462,
          -3.0140559673309326,
          -3.026819944381714,
          -2.3280017375946045,
          6.382083892822266,
          14.710884094238281,
          5.867670059204102,
          5.764064311981201,
          -1.39286208152771,
          -3.1195268630981445,
          -1.5798977613449097,
          6.316422462463379,
          -3.1197352409362793,
          9.338404655456543,
          -2.0629682540893555,
          -3.2251410484313965,
          -2.760528564453125,
          5.809237480163574,
          -1.9662727117538452,
          -1.2875508069992065,
          -0.7217514514923096,
          5.894908428192139,
          -2.1204335689544678,
          -2.391871213912964,
          11.702414512634277
         ],
         "yaxis": "y"
        },
        {
         "customdata": [
          [
           "Ghana",
           "Madina_North"
          ],
          [
           "Ghana",
           "Madina_North"
          ],
          [
           "Ghana",
           "Madina_North"
          ],
          [
           "Ghana",
           "Madina_North"
          ],
          [
           "Ghana",
           "Madina_North"
          ],
          [
           "Ghana",
           "Madina_North"
          ],
          [
           "Ghana",
           "Madina_North"
          ],
          [
           "Ghana",
           "Madina_North"
          ],
          [
           "Ghana",
           "Madina_North"
          ],
          [
           "Ghana",
           "Madina_North"
          ]
         ],
         "hovertemplate": "taxon=gambiae<br>PC1=%{x}<br>PC2=%{y}<br>country=%{customdata[0]}<br>location=%{customdata[1]}<extra></extra>",
         "legendgroup": "gambiae",
         "marker": {
          "color": "#EF553B",
          "symbol": "circle"
         },
         "mode": "markers",
         "name": "gambiae",
         "orientation": "v",
         "showlegend": true,
         "type": "scatter",
         "x": [
          32.532386779785156,
          32.57343292236328,
          31.43844985961914,
          32.852718353271484,
          34.759849548339844,
          28.884275436401367,
          33.1204719543457,
          33.12387466430664,
          33.01336669921875,
          29.0480899810791
         ],
         "xaxis": "x",
         "y": [
          0.2968467175960541,
          0.07586374133825302,
          0.01779608614742756,
          1.5810362100601196,
          0.5740913152694702,
          -0.11266223341226578,
          0.34311172366142273,
          0.1402558535337448,
          -0.05872935801744461,
          -0.1231650784611702
         ],
         "yaxis": "y"
        }
       ],
       "layout": {
        "legend": {
         "title": {
          "text": "taxon"
         },
         "tracegroupgap": 0
        },
        "template": {
         "data": {
          "bar": [
           {
            "error_x": {
             "color": "#2a3f5f"
            },
            "error_y": {
             "color": "#2a3f5f"
            },
            "marker": {
             "line": {
              "color": "#E5ECF6",
              "width": 0.5
             },
             "pattern": {
              "fillmode": "overlay",
              "size": 10,
              "solidity": 0.2
             }
            },
            "type": "bar"
           }
          ],
          "barpolar": [
           {
            "marker": {
             "line": {
              "color": "#E5ECF6",
              "width": 0.5
             },
             "pattern": {
              "fillmode": "overlay",
              "size": 10,
              "solidity": 0.2
             }
            },
            "type": "barpolar"
           }
          ],
          "carpet": [
           {
            "aaxis": {
             "endlinecolor": "#2a3f5f",
             "gridcolor": "white",
             "linecolor": "white",
             "minorgridcolor": "white",
             "startlinecolor": "#2a3f5f"
            },
            "baxis": {
             "endlinecolor": "#2a3f5f",
             "gridcolor": "white",
             "linecolor": "white",
             "minorgridcolor": "white",
             "startlinecolor": "#2a3f5f"
            },
            "type": "carpet"
           }
          ],
          "choropleth": [
           {
            "colorbar": {
             "outlinewidth": 0,
             "ticks": ""
            },
            "type": "choropleth"
           }
          ],
          "contour": [
           {
            "colorbar": {
             "outlinewidth": 0,
             "ticks": ""
            },
            "colorscale": [
             [
              0,
              "#0d0887"
             ],
             [
              0.1111111111111111,
              "#46039f"
             ],
             [
              0.2222222222222222,
              "#7201a8"
             ],
             [
              0.3333333333333333,
              "#9c179e"
             ],
             [
              0.4444444444444444,
              "#bd3786"
             ],
             [
              0.5555555555555556,
              "#d8576b"
             ],
             [
              0.6666666666666666,
              "#ed7953"
             ],
             [
              0.7777777777777778,
              "#fb9f3a"
             ],
             [
              0.8888888888888888,
              "#fdca26"
             ],
             [
              1,
              "#f0f921"
             ]
            ],
            "type": "contour"
           }
          ],
          "contourcarpet": [
           {
            "colorbar": {
             "outlinewidth": 0,
             "ticks": ""
            },
            "type": "contourcarpet"
           }
          ],
          "heatmap": [
           {
            "colorbar": {
             "outlinewidth": 0,
             "ticks": ""
            },
            "colorscale": [
             [
              0,
              "#0d0887"
             ],
             [
              0.1111111111111111,
              "#46039f"
             ],
             [
              0.2222222222222222,
              "#7201a8"
             ],
             [
              0.3333333333333333,
              "#9c179e"
             ],
             [
              0.4444444444444444,
              "#bd3786"
             ],
             [
              0.5555555555555556,
              "#d8576b"
             ],
             [
              0.6666666666666666,
              "#ed7953"
             ],
             [
              0.7777777777777778,
              "#fb9f3a"
             ],
             [
              0.8888888888888888,
              "#fdca26"
             ],
             [
              1,
              "#f0f921"
             ]
            ],
            "type": "heatmap"
           }
          ],
          "heatmapgl": [
           {
            "colorbar": {
             "outlinewidth": 0,
             "ticks": ""
            },
            "colorscale": [
             [
              0,
              "#0d0887"
             ],
             [
              0.1111111111111111,
              "#46039f"
             ],
             [
              0.2222222222222222,
              "#7201a8"
             ],
             [
              0.3333333333333333,
              "#9c179e"
             ],
             [
              0.4444444444444444,
              "#bd3786"
             ],
             [
              0.5555555555555556,
              "#d8576b"
             ],
             [
              0.6666666666666666,
              "#ed7953"
             ],
             [
              0.7777777777777778,
              "#fb9f3a"
             ],
             [
              0.8888888888888888,
              "#fdca26"
             ],
             [
              1,
              "#f0f921"
             ]
            ],
            "type": "heatmapgl"
           }
          ],
          "histogram": [
           {
            "marker": {
             "pattern": {
              "fillmode": "overlay",
              "size": 10,
              "solidity": 0.2
             }
            },
            "type": "histogram"
           }
          ],
          "histogram2d": [
           {
            "colorbar": {
             "outlinewidth": 0,
             "ticks": ""
            },
            "colorscale": [
             [
              0,
              "#0d0887"
             ],
             [
              0.1111111111111111,
              "#46039f"
             ],
             [
              0.2222222222222222,
              "#7201a8"
             ],
             [
              0.3333333333333333,
              "#9c179e"
             ],
             [
              0.4444444444444444,
              "#bd3786"
             ],
             [
              0.5555555555555556,
              "#d8576b"
             ],
             [
              0.6666666666666666,
              "#ed7953"
             ],
             [
              0.7777777777777778,
              "#fb9f3a"
             ],
             [
              0.8888888888888888,
              "#fdca26"
             ],
             [
              1,
              "#f0f921"
             ]
            ],
            "type": "histogram2d"
           }
          ],
          "histogram2dcontour": [
           {
            "colorbar": {
             "outlinewidth": 0,
             "ticks": ""
            },
            "colorscale": [
             [
              0,
              "#0d0887"
             ],
             [
              0.1111111111111111,
              "#46039f"
             ],
             [
              0.2222222222222222,
              "#7201a8"
             ],
             [
              0.3333333333333333,
              "#9c179e"
             ],
             [
              0.4444444444444444,
              "#bd3786"
             ],
             [
              0.5555555555555556,
              "#d8576b"
             ],
             [
              0.6666666666666666,
              "#ed7953"
             ],
             [
              0.7777777777777778,
              "#fb9f3a"
             ],
             [
              0.8888888888888888,
              "#fdca26"
             ],
             [
              1,
              "#f0f921"
             ]
            ],
            "type": "histogram2dcontour"
           }
          ],
          "mesh3d": [
           {
            "colorbar": {
             "outlinewidth": 0,
             "ticks": ""
            },
            "type": "mesh3d"
           }
          ],
          "parcoords": [
           {
            "line": {
             "colorbar": {
              "outlinewidth": 0,
              "ticks": ""
             }
            },
            "type": "parcoords"
           }
          ],
          "pie": [
           {
            "automargin": true,
            "type": "pie"
           }
          ],
          "scatter": [
           {
            "fillpattern": {
             "fillmode": "overlay",
             "size": 10,
             "solidity": 0.2
            },
            "type": "scatter"
           }
          ],
          "scatter3d": [
           {
            "line": {
             "colorbar": {
              "outlinewidth": 0,
              "ticks": ""
             }
            },
            "marker": {
             "colorbar": {
              "outlinewidth": 0,
              "ticks": ""
             }
            },
            "type": "scatter3d"
           }
          ],
          "scattercarpet": [
           {
            "marker": {
             "colorbar": {
              "outlinewidth": 0,
              "ticks": ""
             }
            },
            "type": "scattercarpet"
           }
          ],
          "scattergeo": [
           {
            "marker": {
             "colorbar": {
              "outlinewidth": 0,
              "ticks": ""
             }
            },
            "type": "scattergeo"
           }
          ],
          "scattergl": [
           {
            "marker": {
             "colorbar": {
              "outlinewidth": 0,
              "ticks": ""
             }
            },
            "type": "scattergl"
           }
          ],
          "scattermapbox": [
           {
            "marker": {
             "colorbar": {
              "outlinewidth": 0,
              "ticks": ""
             }
            },
            "type": "scattermapbox"
           }
          ],
          "scatterpolar": [
           {
            "marker": {
             "colorbar": {
              "outlinewidth": 0,
              "ticks": ""
             }
            },
            "type": "scatterpolar"
           }
          ],
          "scatterpolargl": [
           {
            "marker": {
             "colorbar": {
              "outlinewidth": 0,
              "ticks": ""
             }
            },
            "type": "scatterpolargl"
           }
          ],
          "scatterternary": [
           {
            "marker": {
             "colorbar": {
              "outlinewidth": 0,
              "ticks": ""
             }
            },
            "type": "scatterternary"
           }
          ],
          "surface": [
           {
            "colorbar": {
             "outlinewidth": 0,
             "ticks": ""
            },
            "colorscale": [
             [
              0,
              "#0d0887"
             ],
             [
              0.1111111111111111,
              "#46039f"
             ],
             [
              0.2222222222222222,
              "#7201a8"
             ],
             [
              0.3333333333333333,
              "#9c179e"
             ],
             [
              0.4444444444444444,
              "#bd3786"
             ],
             [
              0.5555555555555556,
              "#d8576b"
             ],
             [
              0.6666666666666666,
              "#ed7953"
             ],
             [
              0.7777777777777778,
              "#fb9f3a"
             ],
             [
              0.8888888888888888,
              "#fdca26"
             ],
             [
              1,
              "#f0f921"
             ]
            ],
            "type": "surface"
           }
          ],
          "table": [
           {
            "cells": {
             "fill": {
              "color": "#EBF0F8"
             },
             "line": {
              "color": "white"
             }
            },
            "header": {
             "fill": {
              "color": "#C8D4E3"
             },
             "line": {
              "color": "white"
             }
            },
            "type": "table"
           }
          ]
         },
         "layout": {
          "annotationdefaults": {
           "arrowcolor": "#2a3f5f",
           "arrowhead": 0,
           "arrowwidth": 1
          },
          "autotypenumbers": "strict",
          "coloraxis": {
           "colorbar": {
            "outlinewidth": 0,
            "ticks": ""
           }
          },
          "colorscale": {
           "diverging": [
            [
             0,
             "#8e0152"
            ],
            [
             0.1,
             "#c51b7d"
            ],
            [
             0.2,
             "#de77ae"
            ],
            [
             0.3,
             "#f1b6da"
            ],
            [
             0.4,
             "#fde0ef"
            ],
            [
             0.5,
             "#f7f7f7"
            ],
            [
             0.6,
             "#e6f5d0"
            ],
            [
             0.7,
             "#b8e186"
            ],
            [
             0.8,
             "#7fbc41"
            ],
            [
             0.9,
             "#4d9221"
            ],
            [
             1,
             "#276419"
            ]
           ],
           "sequential": [
            [
             0,
             "#0d0887"
            ],
            [
             0.1111111111111111,
             "#46039f"
            ],
            [
             0.2222222222222222,
             "#7201a8"
            ],
            [
             0.3333333333333333,
             "#9c179e"
            ],
            [
             0.4444444444444444,
             "#bd3786"
            ],
            [
             0.5555555555555556,
             "#d8576b"
            ],
            [
             0.6666666666666666,
             "#ed7953"
            ],
            [
             0.7777777777777778,
             "#fb9f3a"
            ],
            [
             0.8888888888888888,
             "#fdca26"
            ],
            [
             1,
             "#f0f921"
            ]
           ],
           "sequentialminus": [
            [
             0,
             "#0d0887"
            ],
            [
             0.1111111111111111,
             "#46039f"
            ],
            [
             0.2222222222222222,
             "#7201a8"
            ],
            [
             0.3333333333333333,
             "#9c179e"
            ],
            [
             0.4444444444444444,
             "#bd3786"
            ],
            [
             0.5555555555555556,
             "#d8576b"
            ],
            [
             0.6666666666666666,
             "#ed7953"
            ],
            [
             0.7777777777777778,
             "#fb9f3a"
            ],
            [
             0.8888888888888888,
             "#fdca26"
            ],
            [
             1,
             "#f0f921"
            ]
           ]
          },
          "colorway": [
           "#636efa",
           "#EF553B",
           "#00cc96",
           "#ab63fa",
           "#FFA15A",
           "#19d3f3",
           "#FF6692",
           "#B6E880",
           "#FF97FF",
           "#FECB52"
          ],
          "font": {
           "color": "#2a3f5f"
          },
          "geo": {
           "bgcolor": "white",
           "lakecolor": "white",
           "landcolor": "#E5ECF6",
           "showlakes": true,
           "showland": true,
           "subunitcolor": "white"
          },
          "hoverlabel": {
           "align": "left"
          },
          "hovermode": "closest",
          "mapbox": {
           "style": "light"
          },
          "paper_bgcolor": "white",
          "plot_bgcolor": "#E5ECF6",
          "polar": {
           "angularaxis": {
            "gridcolor": "white",
            "linecolor": "white",
            "ticks": ""
           },
           "bgcolor": "#E5ECF6",
           "radialaxis": {
            "gridcolor": "white",
            "linecolor": "white",
            "ticks": ""
           }
          },
          "scene": {
           "xaxis": {
            "backgroundcolor": "#E5ECF6",
            "gridcolor": "white",
            "gridwidth": 2,
            "linecolor": "white",
            "showbackground": true,
            "ticks": "",
            "zerolinecolor": "white"
           },
           "yaxis": {
            "backgroundcolor": "#E5ECF6",
            "gridcolor": "white",
            "gridwidth": 2,
            "linecolor": "white",
            "showbackground": true,
            "ticks": "",
            "zerolinecolor": "white"
           },
           "zaxis": {
            "backgroundcolor": "#E5ECF6",
            "gridcolor": "white",
            "gridwidth": 2,
            "linecolor": "white",
            "showbackground": true,
            "ticks": "",
            "zerolinecolor": "white"
           }
          },
          "shapedefaults": {
           "line": {
            "color": "#2a3f5f"
           }
          },
          "ternary": {
           "aaxis": {
            "gridcolor": "white",
            "linecolor": "white",
            "ticks": ""
           },
           "baxis": {
            "gridcolor": "white",
            "linecolor": "white",
            "ticks": ""
           },
           "bgcolor": "#E5ECF6",
           "caxis": {
            "gridcolor": "white",
            "linecolor": "white",
            "ticks": ""
           }
          },
          "title": {
           "x": 0.05
          },
          "xaxis": {
           "automargin": true,
           "gridcolor": "white",
           "linecolor": "white",
           "ticks": "",
           "title": {
            "standoff": 15
           },
           "zerolinecolor": "white",
           "zerolinewidth": 2
          },
          "yaxis": {
           "automargin": true,
           "gridcolor": "white",
           "linecolor": "white",
           "ticks": "",
           "title": {
            "standoff": 15
           },
           "zerolinecolor": "white",
           "zerolinewidth": 2
          }
         }
        },
        "title": {
         "text": "PCA gaard-agamdao"
        },
        "xaxis": {
         "anchor": "y",
         "domain": [
          0,
          1
         ],
         "title": {
          "text": "PC1"
         }
        },
        "yaxis": {
         "anchor": "x",
         "domain": [
          0,
          1
         ],
         "title": {
          "text": "PC2"
         }
        }
       }
      },
      "text/html": [
       "<div>                            <div id=\"7d8b1b8d-34cb-44e3-a85d-82d66dbb527b\" class=\"plotly-graph-div\" style=\"height:525px; width:100%;\"></div>            <script type=\"text/javascript\">                require([\"plotly\"], function(Plotly) {                    window.PLOTLYENV=window.PLOTLYENV || {};                                    if (document.getElementById(\"7d8b1b8d-34cb-44e3-a85d-82d66dbb527b\")) {                    Plotly.newPlot(                        \"7d8b1b8d-34cb-44e3-a85d-82d66dbb527b\",                        [{\"customdata\":[[\"Benin\",\"Avrankou\"],[\"Benin\",\"Avrankou\"],[\"Benin\",\"Avrankou\"],[\"Benin\",\"Avrankou\"],[\"Benin\",\"Avrankou\"],[\"Benin\",\"Avrankou\"],[\"Benin\",\"Avrankou\"],[\"Benin\",\"Avrankou\"],[\"Benin\",\"Avrankou\"],[\"Benin\",\"Avrankou\"],[\"Benin\",\"Avrankou\"],[\"Benin\",\"Avrankou\"],[\"Benin\",\"Avrankou\"],[\"Benin\",\"Avrankou\"],[\"Benin\",\"Avrankou\"],[\"Benin\",\"Avrankou\"],[\"Benin\",\"Avrankou\"],[\"Benin\",\"Avrankou\"],[\"Benin\",\"Avrankou\"],[\"Benin\",\"Avrankou\"],[\"Benin\",\"Avrankou\"],[\"Benin\",\"Avrankou\"],[\"Benin\",\"Avrankou\"],[\"Benin\",\"Avrankou\"],[\"Benin\",\"Avrankou\"],[\"Benin\",\"Avrankou\"],[\"Benin\",\"Avrankou\"],[\"Benin\",\"Avrankou\"],[\"Benin\",\"Avrankou\"],[\"Benin\",\"Avrankou\"],[\"Benin\",\"Avrankou\"],[\"Benin\",\"Avrankou\"],[\"Benin\",\"Avrankou\"],[\"Benin\",\"Avrankou\"],[\"Benin\",\"Avrankou\"],[\"Benin\",\"Avrankou\"],[\"Benin\",\"Avrankou\"],[\"Benin\",\"Avrankou\"],[\"Benin\",\"Avrankou\"],[\"Benin\",\"Avrankou\"],[\"Benin\",\"Avrankou\"],[\"Benin\",\"Avrankou\"],[\"Benin\",\"Avrankou\"],[\"Benin\",\"Avrankou\"],[\"Benin\",\"Avrankou\"],[\"Benin\",\"Avrankou\"],[\"Benin\",\"Avrankou\"],[\"Benin\",\"Avrankou\"],[\"Benin\",\"Avrankou\"],[\"Benin\",\"Avrankou\"],[\"Benin\",\"Avrankou\"],[\"Benin\",\"Avrankou\"],[\"Benin\",\"Avrankou\"],[\"Benin\",\"Avrankou\"],[\"Benin\",\"Avrankou\"],[\"Benin\",\"Avrankou\"],[\"Benin\",\"Avrankou\"],[\"Benin\",\"Avrankou\"],[\"Benin\",\"Avrankou\"],[\"Benin\",\"Avrankou\"],[\"Benin\",\"Avrankou\"],[\"Benin\",\"Avrankou\"],[\"Benin\",\"Avrankou\"],[\"Benin\",\"Avrankou\"],[\"Benin\",\"Avrankou\"],[\"Benin\",\"Avrankou\"],[\"Benin\",\"Avrankou\"],[\"Benin\",\"Avrankou\"],[\"Benin\",\"Avrankou\"],[\"Benin\",\"Avrankou\"],[\"Benin\",\"Avrankou\"],[\"Benin\",\"Avrankou\"],[\"Benin\",\"Avrankou\"],[\"Benin\",\"Avrankou\"],[\"Benin\",\"Avrankou\"],[\"Benin\",\"Avrankou\"],[\"Benin\",\"Avrankou\"],[\"Benin\",\"Avrankou\"],[\"Benin\",\"Avrankou\"],[\"Benin\",\"Avrankou\"],[\"Benin\",\"Avrankou\"],[\"Benin\",\"Avrankou\"],[\"Benin\",\"Avrankou\"],[\"Benin\",\"Avrankou\"],[\"Benin\",\"Avrankou\"],[\"Benin\",\"Avrankou\"],[\"Benin\",\"Avrankou\"]],\"hovertemplate\":\"taxon=coluzzii<br>PC1=%{x}<br>PC2=%{y}<br>country=%{customdata[0]}<br>location=%{customdata[1]}<extra></extra>\",\"legendgroup\":\"coluzzii\",\"marker\":{\"color\":\"#636efa\",\"symbol\":\"circle\"},\"mode\":\"markers\",\"name\":\"coluzzii\",\"orientation\":\"v\",\"showlegend\":true,\"x\":[-3.431375741958618,-3.7260866165161133,-3.478306531906128,-4.023698329925537,-3.061809778213501,-4.175347805023193,-4.330020427703857,-3.528759479522705,-3.726087808609009,-3.4421820640563965,-3.8614203929901123,-3.4968719482421875,-2.945322275161743,-4.192164897918701,-3.5779507160186768,-3.5051023960113525,-3.3136603832244873,-3.6584959030151367,-3.1296892166137695,-3.5891613960266113,-3.4210762977600098,-3.915447235107422,-3.782212257385254,-3.9773857593536377,-3.5139153003692627,-2.920159339904785,-2.8013432025909424,-3.026057004928589,-3.4987874031066895,-3.303331136703491,-1.3917045593261719,-3.952972412109375,-4.474099636077881,-3.916433334350586,-3.617263078689575,-3.3779780864715576,-3.7495152950286865,-3.617263078689575,-3.7263073921203613,-4.027982711791992,-4.029664516448975,-4.136463165283203,-3.574582815170288,-3.797940731048584,-4.4164228439331055,-3.380139112472534,-3.9502618312835693,-3.4210762977600098,-4.494765281677246,-3.9902217388153076,-3.979924440383911,-3.725599527359009,-3.6108782291412354,-4.336369037628174,-4.447063446044922,-2.810964345932007,-4.487410545349121,-4.017055511474609,-3.8595051765441895,-4.994251728057861,-4.098080635070801,-3.8387224674224854,-3.047531843185425,-3.574582815170288,-3.528759479522705,-3.2256298065185547,-4.1544270515441895,-4.104419708251953,-4.297163009643555,-3.45671010017395,-4.10245418548584,-2.5141444206237793,-3.39485502243042,-4.101393699645996,-2.3800714015960693,-3.830425262451172,-3.8253109455108643,-3.4883856773376465,-3.638671398162842,-3.391820192337036,-3.987579822540283,-3.954688549041748,-3.524247646331787,-4.458024024963379,-3.931276321411133,-3.3133153915405273,-4.586030960083008],\"xaxis\":\"x\",\"y\":[-1.1638659238815308,-3.1682558059692383,-3.039700746536255,-1.5090409517288208,-3.0404765605926514,4.738772869110107,-0.1893818974494934,-3.026819944381714,-3.1682560443878174,-3.9605772495269775,-2.348543643951416,-2.9100112915039062,-2.832906723022461,-1.6811060905456543,-3.2762293815612793,6.513737201690674,-2.263303279876709,-1.726723313331604,-2.883814573287964,-3.0538785457611084,-3.1339612007141113,-1.0780766010284424,-2.1685116291046143,-1.7032029628753662,1.1114140748977661,-2.4548380374908447,-2.7842535972595215,-2.8053770065307617,-3.2380049228668213,-3.1274499893188477,-2.8815860748291016,-1.4521582126617432,5.779097557067871,-1.8681880235671997,-2.6565074920654297,-3.239504098892212,-2.2869181632995605,-2.6565074920654297,6.3061652183532715,6.251776218414307,-0.8976389169692993,6.513529300689697,-3.0140559673309326,-2.1116385459899902,5.713377952575684,-1.7595410346984863,-1.3419855833053589,-3.1339612007141113,6.25661563873291,-1.3162685632705688,-1.7669923305511475,-3.13964581489563,0.8240100741386414,0.7687246203422546,2.6887803077697754,-2.485938549041748,6.349283218383789,-1.6573435068130493,-2.02055025100708,10.409006118774414,-0.7481886744499207,-1.7641445398330688,1.2915102243423462,-3.0140559673309326,-3.026819944381714,-2.3280017375946045,6.382083892822266,14.710884094238281,5.867670059204102,5.764064311981201,-1.39286208152771,-3.1195268630981445,-1.5798977613449097,6.316422462463379,-3.1197352409362793,9.338404655456543,-2.0629682540893555,-3.2251410484313965,-2.760528564453125,5.809237480163574,-1.9662727117538452,-1.2875508069992065,-0.7217514514923096,5.894908428192139,-2.1204335689544678,-2.391871213912964,11.702414512634277],\"yaxis\":\"y\",\"type\":\"scatter\"},{\"customdata\":[[\"Ghana\",\"Madina_North\"],[\"Ghana\",\"Madina_North\"],[\"Ghana\",\"Madina_North\"],[\"Ghana\",\"Madina_North\"],[\"Ghana\",\"Madina_North\"],[\"Ghana\",\"Madina_North\"],[\"Ghana\",\"Madina_North\"],[\"Ghana\",\"Madina_North\"],[\"Ghana\",\"Madina_North\"],[\"Ghana\",\"Madina_North\"]],\"hovertemplate\":\"taxon=gambiae<br>PC1=%{x}<br>PC2=%{y}<br>country=%{customdata[0]}<br>location=%{customdata[1]}<extra></extra>\",\"legendgroup\":\"gambiae\",\"marker\":{\"color\":\"#EF553B\",\"symbol\":\"circle\"},\"mode\":\"markers\",\"name\":\"gambiae\",\"orientation\":\"v\",\"showlegend\":true,\"x\":[32.532386779785156,32.57343292236328,31.43844985961914,32.852718353271484,34.759849548339844,28.884275436401367,33.1204719543457,33.12387466430664,33.01336669921875,29.0480899810791],\"xaxis\":\"x\",\"y\":[0.2968467175960541,0.07586374133825302,0.01779608614742756,1.5810362100601196,0.5740913152694702,-0.11266223341226578,0.34311172366142273,0.1402558535337448,-0.05872935801744461,-0.1231650784611702],\"yaxis\":\"y\",\"type\":\"scatter\"}],                        {\"template\":{\"data\":{\"histogram2dcontour\":[{\"type\":\"histogram2dcontour\",\"colorbar\":{\"outlinewidth\":0,\"ticks\":\"\"},\"colorscale\":[[0.0,\"#0d0887\"],[0.1111111111111111,\"#46039f\"],[0.2222222222222222,\"#7201a8\"],[0.3333333333333333,\"#9c179e\"],[0.4444444444444444,\"#bd3786\"],[0.5555555555555556,\"#d8576b\"],[0.6666666666666666,\"#ed7953\"],[0.7777777777777778,\"#fb9f3a\"],[0.8888888888888888,\"#fdca26\"],[1.0,\"#f0f921\"]]}],\"choropleth\":[{\"type\":\"choropleth\",\"colorbar\":{\"outlinewidth\":0,\"ticks\":\"\"}}],\"histogram2d\":[{\"type\":\"histogram2d\",\"colorbar\":{\"outlinewidth\":0,\"ticks\":\"\"},\"colorscale\":[[0.0,\"#0d0887\"],[0.1111111111111111,\"#46039f\"],[0.2222222222222222,\"#7201a8\"],[0.3333333333333333,\"#9c179e\"],[0.4444444444444444,\"#bd3786\"],[0.5555555555555556,\"#d8576b\"],[0.6666666666666666,\"#ed7953\"],[0.7777777777777778,\"#fb9f3a\"],[0.8888888888888888,\"#fdca26\"],[1.0,\"#f0f921\"]]}],\"heatmap\":[{\"type\":\"heatmap\",\"colorbar\":{\"outlinewidth\":0,\"ticks\":\"\"},\"colorscale\":[[0.0,\"#0d0887\"],[0.1111111111111111,\"#46039f\"],[0.2222222222222222,\"#7201a8\"],[0.3333333333333333,\"#9c179e\"],[0.4444444444444444,\"#bd3786\"],[0.5555555555555556,\"#d8576b\"],[0.6666666666666666,\"#ed7953\"],[0.7777777777777778,\"#fb9f3a\"],[0.8888888888888888,\"#fdca26\"],[1.0,\"#f0f921\"]]}],\"heatmapgl\":[{\"type\":\"heatmapgl\",\"colorbar\":{\"outlinewidth\":0,\"ticks\":\"\"},\"colorscale\":[[0.0,\"#0d0887\"],[0.1111111111111111,\"#46039f\"],[0.2222222222222222,\"#7201a8\"],[0.3333333333333333,\"#9c179e\"],[0.4444444444444444,\"#bd3786\"],[0.5555555555555556,\"#d8576b\"],[0.6666666666666666,\"#ed7953\"],[0.7777777777777778,\"#fb9f3a\"],[0.8888888888888888,\"#fdca26\"],[1.0,\"#f0f921\"]]}],\"contourcarpet\":[{\"type\":\"contourcarpet\",\"colorbar\":{\"outlinewidth\":0,\"ticks\":\"\"}}],\"contour\":[{\"type\":\"contour\",\"colorbar\":{\"outlinewidth\":0,\"ticks\":\"\"},\"colorscale\":[[0.0,\"#0d0887\"],[0.1111111111111111,\"#46039f\"],[0.2222222222222222,\"#7201a8\"],[0.3333333333333333,\"#9c179e\"],[0.4444444444444444,\"#bd3786\"],[0.5555555555555556,\"#d8576b\"],[0.6666666666666666,\"#ed7953\"],[0.7777777777777778,\"#fb9f3a\"],[0.8888888888888888,\"#fdca26\"],[1.0,\"#f0f921\"]]}],\"surface\":[{\"type\":\"surface\",\"colorbar\":{\"outlinewidth\":0,\"ticks\":\"\"},\"colorscale\":[[0.0,\"#0d0887\"],[0.1111111111111111,\"#46039f\"],[0.2222222222222222,\"#7201a8\"],[0.3333333333333333,\"#9c179e\"],[0.4444444444444444,\"#bd3786\"],[0.5555555555555556,\"#d8576b\"],[0.6666666666666666,\"#ed7953\"],[0.7777777777777778,\"#fb9f3a\"],[0.8888888888888888,\"#fdca26\"],[1.0,\"#f0f921\"]]}],\"mesh3d\":[{\"type\":\"mesh3d\",\"colorbar\":{\"outlinewidth\":0,\"ticks\":\"\"}}],\"scatter\":[{\"fillpattern\":{\"fillmode\":\"overlay\",\"size\":10,\"solidity\":0.2},\"type\":\"scatter\"}],\"parcoords\":[{\"type\":\"parcoords\",\"line\":{\"colorbar\":{\"outlinewidth\":0,\"ticks\":\"\"}}}],\"scatterpolargl\":[{\"type\":\"scatterpolargl\",\"marker\":{\"colorbar\":{\"outlinewidth\":0,\"ticks\":\"\"}}}],\"bar\":[{\"error_x\":{\"color\":\"#2a3f5f\"},\"error_y\":{\"color\":\"#2a3f5f\"},\"marker\":{\"line\":{\"color\":\"#E5ECF6\",\"width\":0.5},\"pattern\":{\"fillmode\":\"overlay\",\"size\":10,\"solidity\":0.2}},\"type\":\"bar\"}],\"scattergeo\":[{\"type\":\"scattergeo\",\"marker\":{\"colorbar\":{\"outlinewidth\":0,\"ticks\":\"\"}}}],\"scatterpolar\":[{\"type\":\"scatterpolar\",\"marker\":{\"colorbar\":{\"outlinewidth\":0,\"ticks\":\"\"}}}],\"histogram\":[{\"marker\":{\"pattern\":{\"fillmode\":\"overlay\",\"size\":10,\"solidity\":0.2}},\"type\":\"histogram\"}],\"scattergl\":[{\"type\":\"scattergl\",\"marker\":{\"colorbar\":{\"outlinewidth\":0,\"ticks\":\"\"}}}],\"scatter3d\":[{\"type\":\"scatter3d\",\"line\":{\"colorbar\":{\"outlinewidth\":0,\"ticks\":\"\"}},\"marker\":{\"colorbar\":{\"outlinewidth\":0,\"ticks\":\"\"}}}],\"scattermapbox\":[{\"type\":\"scattermapbox\",\"marker\":{\"colorbar\":{\"outlinewidth\":0,\"ticks\":\"\"}}}],\"scatterternary\":[{\"type\":\"scatterternary\",\"marker\":{\"colorbar\":{\"outlinewidth\":0,\"ticks\":\"\"}}}],\"scattercarpet\":[{\"type\":\"scattercarpet\",\"marker\":{\"colorbar\":{\"outlinewidth\":0,\"ticks\":\"\"}}}],\"carpet\":[{\"aaxis\":{\"endlinecolor\":\"#2a3f5f\",\"gridcolor\":\"white\",\"linecolor\":\"white\",\"minorgridcolor\":\"white\",\"startlinecolor\":\"#2a3f5f\"},\"baxis\":{\"endlinecolor\":\"#2a3f5f\",\"gridcolor\":\"white\",\"linecolor\":\"white\",\"minorgridcolor\":\"white\",\"startlinecolor\":\"#2a3f5f\"},\"type\":\"carpet\"}],\"table\":[{\"cells\":{\"fill\":{\"color\":\"#EBF0F8\"},\"line\":{\"color\":\"white\"}},\"header\":{\"fill\":{\"color\":\"#C8D4E3\"},\"line\":{\"color\":\"white\"}},\"type\":\"table\"}],\"barpolar\":[{\"marker\":{\"line\":{\"color\":\"#E5ECF6\",\"width\":0.5},\"pattern\":{\"fillmode\":\"overlay\",\"size\":10,\"solidity\":0.2}},\"type\":\"barpolar\"}],\"pie\":[{\"automargin\":true,\"type\":\"pie\"}]},\"layout\":{\"autotypenumbers\":\"strict\",\"colorway\":[\"#636efa\",\"#EF553B\",\"#00cc96\",\"#ab63fa\",\"#FFA15A\",\"#19d3f3\",\"#FF6692\",\"#B6E880\",\"#FF97FF\",\"#FECB52\"],\"font\":{\"color\":\"#2a3f5f\"},\"hovermode\":\"closest\",\"hoverlabel\":{\"align\":\"left\"},\"paper_bgcolor\":\"white\",\"plot_bgcolor\":\"#E5ECF6\",\"polar\":{\"bgcolor\":\"#E5ECF6\",\"angularaxis\":{\"gridcolor\":\"white\",\"linecolor\":\"white\",\"ticks\":\"\"},\"radialaxis\":{\"gridcolor\":\"white\",\"linecolor\":\"white\",\"ticks\":\"\"}},\"ternary\":{\"bgcolor\":\"#E5ECF6\",\"aaxis\":{\"gridcolor\":\"white\",\"linecolor\":\"white\",\"ticks\":\"\"},\"baxis\":{\"gridcolor\":\"white\",\"linecolor\":\"white\",\"ticks\":\"\"},\"caxis\":{\"gridcolor\":\"white\",\"linecolor\":\"white\",\"ticks\":\"\"}},\"coloraxis\":{\"colorbar\":{\"outlinewidth\":0,\"ticks\":\"\"}},\"colorscale\":{\"sequential\":[[0.0,\"#0d0887\"],[0.1111111111111111,\"#46039f\"],[0.2222222222222222,\"#7201a8\"],[0.3333333333333333,\"#9c179e\"],[0.4444444444444444,\"#bd3786\"],[0.5555555555555556,\"#d8576b\"],[0.6666666666666666,\"#ed7953\"],[0.7777777777777778,\"#fb9f3a\"],[0.8888888888888888,\"#fdca26\"],[1.0,\"#f0f921\"]],\"sequentialminus\":[[0.0,\"#0d0887\"],[0.1111111111111111,\"#46039f\"],[0.2222222222222222,\"#7201a8\"],[0.3333333333333333,\"#9c179e\"],[0.4444444444444444,\"#bd3786\"],[0.5555555555555556,\"#d8576b\"],[0.6666666666666666,\"#ed7953\"],[0.7777777777777778,\"#fb9f3a\"],[0.8888888888888888,\"#fdca26\"],[1.0,\"#f0f921\"]],\"diverging\":[[0,\"#8e0152\"],[0.1,\"#c51b7d\"],[0.2,\"#de77ae\"],[0.3,\"#f1b6da\"],[0.4,\"#fde0ef\"],[0.5,\"#f7f7f7\"],[0.6,\"#e6f5d0\"],[0.7,\"#b8e186\"],[0.8,\"#7fbc41\"],[0.9,\"#4d9221\"],[1,\"#276419\"]]},\"xaxis\":{\"gridcolor\":\"white\",\"linecolor\":\"white\",\"ticks\":\"\",\"title\":{\"standoff\":15},\"zerolinecolor\":\"white\",\"automargin\":true,\"zerolinewidth\":2},\"yaxis\":{\"gridcolor\":\"white\",\"linecolor\":\"white\",\"ticks\":\"\",\"title\":{\"standoff\":15},\"zerolinecolor\":\"white\",\"automargin\":true,\"zerolinewidth\":2},\"scene\":{\"xaxis\":{\"backgroundcolor\":\"#E5ECF6\",\"gridcolor\":\"white\",\"linecolor\":\"white\",\"showbackground\":true,\"ticks\":\"\",\"zerolinecolor\":\"white\",\"gridwidth\":2},\"yaxis\":{\"backgroundcolor\":\"#E5ECF6\",\"gridcolor\":\"white\",\"linecolor\":\"white\",\"showbackground\":true,\"ticks\":\"\",\"zerolinecolor\":\"white\",\"gridwidth\":2},\"zaxis\":{\"backgroundcolor\":\"#E5ECF6\",\"gridcolor\":\"white\",\"linecolor\":\"white\",\"showbackground\":true,\"ticks\":\"\",\"zerolinecolor\":\"white\",\"gridwidth\":2}},\"shapedefaults\":{\"line\":{\"color\":\"#2a3f5f\"}},\"annotationdefaults\":{\"arrowcolor\":\"#2a3f5f\",\"arrowhead\":0,\"arrowwidth\":1},\"geo\":{\"bgcolor\":\"white\",\"landcolor\":\"#E5ECF6\",\"subunitcolor\":\"white\",\"showland\":true,\"showlakes\":true,\"lakecolor\":\"white\"},\"title\":{\"x\":0.05},\"mapbox\":{\"style\":\"light\"}}},\"xaxis\":{\"anchor\":\"y\",\"domain\":[0.0,1.0],\"title\":{\"text\":\"PC1\"}},\"yaxis\":{\"anchor\":\"x\",\"domain\":[0.0,1.0],\"title\":{\"text\":\"PC2\"}},\"legend\":{\"title\":{\"text\":\"taxon\"},\"tracegroupgap\":0},\"title\":{\"text\":\"PCA gaard-agamdao\"}},                        {\"responsive\": true}                    ).then(function(){\n",
       "                            \n",
       "var gd = document.getElementById('7d8b1b8d-34cb-44e3-a85d-82d66dbb527b');\n",
       "var x = new MutationObserver(function (mutations, observer) {{\n",
       "        var display = window.getComputedStyle(gd).display;\n",
       "        if (!display || display === 'none') {{\n",
       "            console.log([gd, 'removed!']);\n",
       "            Plotly.purge(gd);\n",
       "            observer.disconnect();\n",
       "        }}\n",
       "}});\n",
       "\n",
       "// Listen for the removal of the full notebook cells\n",
       "var notebookContainer = gd.closest('#notebook-container');\n",
       "if (notebookContainer) {{\n",
       "    x.observe(notebookContainer, {childList: true});\n",
       "}}\n",
       "\n",
       "// Listen for the clearing of the current output cell\n",
       "var outputEl = gd.closest('.output');\n",
       "if (outputEl) {{\n",
       "    x.observe(outputEl, {childList: true});\n",
       "}}\n",
       "\n",
       "                        })                };                });            </script>        </div>"
      ]
     },
     "metadata": {},
     "output_type": "display_data"
    }
   ],
   "source": [
    "fig = px.scatter(\n",
    "    pca_df, \n",
    "    x='PC1', \n",
    "    y='PC2', \n",
    "    title=f\"PCA {dataset}\", \n",
    "    color='taxon', \n",
    "    hover_data=['country', 'location'])\n",
    "\n",
    "fig"
   ]
  },
  {
   "cell_type": "markdown",
   "id": "e84fa81a",
   "metadata": {},
   "source": [
    "### PC3 v PC4"
   ]
  },
  {
   "cell_type": "code",
   "execution_count": 48,
   "id": "cf916920",
   "metadata": {},
   "outputs": [
    {
     "data": {
      "application/vnd.plotly.v1+json": {
       "config": {
        "plotlyServerURL": "https://plot.ly"
       },
       "data": [
        {
         "customdata": [
          [
           "Benin",
           "Avrankou"
          ],
          [
           "Benin",
           "Avrankou"
          ],
          [
           "Benin",
           "Avrankou"
          ],
          [
           "Benin",
           "Avrankou"
          ],
          [
           "Benin",
           "Avrankou"
          ],
          [
           "Benin",
           "Avrankou"
          ],
          [
           "Benin",
           "Avrankou"
          ],
          [
           "Benin",
           "Avrankou"
          ],
          [
           "Benin",
           "Avrankou"
          ],
          [
           "Benin",
           "Avrankou"
          ],
          [
           "Benin",
           "Avrankou"
          ],
          [
           "Benin",
           "Avrankou"
          ],
          [
           "Benin",
           "Avrankou"
          ],
          [
           "Benin",
           "Avrankou"
          ],
          [
           "Benin",
           "Avrankou"
          ],
          [
           "Benin",
           "Avrankou"
          ],
          [
           "Benin",
           "Avrankou"
          ],
          [
           "Benin",
           "Avrankou"
          ],
          [
           "Benin",
           "Avrankou"
          ],
          [
           "Benin",
           "Avrankou"
          ],
          [
           "Benin",
           "Avrankou"
          ],
          [
           "Benin",
           "Avrankou"
          ],
          [
           "Benin",
           "Avrankou"
          ],
          [
           "Benin",
           "Avrankou"
          ],
          [
           "Benin",
           "Avrankou"
          ],
          [
           "Benin",
           "Avrankou"
          ],
          [
           "Benin",
           "Avrankou"
          ],
          [
           "Benin",
           "Avrankou"
          ],
          [
           "Benin",
           "Avrankou"
          ],
          [
           "Benin",
           "Avrankou"
          ],
          [
           "Benin",
           "Avrankou"
          ],
          [
           "Benin",
           "Avrankou"
          ],
          [
           "Benin",
           "Avrankou"
          ],
          [
           "Benin",
           "Avrankou"
          ],
          [
           "Benin",
           "Avrankou"
          ],
          [
           "Benin",
           "Avrankou"
          ],
          [
           "Benin",
           "Avrankou"
          ],
          [
           "Benin",
           "Avrankou"
          ],
          [
           "Benin",
           "Avrankou"
          ],
          [
           "Benin",
           "Avrankou"
          ],
          [
           "Benin",
           "Avrankou"
          ],
          [
           "Benin",
           "Avrankou"
          ],
          [
           "Benin",
           "Avrankou"
          ],
          [
           "Benin",
           "Avrankou"
          ],
          [
           "Benin",
           "Avrankou"
          ],
          [
           "Benin",
           "Avrankou"
          ],
          [
           "Benin",
           "Avrankou"
          ],
          [
           "Benin",
           "Avrankou"
          ],
          [
           "Benin",
           "Avrankou"
          ],
          [
           "Benin",
           "Avrankou"
          ],
          [
           "Benin",
           "Avrankou"
          ],
          [
           "Benin",
           "Avrankou"
          ],
          [
           "Benin",
           "Avrankou"
          ],
          [
           "Benin",
           "Avrankou"
          ],
          [
           "Benin",
           "Avrankou"
          ],
          [
           "Benin",
           "Avrankou"
          ],
          [
           "Benin",
           "Avrankou"
          ],
          [
           "Benin",
           "Avrankou"
          ],
          [
           "Benin",
           "Avrankou"
          ],
          [
           "Benin",
           "Avrankou"
          ],
          [
           "Benin",
           "Avrankou"
          ],
          [
           "Benin",
           "Avrankou"
          ],
          [
           "Benin",
           "Avrankou"
          ],
          [
           "Benin",
           "Avrankou"
          ],
          [
           "Benin",
           "Avrankou"
          ],
          [
           "Benin",
           "Avrankou"
          ],
          [
           "Benin",
           "Avrankou"
          ],
          [
           "Benin",
           "Avrankou"
          ],
          [
           "Benin",
           "Avrankou"
          ],
          [
           "Benin",
           "Avrankou"
          ],
          [
           "Benin",
           "Avrankou"
          ],
          [
           "Benin",
           "Avrankou"
          ],
          [
           "Benin",
           "Avrankou"
          ],
          [
           "Benin",
           "Avrankou"
          ],
          [
           "Benin",
           "Avrankou"
          ],
          [
           "Benin",
           "Avrankou"
          ],
          [
           "Benin",
           "Avrankou"
          ],
          [
           "Benin",
           "Avrankou"
          ],
          [
           "Benin",
           "Avrankou"
          ],
          [
           "Benin",
           "Avrankou"
          ],
          [
           "Benin",
           "Avrankou"
          ],
          [
           "Benin",
           "Avrankou"
          ],
          [
           "Benin",
           "Avrankou"
          ],
          [
           "Benin",
           "Avrankou"
          ],
          [
           "Benin",
           "Avrankou"
          ],
          [
           "Benin",
           "Avrankou"
          ],
          [
           "Benin",
           "Avrankou"
          ]
         ],
         "hovertemplate": "taxon=coluzzii<br>PC3=%{x}<br>PC4=%{y}<br>country=%{customdata[0]}<br>location=%{customdata[1]}<extra></extra>",
         "legendgroup": "coluzzii",
         "marker": {
          "color": "#636efa",
          "symbol": "circle"
         },
         "mode": "markers",
         "name": "coluzzii",
         "orientation": "v",
         "showlegend": true,
         "type": "scatter",
         "x": [
          -0.037877101451158524,
          -0.0032045291736721992,
          -0.1412537693977356,
          -0.5460279583930969,
          0.5052288770675659,
          0.5617961287498474,
          -0.2166128307580948,
          0.016532832756638527,
          -0.0032042711973190308,
          0.1288146823644638,
          -0.4817056357860565,
          0.12629294395446777,
          0.3417235314846039,
          -0.10428451746702194,
          -0.37562036514282227,
          0.6250952482223511,
          0.19656383991241455,
          0.22664888203144073,
          1.3173749446868896,
          0.017862753942608833,
          -0.02991119772195816,
          0.19867601990699768,
          -0.6393364071846008,
          -0.542224645614624,
          -0.4153940975666046,
          0.7460248470306396,
          0.30613112449645996,
          -0.15412268042564392,
          0.3240315616130829,
          -0.006528093479573727,
          0.6651914119720459,
          0.05419228971004486,
          -0.40058204531669617,
          -0.1984202116727829,
          0.3699086904525757,
          -0.3136341869831085,
          -0.511817455291748,
          0.3699086904525757,
          0.5639987587928772,
          -0.08069116622209549,
          -0.5074821710586548,
          0.3779835104942322,
          0.48023557662963867,
          -0.4057317078113556,
          -0.22193270921707153,
          -0.34438276290893555,
          0.013501769863069057,
          -0.02991119772195816,
          0.25532037019729614,
          -0.23993796110153198,
          -0.4358436167240143,
          0.06415234506130219,
          -0.10249212384223938,
          -0.5846041440963745,
          -0.32773756980895996,
          0.8959421515464783,
          0.38125723600387573,
          -0.04455970600247383,
          -0.6794434785842896,
          -0.3487229645252228,
          0.08008108288049698,
          -0.5523627400398254,
          0.024668866768479347,
          0.48023557662963867,
          0.01653316244482994,
          -0.433723121881485,
          0.41686663031578064,
          0.40867987275123596,
          -0.12610749900341034,
          -0.2060622274875641,
          0.06916416436433792,
          0.027368860319256783,
          -0.29048773646354675,
          0.28954964876174927,
          -0.3186509609222412,
          -0.6650561094284058,
          -0.35561367869377136,
          -0.08721086382865906,
          -0.15112712979316711,
          -0.0926586166024208,
          -0.3782627284526825,
          -0.03702116012573242,
          0.404282808303833,
          0.2581019699573517,
          -0.2179562747478485,
          -0.7220125198364258,
          0.04665013775229454
         ],
         "xaxis": "x",
         "y": [
          -1.3903285264968872,
          0.8330057859420776,
          2.7887768745422363,
          -1.3878669738769531,
          3.23911714553833,
          3.346290111541748,
          -4.884814739227295,
          2.47285795211792,
          0.8330040574073792,
          -0.13855482637882233,
          0.210869699716568,
          1.7631850242614746,
          1.389817476272583,
          -3.5715999603271484,
          1.7689851522445679,
          -0.8212659955024719,
          -0.32596203684806824,
          -4.873137950897217,
          2.760371685028076,
          0.811315655708313,
          3.086521863937378,
          -1.474137544631958,
          -1.0012190341949463,
          -1.9426606893539429,
          -3.0399370193481445,
          0.19814063608646393,
          1.769031047821045,
          1.8968651294708252,
          3.0766286849975586,
          1.7523024082183838,
          2.5342912673950195,
          -0.4131917953491211,
          1.1582516431808472,
          -0.6827419400215149,
          1.413835048675537,
          3.334517478942871,
          0.07412359118461609,
          1.413835048675537,
          -0.5755524039268494,
          0.8813485503196716,
          -1.6146554946899414,
          -0.13023114204406738,
          1.7532908916473389,
          0.2560626268386841,
          2.348222017288208,
          -1.3945180177688599,
          -2.1762592792510986,
          3.086522340774536,
          0.207570880651474,
          -3.3194050788879395,
          -1.451960802078247,
          1.7256591320037842,
          -6.378852844238281,
          -3.9694325923919678,
          -1.399173378944397,
          -0.41050347685813904,
          0.2754928767681122,
          -2.031135320663452,
          -1.1025737524032593,
          0.3319775462150574,
          -3.48222279548645,
          -0.6728481650352478,
          -1.1650390625,
          1.7532908916473389,
          2.4728589057922363,
          -0.7912216782569885,
          -1.4724591970443726,
          0.658118486404419,
          2.279397487640381,
          1.8569976091384888,
          -6.333682060241699,
          0.60409015417099,
          -1.659879446029663,
          0.12148641049861908,
          3.4549384117126465,
          0.6585603356361389,
          -1.24921452999115,
          2.249281644821167,
          1.2966042757034302,
          0.5233031511306763,
          -2.23494553565979,
          -0.8323856592178345,
          -3.3400015830993652,
          0.8782434463500977,
          -1.4436839818954468,
          0.445904940366745,
          3.4568653106689453
         ],
         "yaxis": "y"
        },
        {
         "customdata": [
          [
           "Ghana",
           "Madina_North"
          ],
          [
           "Ghana",
           "Madina_North"
          ],
          [
           "Ghana",
           "Madina_North"
          ],
          [
           "Ghana",
           "Madina_North"
          ],
          [
           "Ghana",
           "Madina_North"
          ],
          [
           "Ghana",
           "Madina_North"
          ],
          [
           "Ghana",
           "Madina_North"
          ],
          [
           "Ghana",
           "Madina_North"
          ],
          [
           "Ghana",
           "Madina_North"
          ],
          [
           "Ghana",
           "Madina_North"
          ]
         ],
         "hovertemplate": "taxon=gambiae<br>PC3=%{x}<br>PC4=%{y}<br>country=%{customdata[0]}<br>location=%{customdata[1]}<extra></extra>",
         "legendgroup": "gambiae",
         "marker": {
          "color": "#EF553B",
          "symbol": "circle"
         },
         "mode": "markers",
         "name": "gambiae",
         "orientation": "v",
         "showlegend": true,
         "type": "scatter",
         "x": [
          5.537504196166992,
          -8.00217056274414,
          -3.787034749984741,
          -4.630897045135498,
          3.04179048538208,
          14.629578590393066,
          -12.002756118774414,
          0.3179089426994324,
          4.011363983154297,
          2.3262436389923096
         ],
         "xaxis": "x",
         "y": [
          0.5514042377471924,
          1.5003862380981445,
          1.2015597820281982,
          -3.063603639602661,
          -1.2114752531051636,
          -0.07881801575422287,
          0.9635187387466431,
          0.5139442682266235,
          0.5088167190551758,
          -1.8042346239089966
         ],
         "yaxis": "y"
        }
       ],
       "layout": {
        "legend": {
         "title": {
          "text": "taxon"
         },
         "tracegroupgap": 0
        },
        "template": {
         "data": {
          "bar": [
           {
            "error_x": {
             "color": "#2a3f5f"
            },
            "error_y": {
             "color": "#2a3f5f"
            },
            "marker": {
             "line": {
              "color": "#E5ECF6",
              "width": 0.5
             },
             "pattern": {
              "fillmode": "overlay",
              "size": 10,
              "solidity": 0.2
             }
            },
            "type": "bar"
           }
          ],
          "barpolar": [
           {
            "marker": {
             "line": {
              "color": "#E5ECF6",
              "width": 0.5
             },
             "pattern": {
              "fillmode": "overlay",
              "size": 10,
              "solidity": 0.2
             }
            },
            "type": "barpolar"
           }
          ],
          "carpet": [
           {
            "aaxis": {
             "endlinecolor": "#2a3f5f",
             "gridcolor": "white",
             "linecolor": "white",
             "minorgridcolor": "white",
             "startlinecolor": "#2a3f5f"
            },
            "baxis": {
             "endlinecolor": "#2a3f5f",
             "gridcolor": "white",
             "linecolor": "white",
             "minorgridcolor": "white",
             "startlinecolor": "#2a3f5f"
            },
            "type": "carpet"
           }
          ],
          "choropleth": [
           {
            "colorbar": {
             "outlinewidth": 0,
             "ticks": ""
            },
            "type": "choropleth"
           }
          ],
          "contour": [
           {
            "colorbar": {
             "outlinewidth": 0,
             "ticks": ""
            },
            "colorscale": [
             [
              0,
              "#0d0887"
             ],
             [
              0.1111111111111111,
              "#46039f"
             ],
             [
              0.2222222222222222,
              "#7201a8"
             ],
             [
              0.3333333333333333,
              "#9c179e"
             ],
             [
              0.4444444444444444,
              "#bd3786"
             ],
             [
              0.5555555555555556,
              "#d8576b"
             ],
             [
              0.6666666666666666,
              "#ed7953"
             ],
             [
              0.7777777777777778,
              "#fb9f3a"
             ],
             [
              0.8888888888888888,
              "#fdca26"
             ],
             [
              1,
              "#f0f921"
             ]
            ],
            "type": "contour"
           }
          ],
          "contourcarpet": [
           {
            "colorbar": {
             "outlinewidth": 0,
             "ticks": ""
            },
            "type": "contourcarpet"
           }
          ],
          "heatmap": [
           {
            "colorbar": {
             "outlinewidth": 0,
             "ticks": ""
            },
            "colorscale": [
             [
              0,
              "#0d0887"
             ],
             [
              0.1111111111111111,
              "#46039f"
             ],
             [
              0.2222222222222222,
              "#7201a8"
             ],
             [
              0.3333333333333333,
              "#9c179e"
             ],
             [
              0.4444444444444444,
              "#bd3786"
             ],
             [
              0.5555555555555556,
              "#d8576b"
             ],
             [
              0.6666666666666666,
              "#ed7953"
             ],
             [
              0.7777777777777778,
              "#fb9f3a"
             ],
             [
              0.8888888888888888,
              "#fdca26"
             ],
             [
              1,
              "#f0f921"
             ]
            ],
            "type": "heatmap"
           }
          ],
          "heatmapgl": [
           {
            "colorbar": {
             "outlinewidth": 0,
             "ticks": ""
            },
            "colorscale": [
             [
              0,
              "#0d0887"
             ],
             [
              0.1111111111111111,
              "#46039f"
             ],
             [
              0.2222222222222222,
              "#7201a8"
             ],
             [
              0.3333333333333333,
              "#9c179e"
             ],
             [
              0.4444444444444444,
              "#bd3786"
             ],
             [
              0.5555555555555556,
              "#d8576b"
             ],
             [
              0.6666666666666666,
              "#ed7953"
             ],
             [
              0.7777777777777778,
              "#fb9f3a"
             ],
             [
              0.8888888888888888,
              "#fdca26"
             ],
             [
              1,
              "#f0f921"
             ]
            ],
            "type": "heatmapgl"
           }
          ],
          "histogram": [
           {
            "marker": {
             "pattern": {
              "fillmode": "overlay",
              "size": 10,
              "solidity": 0.2
             }
            },
            "type": "histogram"
           }
          ],
          "histogram2d": [
           {
            "colorbar": {
             "outlinewidth": 0,
             "ticks": ""
            },
            "colorscale": [
             [
              0,
              "#0d0887"
             ],
             [
              0.1111111111111111,
              "#46039f"
             ],
             [
              0.2222222222222222,
              "#7201a8"
             ],
             [
              0.3333333333333333,
              "#9c179e"
             ],
             [
              0.4444444444444444,
              "#bd3786"
             ],
             [
              0.5555555555555556,
              "#d8576b"
             ],
             [
              0.6666666666666666,
              "#ed7953"
             ],
             [
              0.7777777777777778,
              "#fb9f3a"
             ],
             [
              0.8888888888888888,
              "#fdca26"
             ],
             [
              1,
              "#f0f921"
             ]
            ],
            "type": "histogram2d"
           }
          ],
          "histogram2dcontour": [
           {
            "colorbar": {
             "outlinewidth": 0,
             "ticks": ""
            },
            "colorscale": [
             [
              0,
              "#0d0887"
             ],
             [
              0.1111111111111111,
              "#46039f"
             ],
             [
              0.2222222222222222,
              "#7201a8"
             ],
             [
              0.3333333333333333,
              "#9c179e"
             ],
             [
              0.4444444444444444,
              "#bd3786"
             ],
             [
              0.5555555555555556,
              "#d8576b"
             ],
             [
              0.6666666666666666,
              "#ed7953"
             ],
             [
              0.7777777777777778,
              "#fb9f3a"
             ],
             [
              0.8888888888888888,
              "#fdca26"
             ],
             [
              1,
              "#f0f921"
             ]
            ],
            "type": "histogram2dcontour"
           }
          ],
          "mesh3d": [
           {
            "colorbar": {
             "outlinewidth": 0,
             "ticks": ""
            },
            "type": "mesh3d"
           }
          ],
          "parcoords": [
           {
            "line": {
             "colorbar": {
              "outlinewidth": 0,
              "ticks": ""
             }
            },
            "type": "parcoords"
           }
          ],
          "pie": [
           {
            "automargin": true,
            "type": "pie"
           }
          ],
          "scatter": [
           {
            "fillpattern": {
             "fillmode": "overlay",
             "size": 10,
             "solidity": 0.2
            },
            "type": "scatter"
           }
          ],
          "scatter3d": [
           {
            "line": {
             "colorbar": {
              "outlinewidth": 0,
              "ticks": ""
             }
            },
            "marker": {
             "colorbar": {
              "outlinewidth": 0,
              "ticks": ""
             }
            },
            "type": "scatter3d"
           }
          ],
          "scattercarpet": [
           {
            "marker": {
             "colorbar": {
              "outlinewidth": 0,
              "ticks": ""
             }
            },
            "type": "scattercarpet"
           }
          ],
          "scattergeo": [
           {
            "marker": {
             "colorbar": {
              "outlinewidth": 0,
              "ticks": ""
             }
            },
            "type": "scattergeo"
           }
          ],
          "scattergl": [
           {
            "marker": {
             "colorbar": {
              "outlinewidth": 0,
              "ticks": ""
             }
            },
            "type": "scattergl"
           }
          ],
          "scattermapbox": [
           {
            "marker": {
             "colorbar": {
              "outlinewidth": 0,
              "ticks": ""
             }
            },
            "type": "scattermapbox"
           }
          ],
          "scatterpolar": [
           {
            "marker": {
             "colorbar": {
              "outlinewidth": 0,
              "ticks": ""
             }
            },
            "type": "scatterpolar"
           }
          ],
          "scatterpolargl": [
           {
            "marker": {
             "colorbar": {
              "outlinewidth": 0,
              "ticks": ""
             }
            },
            "type": "scatterpolargl"
           }
          ],
          "scatterternary": [
           {
            "marker": {
             "colorbar": {
              "outlinewidth": 0,
              "ticks": ""
             }
            },
            "type": "scatterternary"
           }
          ],
          "surface": [
           {
            "colorbar": {
             "outlinewidth": 0,
             "ticks": ""
            },
            "colorscale": [
             [
              0,
              "#0d0887"
             ],
             [
              0.1111111111111111,
              "#46039f"
             ],
             [
              0.2222222222222222,
              "#7201a8"
             ],
             [
              0.3333333333333333,
              "#9c179e"
             ],
             [
              0.4444444444444444,
              "#bd3786"
             ],
             [
              0.5555555555555556,
              "#d8576b"
             ],
             [
              0.6666666666666666,
              "#ed7953"
             ],
             [
              0.7777777777777778,
              "#fb9f3a"
             ],
             [
              0.8888888888888888,
              "#fdca26"
             ],
             [
              1,
              "#f0f921"
             ]
            ],
            "type": "surface"
           }
          ],
          "table": [
           {
            "cells": {
             "fill": {
              "color": "#EBF0F8"
             },
             "line": {
              "color": "white"
             }
            },
            "header": {
             "fill": {
              "color": "#C8D4E3"
             },
             "line": {
              "color": "white"
             }
            },
            "type": "table"
           }
          ]
         },
         "layout": {
          "annotationdefaults": {
           "arrowcolor": "#2a3f5f",
           "arrowhead": 0,
           "arrowwidth": 1
          },
          "autotypenumbers": "strict",
          "coloraxis": {
           "colorbar": {
            "outlinewidth": 0,
            "ticks": ""
           }
          },
          "colorscale": {
           "diverging": [
            [
             0,
             "#8e0152"
            ],
            [
             0.1,
             "#c51b7d"
            ],
            [
             0.2,
             "#de77ae"
            ],
            [
             0.3,
             "#f1b6da"
            ],
            [
             0.4,
             "#fde0ef"
            ],
            [
             0.5,
             "#f7f7f7"
            ],
            [
             0.6,
             "#e6f5d0"
            ],
            [
             0.7,
             "#b8e186"
            ],
            [
             0.8,
             "#7fbc41"
            ],
            [
             0.9,
             "#4d9221"
            ],
            [
             1,
             "#276419"
            ]
           ],
           "sequential": [
            [
             0,
             "#0d0887"
            ],
            [
             0.1111111111111111,
             "#46039f"
            ],
            [
             0.2222222222222222,
             "#7201a8"
            ],
            [
             0.3333333333333333,
             "#9c179e"
            ],
            [
             0.4444444444444444,
             "#bd3786"
            ],
            [
             0.5555555555555556,
             "#d8576b"
            ],
            [
             0.6666666666666666,
             "#ed7953"
            ],
            [
             0.7777777777777778,
             "#fb9f3a"
            ],
            [
             0.8888888888888888,
             "#fdca26"
            ],
            [
             1,
             "#f0f921"
            ]
           ],
           "sequentialminus": [
            [
             0,
             "#0d0887"
            ],
            [
             0.1111111111111111,
             "#46039f"
            ],
            [
             0.2222222222222222,
             "#7201a8"
            ],
            [
             0.3333333333333333,
             "#9c179e"
            ],
            [
             0.4444444444444444,
             "#bd3786"
            ],
            [
             0.5555555555555556,
             "#d8576b"
            ],
            [
             0.6666666666666666,
             "#ed7953"
            ],
            [
             0.7777777777777778,
             "#fb9f3a"
            ],
            [
             0.8888888888888888,
             "#fdca26"
            ],
            [
             1,
             "#f0f921"
            ]
           ]
          },
          "colorway": [
           "#636efa",
           "#EF553B",
           "#00cc96",
           "#ab63fa",
           "#FFA15A",
           "#19d3f3",
           "#FF6692",
           "#B6E880",
           "#FF97FF",
           "#FECB52"
          ],
          "font": {
           "color": "#2a3f5f"
          },
          "geo": {
           "bgcolor": "white",
           "lakecolor": "white",
           "landcolor": "#E5ECF6",
           "showlakes": true,
           "showland": true,
           "subunitcolor": "white"
          },
          "hoverlabel": {
           "align": "left"
          },
          "hovermode": "closest",
          "mapbox": {
           "style": "light"
          },
          "paper_bgcolor": "white",
          "plot_bgcolor": "#E5ECF6",
          "polar": {
           "angularaxis": {
            "gridcolor": "white",
            "linecolor": "white",
            "ticks": ""
           },
           "bgcolor": "#E5ECF6",
           "radialaxis": {
            "gridcolor": "white",
            "linecolor": "white",
            "ticks": ""
           }
          },
          "scene": {
           "xaxis": {
            "backgroundcolor": "#E5ECF6",
            "gridcolor": "white",
            "gridwidth": 2,
            "linecolor": "white",
            "showbackground": true,
            "ticks": "",
            "zerolinecolor": "white"
           },
           "yaxis": {
            "backgroundcolor": "#E5ECF6",
            "gridcolor": "white",
            "gridwidth": 2,
            "linecolor": "white",
            "showbackground": true,
            "ticks": "",
            "zerolinecolor": "white"
           },
           "zaxis": {
            "backgroundcolor": "#E5ECF6",
            "gridcolor": "white",
            "gridwidth": 2,
            "linecolor": "white",
            "showbackground": true,
            "ticks": "",
            "zerolinecolor": "white"
           }
          },
          "shapedefaults": {
           "line": {
            "color": "#2a3f5f"
           }
          },
          "ternary": {
           "aaxis": {
            "gridcolor": "white",
            "linecolor": "white",
            "ticks": ""
           },
           "baxis": {
            "gridcolor": "white",
            "linecolor": "white",
            "ticks": ""
           },
           "bgcolor": "#E5ECF6",
           "caxis": {
            "gridcolor": "white",
            "linecolor": "white",
            "ticks": ""
           }
          },
          "title": {
           "x": 0.05
          },
          "xaxis": {
           "automargin": true,
           "gridcolor": "white",
           "linecolor": "white",
           "ticks": "",
           "title": {
            "standoff": 15
           },
           "zerolinecolor": "white",
           "zerolinewidth": 2
          },
          "yaxis": {
           "automargin": true,
           "gridcolor": "white",
           "linecolor": "white",
           "ticks": "",
           "title": {
            "standoff": 15
           },
           "zerolinecolor": "white",
           "zerolinewidth": 2
          }
         }
        },
        "title": {
         "text": "PCA gaard-agamdao"
        },
        "xaxis": {
         "anchor": "y",
         "domain": [
          0,
          1
         ],
         "title": {
          "text": "PC3"
         }
        },
        "yaxis": {
         "anchor": "x",
         "domain": [
          0,
          1
         ],
         "title": {
          "text": "PC4"
         }
        }
       }
      },
      "text/html": [
       "<div>                            <div id=\"ff7b4e8b-9b91-4fc9-b6bc-75bc83cd1f50\" class=\"plotly-graph-div\" style=\"height:525px; width:100%;\"></div>            <script type=\"text/javascript\">                require([\"plotly\"], function(Plotly) {                    window.PLOTLYENV=window.PLOTLYENV || {};                                    if (document.getElementById(\"ff7b4e8b-9b91-4fc9-b6bc-75bc83cd1f50\")) {                    Plotly.newPlot(                        \"ff7b4e8b-9b91-4fc9-b6bc-75bc83cd1f50\",                        [{\"customdata\":[[\"Benin\",\"Avrankou\"],[\"Benin\",\"Avrankou\"],[\"Benin\",\"Avrankou\"],[\"Benin\",\"Avrankou\"],[\"Benin\",\"Avrankou\"],[\"Benin\",\"Avrankou\"],[\"Benin\",\"Avrankou\"],[\"Benin\",\"Avrankou\"],[\"Benin\",\"Avrankou\"],[\"Benin\",\"Avrankou\"],[\"Benin\",\"Avrankou\"],[\"Benin\",\"Avrankou\"],[\"Benin\",\"Avrankou\"],[\"Benin\",\"Avrankou\"],[\"Benin\",\"Avrankou\"],[\"Benin\",\"Avrankou\"],[\"Benin\",\"Avrankou\"],[\"Benin\",\"Avrankou\"],[\"Benin\",\"Avrankou\"],[\"Benin\",\"Avrankou\"],[\"Benin\",\"Avrankou\"],[\"Benin\",\"Avrankou\"],[\"Benin\",\"Avrankou\"],[\"Benin\",\"Avrankou\"],[\"Benin\",\"Avrankou\"],[\"Benin\",\"Avrankou\"],[\"Benin\",\"Avrankou\"],[\"Benin\",\"Avrankou\"],[\"Benin\",\"Avrankou\"],[\"Benin\",\"Avrankou\"],[\"Benin\",\"Avrankou\"],[\"Benin\",\"Avrankou\"],[\"Benin\",\"Avrankou\"],[\"Benin\",\"Avrankou\"],[\"Benin\",\"Avrankou\"],[\"Benin\",\"Avrankou\"],[\"Benin\",\"Avrankou\"],[\"Benin\",\"Avrankou\"],[\"Benin\",\"Avrankou\"],[\"Benin\",\"Avrankou\"],[\"Benin\",\"Avrankou\"],[\"Benin\",\"Avrankou\"],[\"Benin\",\"Avrankou\"],[\"Benin\",\"Avrankou\"],[\"Benin\",\"Avrankou\"],[\"Benin\",\"Avrankou\"],[\"Benin\",\"Avrankou\"],[\"Benin\",\"Avrankou\"],[\"Benin\",\"Avrankou\"],[\"Benin\",\"Avrankou\"],[\"Benin\",\"Avrankou\"],[\"Benin\",\"Avrankou\"],[\"Benin\",\"Avrankou\"],[\"Benin\",\"Avrankou\"],[\"Benin\",\"Avrankou\"],[\"Benin\",\"Avrankou\"],[\"Benin\",\"Avrankou\"],[\"Benin\",\"Avrankou\"],[\"Benin\",\"Avrankou\"],[\"Benin\",\"Avrankou\"],[\"Benin\",\"Avrankou\"],[\"Benin\",\"Avrankou\"],[\"Benin\",\"Avrankou\"],[\"Benin\",\"Avrankou\"],[\"Benin\",\"Avrankou\"],[\"Benin\",\"Avrankou\"],[\"Benin\",\"Avrankou\"],[\"Benin\",\"Avrankou\"],[\"Benin\",\"Avrankou\"],[\"Benin\",\"Avrankou\"],[\"Benin\",\"Avrankou\"],[\"Benin\",\"Avrankou\"],[\"Benin\",\"Avrankou\"],[\"Benin\",\"Avrankou\"],[\"Benin\",\"Avrankou\"],[\"Benin\",\"Avrankou\"],[\"Benin\",\"Avrankou\"],[\"Benin\",\"Avrankou\"],[\"Benin\",\"Avrankou\"],[\"Benin\",\"Avrankou\"],[\"Benin\",\"Avrankou\"],[\"Benin\",\"Avrankou\"],[\"Benin\",\"Avrankou\"],[\"Benin\",\"Avrankou\"],[\"Benin\",\"Avrankou\"],[\"Benin\",\"Avrankou\"],[\"Benin\",\"Avrankou\"]],\"hovertemplate\":\"taxon=coluzzii<br>PC3=%{x}<br>PC4=%{y}<br>country=%{customdata[0]}<br>location=%{customdata[1]}<extra></extra>\",\"legendgroup\":\"coluzzii\",\"marker\":{\"color\":\"#636efa\",\"symbol\":\"circle\"},\"mode\":\"markers\",\"name\":\"coluzzii\",\"orientation\":\"v\",\"showlegend\":true,\"x\":[-0.037877101451158524,-0.0032045291736721992,-0.1412537693977356,-0.5460279583930969,0.5052288770675659,0.5617961287498474,-0.2166128307580948,0.016532832756638527,-0.0032042711973190308,0.1288146823644638,-0.4817056357860565,0.12629294395446777,0.3417235314846039,-0.10428451746702194,-0.37562036514282227,0.6250952482223511,0.19656383991241455,0.22664888203144073,1.3173749446868896,0.017862753942608833,-0.02991119772195816,0.19867601990699768,-0.6393364071846008,-0.542224645614624,-0.4153940975666046,0.7460248470306396,0.30613112449645996,-0.15412268042564392,0.3240315616130829,-0.006528093479573727,0.6651914119720459,0.05419228971004486,-0.40058204531669617,-0.1984202116727829,0.3699086904525757,-0.3136341869831085,-0.511817455291748,0.3699086904525757,0.5639987587928772,-0.08069116622209549,-0.5074821710586548,0.3779835104942322,0.48023557662963867,-0.4057317078113556,-0.22193270921707153,-0.34438276290893555,0.013501769863069057,-0.02991119772195816,0.25532037019729614,-0.23993796110153198,-0.4358436167240143,0.06415234506130219,-0.10249212384223938,-0.5846041440963745,-0.32773756980895996,0.8959421515464783,0.38125723600387573,-0.04455970600247383,-0.6794434785842896,-0.3487229645252228,0.08008108288049698,-0.5523627400398254,0.024668866768479347,0.48023557662963867,0.01653316244482994,-0.433723121881485,0.41686663031578064,0.40867987275123596,-0.12610749900341034,-0.2060622274875641,0.06916416436433792,0.027368860319256783,-0.29048773646354675,0.28954964876174927,-0.3186509609222412,-0.6650561094284058,-0.35561367869377136,-0.08721086382865906,-0.15112712979316711,-0.0926586166024208,-0.3782627284526825,-0.03702116012573242,0.404282808303833,0.2581019699573517,-0.2179562747478485,-0.7220125198364258,0.04665013775229454],\"xaxis\":\"x\",\"y\":[-1.3903285264968872,0.8330057859420776,2.7887768745422363,-1.3878669738769531,3.23911714553833,3.346290111541748,-4.884814739227295,2.47285795211792,0.8330040574073792,-0.13855482637882233,0.210869699716568,1.7631850242614746,1.389817476272583,-3.5715999603271484,1.7689851522445679,-0.8212659955024719,-0.32596203684806824,-4.873137950897217,2.760371685028076,0.811315655708313,3.086521863937378,-1.474137544631958,-1.0012190341949463,-1.9426606893539429,-3.0399370193481445,0.19814063608646393,1.769031047821045,1.8968651294708252,3.0766286849975586,1.7523024082183838,2.5342912673950195,-0.4131917953491211,1.1582516431808472,-0.6827419400215149,1.413835048675537,3.334517478942871,0.07412359118461609,1.413835048675537,-0.5755524039268494,0.8813485503196716,-1.6146554946899414,-0.13023114204406738,1.7532908916473389,0.2560626268386841,2.348222017288208,-1.3945180177688599,-2.1762592792510986,3.086522340774536,0.207570880651474,-3.3194050788879395,-1.451960802078247,1.7256591320037842,-6.378852844238281,-3.9694325923919678,-1.399173378944397,-0.41050347685813904,0.2754928767681122,-2.031135320663452,-1.1025737524032593,0.3319775462150574,-3.48222279548645,-0.6728481650352478,-1.1650390625,1.7532908916473389,2.4728589057922363,-0.7912216782569885,-1.4724591970443726,0.658118486404419,2.279397487640381,1.8569976091384888,-6.333682060241699,0.60409015417099,-1.659879446029663,0.12148641049861908,3.4549384117126465,0.6585603356361389,-1.24921452999115,2.249281644821167,1.2966042757034302,0.5233031511306763,-2.23494553565979,-0.8323856592178345,-3.3400015830993652,0.8782434463500977,-1.4436839818954468,0.445904940366745,3.4568653106689453],\"yaxis\":\"y\",\"type\":\"scatter\"},{\"customdata\":[[\"Ghana\",\"Madina_North\"],[\"Ghana\",\"Madina_North\"],[\"Ghana\",\"Madina_North\"],[\"Ghana\",\"Madina_North\"],[\"Ghana\",\"Madina_North\"],[\"Ghana\",\"Madina_North\"],[\"Ghana\",\"Madina_North\"],[\"Ghana\",\"Madina_North\"],[\"Ghana\",\"Madina_North\"],[\"Ghana\",\"Madina_North\"]],\"hovertemplate\":\"taxon=gambiae<br>PC3=%{x}<br>PC4=%{y}<br>country=%{customdata[0]}<br>location=%{customdata[1]}<extra></extra>\",\"legendgroup\":\"gambiae\",\"marker\":{\"color\":\"#EF553B\",\"symbol\":\"circle\"},\"mode\":\"markers\",\"name\":\"gambiae\",\"orientation\":\"v\",\"showlegend\":true,\"x\":[5.537504196166992,-8.00217056274414,-3.787034749984741,-4.630897045135498,3.04179048538208,14.629578590393066,-12.002756118774414,0.3179089426994324,4.011363983154297,2.3262436389923096],\"xaxis\":\"x\",\"y\":[0.5514042377471924,1.5003862380981445,1.2015597820281982,-3.063603639602661,-1.2114752531051636,-0.07881801575422287,0.9635187387466431,0.5139442682266235,0.5088167190551758,-1.8042346239089966],\"yaxis\":\"y\",\"type\":\"scatter\"}],                        {\"template\":{\"data\":{\"histogram2dcontour\":[{\"type\":\"histogram2dcontour\",\"colorbar\":{\"outlinewidth\":0,\"ticks\":\"\"},\"colorscale\":[[0.0,\"#0d0887\"],[0.1111111111111111,\"#46039f\"],[0.2222222222222222,\"#7201a8\"],[0.3333333333333333,\"#9c179e\"],[0.4444444444444444,\"#bd3786\"],[0.5555555555555556,\"#d8576b\"],[0.6666666666666666,\"#ed7953\"],[0.7777777777777778,\"#fb9f3a\"],[0.8888888888888888,\"#fdca26\"],[1.0,\"#f0f921\"]]}],\"choropleth\":[{\"type\":\"choropleth\",\"colorbar\":{\"outlinewidth\":0,\"ticks\":\"\"}}],\"histogram2d\":[{\"type\":\"histogram2d\",\"colorbar\":{\"outlinewidth\":0,\"ticks\":\"\"},\"colorscale\":[[0.0,\"#0d0887\"],[0.1111111111111111,\"#46039f\"],[0.2222222222222222,\"#7201a8\"],[0.3333333333333333,\"#9c179e\"],[0.4444444444444444,\"#bd3786\"],[0.5555555555555556,\"#d8576b\"],[0.6666666666666666,\"#ed7953\"],[0.7777777777777778,\"#fb9f3a\"],[0.8888888888888888,\"#fdca26\"],[1.0,\"#f0f921\"]]}],\"heatmap\":[{\"type\":\"heatmap\",\"colorbar\":{\"outlinewidth\":0,\"ticks\":\"\"},\"colorscale\":[[0.0,\"#0d0887\"],[0.1111111111111111,\"#46039f\"],[0.2222222222222222,\"#7201a8\"],[0.3333333333333333,\"#9c179e\"],[0.4444444444444444,\"#bd3786\"],[0.5555555555555556,\"#d8576b\"],[0.6666666666666666,\"#ed7953\"],[0.7777777777777778,\"#fb9f3a\"],[0.8888888888888888,\"#fdca26\"],[1.0,\"#f0f921\"]]}],\"heatmapgl\":[{\"type\":\"heatmapgl\",\"colorbar\":{\"outlinewidth\":0,\"ticks\":\"\"},\"colorscale\":[[0.0,\"#0d0887\"],[0.1111111111111111,\"#46039f\"],[0.2222222222222222,\"#7201a8\"],[0.3333333333333333,\"#9c179e\"],[0.4444444444444444,\"#bd3786\"],[0.5555555555555556,\"#d8576b\"],[0.6666666666666666,\"#ed7953\"],[0.7777777777777778,\"#fb9f3a\"],[0.8888888888888888,\"#fdca26\"],[1.0,\"#f0f921\"]]}],\"contourcarpet\":[{\"type\":\"contourcarpet\",\"colorbar\":{\"outlinewidth\":0,\"ticks\":\"\"}}],\"contour\":[{\"type\":\"contour\",\"colorbar\":{\"outlinewidth\":0,\"ticks\":\"\"},\"colorscale\":[[0.0,\"#0d0887\"],[0.1111111111111111,\"#46039f\"],[0.2222222222222222,\"#7201a8\"],[0.3333333333333333,\"#9c179e\"],[0.4444444444444444,\"#bd3786\"],[0.5555555555555556,\"#d8576b\"],[0.6666666666666666,\"#ed7953\"],[0.7777777777777778,\"#fb9f3a\"],[0.8888888888888888,\"#fdca26\"],[1.0,\"#f0f921\"]]}],\"surface\":[{\"type\":\"surface\",\"colorbar\":{\"outlinewidth\":0,\"ticks\":\"\"},\"colorscale\":[[0.0,\"#0d0887\"],[0.1111111111111111,\"#46039f\"],[0.2222222222222222,\"#7201a8\"],[0.3333333333333333,\"#9c179e\"],[0.4444444444444444,\"#bd3786\"],[0.5555555555555556,\"#d8576b\"],[0.6666666666666666,\"#ed7953\"],[0.7777777777777778,\"#fb9f3a\"],[0.8888888888888888,\"#fdca26\"],[1.0,\"#f0f921\"]]}],\"mesh3d\":[{\"type\":\"mesh3d\",\"colorbar\":{\"outlinewidth\":0,\"ticks\":\"\"}}],\"scatter\":[{\"fillpattern\":{\"fillmode\":\"overlay\",\"size\":10,\"solidity\":0.2},\"type\":\"scatter\"}],\"parcoords\":[{\"type\":\"parcoords\",\"line\":{\"colorbar\":{\"outlinewidth\":0,\"ticks\":\"\"}}}],\"scatterpolargl\":[{\"type\":\"scatterpolargl\",\"marker\":{\"colorbar\":{\"outlinewidth\":0,\"ticks\":\"\"}}}],\"bar\":[{\"error_x\":{\"color\":\"#2a3f5f\"},\"error_y\":{\"color\":\"#2a3f5f\"},\"marker\":{\"line\":{\"color\":\"#E5ECF6\",\"width\":0.5},\"pattern\":{\"fillmode\":\"overlay\",\"size\":10,\"solidity\":0.2}},\"type\":\"bar\"}],\"scattergeo\":[{\"type\":\"scattergeo\",\"marker\":{\"colorbar\":{\"outlinewidth\":0,\"ticks\":\"\"}}}],\"scatterpolar\":[{\"type\":\"scatterpolar\",\"marker\":{\"colorbar\":{\"outlinewidth\":0,\"ticks\":\"\"}}}],\"histogram\":[{\"marker\":{\"pattern\":{\"fillmode\":\"overlay\",\"size\":10,\"solidity\":0.2}},\"type\":\"histogram\"}],\"scattergl\":[{\"type\":\"scattergl\",\"marker\":{\"colorbar\":{\"outlinewidth\":0,\"ticks\":\"\"}}}],\"scatter3d\":[{\"type\":\"scatter3d\",\"line\":{\"colorbar\":{\"outlinewidth\":0,\"ticks\":\"\"}},\"marker\":{\"colorbar\":{\"outlinewidth\":0,\"ticks\":\"\"}}}],\"scattermapbox\":[{\"type\":\"scattermapbox\",\"marker\":{\"colorbar\":{\"outlinewidth\":0,\"ticks\":\"\"}}}],\"scatterternary\":[{\"type\":\"scatterternary\",\"marker\":{\"colorbar\":{\"outlinewidth\":0,\"ticks\":\"\"}}}],\"scattercarpet\":[{\"type\":\"scattercarpet\",\"marker\":{\"colorbar\":{\"outlinewidth\":0,\"ticks\":\"\"}}}],\"carpet\":[{\"aaxis\":{\"endlinecolor\":\"#2a3f5f\",\"gridcolor\":\"white\",\"linecolor\":\"white\",\"minorgridcolor\":\"white\",\"startlinecolor\":\"#2a3f5f\"},\"baxis\":{\"endlinecolor\":\"#2a3f5f\",\"gridcolor\":\"white\",\"linecolor\":\"white\",\"minorgridcolor\":\"white\",\"startlinecolor\":\"#2a3f5f\"},\"type\":\"carpet\"}],\"table\":[{\"cells\":{\"fill\":{\"color\":\"#EBF0F8\"},\"line\":{\"color\":\"white\"}},\"header\":{\"fill\":{\"color\":\"#C8D4E3\"},\"line\":{\"color\":\"white\"}},\"type\":\"table\"}],\"barpolar\":[{\"marker\":{\"line\":{\"color\":\"#E5ECF6\",\"width\":0.5},\"pattern\":{\"fillmode\":\"overlay\",\"size\":10,\"solidity\":0.2}},\"type\":\"barpolar\"}],\"pie\":[{\"automargin\":true,\"type\":\"pie\"}]},\"layout\":{\"autotypenumbers\":\"strict\",\"colorway\":[\"#636efa\",\"#EF553B\",\"#00cc96\",\"#ab63fa\",\"#FFA15A\",\"#19d3f3\",\"#FF6692\",\"#B6E880\",\"#FF97FF\",\"#FECB52\"],\"font\":{\"color\":\"#2a3f5f\"},\"hovermode\":\"closest\",\"hoverlabel\":{\"align\":\"left\"},\"paper_bgcolor\":\"white\",\"plot_bgcolor\":\"#E5ECF6\",\"polar\":{\"bgcolor\":\"#E5ECF6\",\"angularaxis\":{\"gridcolor\":\"white\",\"linecolor\":\"white\",\"ticks\":\"\"},\"radialaxis\":{\"gridcolor\":\"white\",\"linecolor\":\"white\",\"ticks\":\"\"}},\"ternary\":{\"bgcolor\":\"#E5ECF6\",\"aaxis\":{\"gridcolor\":\"white\",\"linecolor\":\"white\",\"ticks\":\"\"},\"baxis\":{\"gridcolor\":\"white\",\"linecolor\":\"white\",\"ticks\":\"\"},\"caxis\":{\"gridcolor\":\"white\",\"linecolor\":\"white\",\"ticks\":\"\"}},\"coloraxis\":{\"colorbar\":{\"outlinewidth\":0,\"ticks\":\"\"}},\"colorscale\":{\"sequential\":[[0.0,\"#0d0887\"],[0.1111111111111111,\"#46039f\"],[0.2222222222222222,\"#7201a8\"],[0.3333333333333333,\"#9c179e\"],[0.4444444444444444,\"#bd3786\"],[0.5555555555555556,\"#d8576b\"],[0.6666666666666666,\"#ed7953\"],[0.7777777777777778,\"#fb9f3a\"],[0.8888888888888888,\"#fdca26\"],[1.0,\"#f0f921\"]],\"sequentialminus\":[[0.0,\"#0d0887\"],[0.1111111111111111,\"#46039f\"],[0.2222222222222222,\"#7201a8\"],[0.3333333333333333,\"#9c179e\"],[0.4444444444444444,\"#bd3786\"],[0.5555555555555556,\"#d8576b\"],[0.6666666666666666,\"#ed7953\"],[0.7777777777777778,\"#fb9f3a\"],[0.8888888888888888,\"#fdca26\"],[1.0,\"#f0f921\"]],\"diverging\":[[0,\"#8e0152\"],[0.1,\"#c51b7d\"],[0.2,\"#de77ae\"],[0.3,\"#f1b6da\"],[0.4,\"#fde0ef\"],[0.5,\"#f7f7f7\"],[0.6,\"#e6f5d0\"],[0.7,\"#b8e186\"],[0.8,\"#7fbc41\"],[0.9,\"#4d9221\"],[1,\"#276419\"]]},\"xaxis\":{\"gridcolor\":\"white\",\"linecolor\":\"white\",\"ticks\":\"\",\"title\":{\"standoff\":15},\"zerolinecolor\":\"white\",\"automargin\":true,\"zerolinewidth\":2},\"yaxis\":{\"gridcolor\":\"white\",\"linecolor\":\"white\",\"ticks\":\"\",\"title\":{\"standoff\":15},\"zerolinecolor\":\"white\",\"automargin\":true,\"zerolinewidth\":2},\"scene\":{\"xaxis\":{\"backgroundcolor\":\"#E5ECF6\",\"gridcolor\":\"white\",\"linecolor\":\"white\",\"showbackground\":true,\"ticks\":\"\",\"zerolinecolor\":\"white\",\"gridwidth\":2},\"yaxis\":{\"backgroundcolor\":\"#E5ECF6\",\"gridcolor\":\"white\",\"linecolor\":\"white\",\"showbackground\":true,\"ticks\":\"\",\"zerolinecolor\":\"white\",\"gridwidth\":2},\"zaxis\":{\"backgroundcolor\":\"#E5ECF6\",\"gridcolor\":\"white\",\"linecolor\":\"white\",\"showbackground\":true,\"ticks\":\"\",\"zerolinecolor\":\"white\",\"gridwidth\":2}},\"shapedefaults\":{\"line\":{\"color\":\"#2a3f5f\"}},\"annotationdefaults\":{\"arrowcolor\":\"#2a3f5f\",\"arrowhead\":0,\"arrowwidth\":1},\"geo\":{\"bgcolor\":\"white\",\"landcolor\":\"#E5ECF6\",\"subunitcolor\":\"white\",\"showland\":true,\"showlakes\":true,\"lakecolor\":\"white\"},\"title\":{\"x\":0.05},\"mapbox\":{\"style\":\"light\"}}},\"xaxis\":{\"anchor\":\"y\",\"domain\":[0.0,1.0],\"title\":{\"text\":\"PC3\"}},\"yaxis\":{\"anchor\":\"x\",\"domain\":[0.0,1.0],\"title\":{\"text\":\"PC4\"}},\"legend\":{\"title\":{\"text\":\"taxon\"},\"tracegroupgap\":0},\"title\":{\"text\":\"PCA gaard-agamdao\"}},                        {\"responsive\": true}                    ).then(function(){\n",
       "                            \n",
       "var gd = document.getElementById('ff7b4e8b-9b91-4fc9-b6bc-75bc83cd1f50');\n",
       "var x = new MutationObserver(function (mutations, observer) {{\n",
       "        var display = window.getComputedStyle(gd).display;\n",
       "        if (!display || display === 'none') {{\n",
       "            console.log([gd, 'removed!']);\n",
       "            Plotly.purge(gd);\n",
       "            observer.disconnect();\n",
       "        }}\n",
       "}});\n",
       "\n",
       "// Listen for the removal of the full notebook cells\n",
       "var notebookContainer = gd.closest('#notebook-container');\n",
       "if (notebookContainer) {{\n",
       "    x.observe(notebookContainer, {childList: true});\n",
       "}}\n",
       "\n",
       "// Listen for the clearing of the current output cell\n",
       "var outputEl = gd.closest('.output');\n",
       "if (outputEl) {{\n",
       "    x.observe(outputEl, {childList: true});\n",
       "}}\n",
       "\n",
       "                        })                };                });            </script>        </div>"
      ]
     },
     "metadata": {},
     "output_type": "display_data"
    }
   ],
   "source": [
    "fig = px.scatter(\n",
    "    pca_df, \n",
    "    x='PC3', \n",
    "    y='PC4', \n",
    "    title=f\"PCA {dataset}\", \n",
    "    color='taxon', \n",
    "    hover_data=['country', 'location'])\n",
    "\n",
    "fig"
   ]
  }
 ],
 "metadata": {
  "kernelspec": {
   "display_name": "AmpSeq_python",
   "language": "python",
   "name": "ampseq_python"
  },
  "language_info": {
   "codemirror_mode": {
    "name": "ipython",
    "version": 3
   },
   "file_extension": ".py",
   "mimetype": "text/x-python",
   "name": "python",
   "nbconvert_exporter": "python",
   "pygments_lexer": "ipython3",
   "version": "3.9.16"
  }
 },
 "nbformat": 4,
 "nbformat_minor": 5
}
