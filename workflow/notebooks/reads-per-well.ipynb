{
 "cells": [
  {
   "cell_type": "code",
   "execution_count": null,
   "id": "3757875d",
   "metadata": {
    "tags": [
     "remove-input"
    ]
   },
   "outputs": [],
   "source": [
    "import pandas as pd \n",
    "import plotly.express as px\n",
    "import numpy as np\n",
    "import pysam\n",
    "\n",
    "def count_mapped_reads(bam_file):\n",
    "    mapped_reads = 0\n",
    "    # Open the BAM file\n",
    "    with pysam.AlignmentFile(bam_file, \"rb\") as bam:\n",
    "        # Iterate over alignments\n",
    "        for alignment in bam:\n",
    "            # Check if the alignment is mapped\n",
    "            if not alignment.is_unmapped:\n",
    "                mapped_reads += 1\n",
    "\n",
    "    return mapped_reads"
   ]
  },
  {
   "cell_type": "code",
   "execution_count": null,
   "id": "045bf668",
   "metadata": {
    "tags": [
     "remove-input",
     "parameters"
    ]
   },
   "outputs": [],
   "source": [
    "metadata_path = \"../../config/metadata.tsv\""
   ]
  },
  {
   "attachments": {},
   "cell_type": "markdown",
   "id": "1470a04d",
   "metadata": {},
   "source": [
    "# Plate statistics\n",
    "\n",
    "In this notebook, we explore how sample-level statistics look when we map out the sample by their position on a plate. \n",
    "First, lets explore a histogram of the overall reads per sample. "
   ]
  },
  {
   "cell_type": "code",
   "execution_count": null,
   "id": "63ad3a24",
   "metadata": {
    "tags": [
     "remove-input"
    ]
   },
   "outputs": [],
   "source": [
    "def extract_percentage(string):\n",
    "    import re\n",
    "    # Pattern to match a percentage value\n",
    "    pattern = r'(\\d+(?:\\.\\d+)?)%'\n",
    "    # Search for the pattern in the string\n",
    "    match = re.search(pattern, string)\n",
    "    if match:\n",
    "        percentage = float(match.group(1))\n",
    "        return percentage\n",
    "    return None\n",
    "\n",
    "df_samples = pd.read_csv(metadata_path, sep=\"\\t\")\n",
    "\n",
    "# count mapped reads in bams \n",
    "mapped_reads = []\n",
    "freq_mapped = []\n",
    "for sampleID in df_samples['sampleID']:\n",
    "    # Call the count_mapped_reads function\n",
    "    mapped_reads_count = count_mapped_reads(f\"results/alignments/{sampleID}.bam\")\n",
    "    mapped_reads.append(mapped_reads_count)\n",
    "    \n",
    "    df = pd.read_csv(f\"results/alignments/bamStats/{sampleID}.flagstat\")\n",
    "    freq_mapped.append(extract_percentage(df.iloc[6, 0]))"
   ]
  },
  {
   "cell_type": "code",
   "execution_count": null,
   "id": "bca9e3ca",
   "metadata": {
    "scrolled": false,
    "tags": [
     "remove-input"
    ]
   },
   "outputs": [],
   "source": [
    "df_samples = df_samples.assign(mapped_reads=mapped_reads, freq_mapped=freq_mapped)\n",
    "\n",
    "fig = px.histogram(df_samples, x='mapped_reads', nbins=60, width=600, height=400)\n",
    "fig"
   ]
  },
  {
   "attachments": {},
   "cell_type": "markdown",
   "id": "86d2450a",
   "metadata": {},
   "source": [
    "### Mapped reads per well\n",
    "\n",
    "The below plot displays the samples in their 96 well plate format, showing the number of mapped reads assigned to each sample. Extra data on each sample is available by hovering over the wells. "
   ]
  },
  {
   "cell_type": "code",
   "execution_count": null,
   "id": "cda6b689",
   "metadata": {
    "tags": [
     "remove-input"
    ]
   },
   "outputs": [],
   "source": [
    "def plot_96well_plate(df_samples, color_var='mapped_reads', title='Plate A - Number of mapped reads'):\n",
    "    fig = px.scatter(df_samples[::-1], \n",
    "                     y='well_letter', \n",
    "                     x='well_number',\n",
    "                     color=color_var, \n",
    "                     hover_data=df_samples.columns, \n",
    "                     template='plotly_white')\n",
    "    fig.update_traces(marker_size=40)\n",
    "    fig.update_layout(xaxis = dict(\n",
    "                                side='top',\n",
    "                                tickmode = 'linear',\n",
    "                                tick0 = 0,\n",
    "                                dtick = 1), \n",
    "                      title=title)\n",
    "    return fig\n",
    "\n",
    "for plate in df_samples.plate.unique():\n",
    "    df = df_samples.query(f\"plate == @plate\")\n",
    "    fig = plot_96well_plate(df, color_var='mapped_reads', title=f'Plate {plate} - Number of mapped reads')\n",
    "    fig.show()"
   ]
  },
  {
   "cell_type": "code",
   "execution_count": null,
   "id": "34ba1bfc",
   "metadata": {
    "tags": [
     "remove-input"
    ]
   },
   "outputs": [],
   "source": [
    "for plate in df_samples.plate.unique():\n",
    "    df = df_samples.query(f\"plate == @plate\")\n",
    "    fig = plot_96well_plate(df, color_var='freq_mapped', title=f'Plate {plate} - % of reads that align to reference')\n",
    "    fig.show() "
   ]
  },
  {
   "cell_type": "code",
   "execution_count": null,
   "id": "83472e84",
   "metadata": {},
   "outputs": [],
   "source": []
  }
 ],
 "metadata": {
  "celltoolbar": "Tags",
  "kernelspec": {
   "display_name": "AmpSeq_python",
   "language": "python",
   "name": "ampseq_python"
  },
  "language_info": {
   "codemirror_mode": {
    "name": "ipython",
    "version": 3
   },
   "file_extension": ".py",
   "mimetype": "text/x-python",
   "name": "python",
   "nbconvert_exporter": "python",
   "pygments_lexer": "ipython3",
   "version": "3.9.16"
  }
 },
 "nbformat": 4,
 "nbformat_minor": 5
}
