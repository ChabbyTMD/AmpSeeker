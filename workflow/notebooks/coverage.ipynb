{
 "cells": [
  {
   "cell_type": "code",
   "execution_count": null,
   "metadata": {
    "tags": [
     "parameters"
    ]
   },
   "outputs": [],
   "source": [
    "metadata_path = '../../config/metadata.tsv'\n",
    "bed_targets_path = \"../../resources/AgamDao_info.tsv\""
   ]
  },
  {
   "cell_type": "code",
   "execution_count": null,
   "metadata": {},
   "outputs": [],
   "source": [
    "import pandas as pd\n",
    "import numpy as np\n",
    "import plotly.express as px\n",
    "\n",
    "def natural_sort( l ): \n",
    "    import re \n",
    "    \"\"\" Sort the given iterable in the way that humans expect.\"\"\" \n",
    "    convert = lambda text: int(text) if text.isdigit() else text \n",
    "    alphanum_key = lambda key: [ convert(c) for c in re.split('([0-9]+)', key) ] \n",
    "    return sorted(l, key = alphanum_key)"
   ]
  },
  {
   "attachments": {},
   "cell_type": "markdown",
   "metadata": {},
   "source": [
    "### Coverage\n",
    "\n",
    "In this notebook, we calculate coverage across the whole-genome and specifically at the SNP targets of the amplicon panel. "
   ]
  },
  {
   "cell_type": "code",
   "execution_count": null,
   "metadata": {},
   "outputs": [],
   "source": [
    "# load panel metadata\n",
    "metadata = pd.read_csv(metadata_path, sep=\"\\t\")\n",
    "panel_metadata = pd.read_csv(bed_targets_path, sep=\"\\t\")\n",
    "panel_metadata.columns = ['chrom', 'start', 'end', 'snp_target', 'type']\n",
    "contigs = panel_metadata.chrom.unique()"
   ]
  },
  {
   "attachments": {},
   "cell_type": "markdown",
   "metadata": {},
   "source": [
    "#### Whole-genome\n",
    "\n",
    "Lets plot coverage across the whole genome to see if we have off-target effects!"
   ]
  },
  {
   "cell_type": "code",
   "execution_count": null,
   "metadata": {},
   "outputs": [],
   "source": [
    "cov_list = []\n",
    "for sampleID in metadata['sampleID']:\n",
    "    cov_df = pd.read_csv(f\"results/coverage/{sampleID}.per-base.bed.gz\", sep=\"\\t\", header=None)\n",
    "    cov_df.columns = [\"chrom\", \"start\", \"end\", \"depth\"]\n",
    "    cov_df = cov_df.assign(sampleID=sampleID).query(\"chrom in @contigs\")\n",
    "    cov_list.append(cov_df)\n",
    "\n",
    "cov_df = pd.concat(cov_list, axis=0)\n",
    "\n",
    "total_cov_df = cov_df.groupby(['chrom', 'start', 'end']).agg({'depth':'sum'}).reset_index()\n",
    "total_cov_df = total_cov_df.assign(midpoint=lambda x: ((x.start + x.end)/2).astype(int))"
   ]
  },
  {
   "cell_type": "code",
   "execution_count": null,
   "metadata": {
    "scrolled": false
   },
   "outputs": [],
   "source": [
    "for idx, contig in enumerate(contigs):\n",
    "    fig = px.scatter(\n",
    "            total_cov_df.query(\"chrom == @contig\"),\n",
    "            x='midpoint', \n",
    "            y=\"depth\",\n",
    "            color_discrete_sequence=['lightsalmon'],\n",
    "            title=contig,\n",
    "            template='simple_white',\n",
    "            height=300,\n",
    "        )\n",
    "    \n",
    "    amp_lines = panel_metadata.query(\"chrom == @contig\")[['start', 'snp_target']].drop_duplicates()\n",
    "    for idx2, row in amp_lines.iterrows():\n",
    "        fig.add_vline(x=row['start'], line_width=1, line_dash=\"dash\", opacity=0.2)\n",
    "        \n",
    "    fig.show()"
   ]
  },
  {
   "attachments": {},
   "cell_type": "markdown",
   "metadata": {},
   "source": [
    "### Coverage at each target SNP"
   ]
  },
  {
   "cell_type": "code",
   "execution_count": null,
   "metadata": {},
   "outputs": [],
   "source": [
    "targets_cov = []\n",
    "\n",
    "for idx, row in panel_metadata.iterrows():\n",
    "    \n",
    "    snptarget_cov = cov_df.query(\"chrom == @row.chrom\").query(\"start >= @row.start & end <= @row.end\")\n",
    "    snptarget_cov = snptarget_cov.assign(snptarget=row.snp_target).drop(columns='sampleID')\n",
    "    targets_cov.append(snptarget_cov)                                            \n",
    "                                                             \n",
    "targets_cov = pd.concat(targets_cov)\n",
    "snp_targets_sorted = natural_sort(targets_cov.snptarget.unique().astype(str))"
   ]
  },
  {
   "cell_type": "code",
   "execution_count": null,
   "metadata": {},
   "outputs": [],
   "source": [
    "fig = px.box(targets_cov, x='snptarget', y='depth', width=1000)\n",
    "fig.update_xaxes(categoryorder='array', categoryarray= snp_targets_sorted )\n",
    "fig.show()"
   ]
  }
 ],
 "metadata": {
  "kernelspec": {
   "display_name": "Python 3 (ipykernel)",
   "language": "python",
   "name": "python3"
  },
  "language_info": {
   "codemirror_mode": {
    "name": "ipython",
    "version": 3
   },
   "file_extension": ".py",
   "mimetype": "text/x-python",
   "name": "python",
   "nbconvert_exporter": "python",
   "pygments_lexer": "ipython3",
   "version": "3.10.10"
  },
  "vscode": {
   "interpreter": {
    "hash": "ce681de973941d5edd9bd94c9a2926b7fe65e17e578a68317f38265a230b8ca7"
   }
  }
 },
 "nbformat": 4,
 "nbformat_minor": 2
}
