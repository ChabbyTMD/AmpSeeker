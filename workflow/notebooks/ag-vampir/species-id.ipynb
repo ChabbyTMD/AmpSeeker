{
 "cells": [
  {
   "cell_type": "code",
   "execution_count": null,
   "id": "52c0f6cb",
   "metadata": {
    "tags": [
     "remove-input"
    ]
   },
   "outputs": [],
   "source": [
    "import allel\n",
    "import pandas as pd\n",
    "import numpy as np\n",
    "import plotly.express as px\n",
    "\n",
    "def load_vcf(vcf_path, metadata):\n",
    "    \"\"\"\n",
    "    Load VCF and filter poor-quality samples\n",
    "    \"\"\"\n",
    "        \n",
    "    # load vcf and get genotypes and positions\n",
    "    vcf = allel.read_vcf(vcf_path, fields='*')\n",
    "    samples = vcf['samples']\n",
    "    # keep only samples in qcpass metadata \n",
    "    sample_mask = np.isin(vcf['samples'], metadata.sampleID)\n",
    "    \n",
    "    # remove low quality samples \n",
    "    geno = allel.GenotypeArray(vcf['calldata/GT'])\n",
    "    geno = geno.compress(sample_mask, axis=1)\n",
    "    pos = vcf['variants/POS']\n",
    "    contig = vcf['variants/CHROM']\n",
    "    indel = vcf['variants/INDEL']\n",
    "    \n",
    "    # remove indels \n",
    "    geno = geno.compress(~indel, axis=0)\n",
    "    pos = pos[~indel]\n",
    "    contig = contig[~indel]\n",
    "    \n",
    "    return geno, pos, contig, samples[sample_mask]"
   ]
  },
  {
   "cell_type": "code",
   "execution_count": null,
   "id": "0391f196",
   "metadata": {
    "tags": [
     "parameters",
     "remove-input"
    ]
   },
   "outputs": [],
   "source": [
    "metadata_path = '../../../results/config/metadata.qcpass.tsv'\n",
    "bed_targets_path = \"../../../config/ag-vampir.bed\"\n",
    "vcf_path = \"../../../results/vcfs/targets/ampseq-vigg01.annot.vcf\"\n",
    "wkdir = \"../..\"\n",
    "cohort_cols = 'taxon,location'"
   ]
  },
  {
   "cell_type": "markdown",
   "id": "8bbf306c",
   "metadata": {},
   "source": [
    "### Species ID"
   ]
  },
  {
   "cell_type": "code",
   "execution_count": null,
   "id": "d2b7e45b",
   "metadata": {
    "tags": [
     "remove-input"
    ]
   },
   "outputs": [],
   "source": [
    "metadata = pd.read_csv(metadata_path , sep=\"\\t\")\n",
    "targets = pd.read_csv(bed_targets_path, sep=\"\\t\", header=None)\n",
    "targets.columns = ['contig', 'start', 'end', 'amplicon', 'mutation']\n",
    "\n",
    "geno, pos, contig, samples = load_vcf(vcf_path=vcf_path, metadata=metadata)\n",
    "#ref = vcf['variants/REF']"
   ]
  },
  {
   "cell_type": "code",
   "execution_count": null,
   "id": "7ffdd883",
   "metadata": {
    "tags": [
     "remove-input"
    ]
   },
   "outputs": [],
   "source": [
    "aim_targets = targets.query(\"mutation.str.contains('AIM')\", engine='python')\n",
    "\n",
    "aim_mask = np.isin(pos, aim_targets.end.to_list())\n",
    "aim_gn = geno.compress(aim_mask, axis=0)\n",
    "aim_pos = pos[aim_mask]\n",
    "aim_contig = contig[aim_mask]\n",
    "\n",
    "aim_df = pd.DataFrame(aim_gn.to_n_alt(fill=-1)).assign(pos=aim_pos, contig=aim_contig).set_index(['pos', 'contig'])\n",
    "# reorder contigs \n",
    "aim_df = pd.concat([aim_df.query(\"contig == @contig\") for contig in ['2R', '2L', '3R', '3L', 'X']])\n",
    "aim_pos = aim_df.reset_index()['pos']\n",
    "aim_contig = aim_df.reset_index()['contig']\n",
    "\n",
    "x_label = [f\"{c}:{p}\" for c, p in zip(aim_contig, aim_pos)]\n",
    "\n",
    "fig = px.imshow(\n",
    "    aim_df.values.T, \n",
    "    x=x_label,\n",
    "    y=samples, \n",
    "    color_continuous_scale='blackbody_r',\n",
    "    aspect='auto',\n",
    "    title='gamb vs colu AIM genotypes',\n",
    "    width=1000, \n",
    "    height=800\n",
    ")\n",
    "fig.show()"
   ]
  },
  {
   "cell_type": "markdown",
   "id": "eb21a22d",
   "metadata": {},
   "source": [
    "### Species assignments by cohorts"
   ]
  },
  {
   "cell_type": "markdown",
   "id": "b00c39c3",
   "metadata": {},
   "source": []
  },
  {
   "cell_type": "markdown",
   "id": "2e8fbee7",
   "metadata": {},
   "source": []
  }
 ],
 "metadata": {
  "celltoolbar": "Tags",
  "kernelspec": {
   "display_name": "AmpSeq_python",
   "language": "python",
   "name": "ampseq_python"
  },
  "language_info": {
   "codemirror_mode": {
    "name": "ipython",
    "version": 3
   },
   "file_extension": ".py",
   "mimetype": "text/x-python",
   "name": "python",
   "nbconvert_exporter": "python",
   "pygments_lexer": "ipython3",
   "version": "3.9.18"
  }
 },
 "nbformat": 4,
 "nbformat_minor": 5
}
