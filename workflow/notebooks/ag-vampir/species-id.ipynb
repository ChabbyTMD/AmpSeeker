{
 "cells": [
  {
   "cell_type": "code",
   "execution_count": 14,
   "id": "52c0f6cb",
   "metadata": {
    "tags": [
     "remove-input"
    ]
   },
   "outputs": [],
   "source": [
    "import allel\n",
    "import pandas as pd\n",
    "import numpy as np\n",
    "import plotly.express as px\n",
    "import plotly.graph_objects as go  # type: ignore\n",
    "\n",
    "def load_vcf(vcf_path, metadata):\n",
    "    \"\"\"\n",
    "    Load VCF and filter poor-quality samples\n",
    "    \"\"\"\n",
    "        \n",
    "    # load vcf and get genotypes and positions\n",
    "    vcf = allel.read_vcf(vcf_path, fields='*')\n",
    "    samples = vcf['samples']\n",
    "    # keep only samples in qcpass metadata \n",
    "    sample_mask = np.isin(vcf['samples'], metadata.sampleID)\n",
    "    \n",
    "    # remove low quality samples \n",
    "    geno = allel.GenotypeArray(vcf['calldata/GT'])\n",
    "    geno = geno.compress(sample_mask, axis=1)\n",
    "    pos = vcf['variants/POS']\n",
    "    contig = vcf['variants/CHROM']\n",
    "    indel = vcf['variants/INDEL']\n",
    "    \n",
    "    refs = vcf['variants/REF']\n",
    "    alts = vcf['variants/ALT']\n",
    "    \n",
    "    # remove indels \n",
    "    geno = geno.compress(~indel, axis=0)\n",
    "    pos = pos[~indel]\n",
    "    contig = contig[~indel]\n",
    "    refs = refs[~indel]\n",
    "    alts = alts[~indel]\n",
    "    \n",
    "    return geno, pos, contig, samples[sample_mask], refs, alts"
   ]
  },
  {
   "cell_type": "code",
   "execution_count": 3,
   "id": "0391f196",
   "metadata": {
    "tags": [
     "parameters",
     "remove-input"
    ]
   },
   "outputs": [],
   "source": [
    "metadata_path = '../../../results/config/metadata.qcpass.tsv'\n",
    "bed_targets_path = \"../../../config/ag-vampir.bed\"\n",
    "vcf_path = \"../../../results/vcfs/targets/ag-vampir-002.annot.vcf\"\n",
    "wkdir = \"../../..\"\n",
    "cohort_cols = 'taxon,location'"
   ]
  },
  {
   "cell_type": "markdown",
   "id": "8bbf306c",
   "metadata": {},
   "source": [
    "### Species ID"
   ]
  },
  {
   "cell_type": "code",
   "execution_count": null,
   "id": "d2b7e45b",
   "metadata": {
    "tags": [
     "remove-input"
    ]
   },
   "outputs": [],
   "source": [
    "cohort_col = cohort_cols.split(',')[0]\n",
    "\n",
    "metadata = pd.read_csv(metadata_path , sep=\"\\t\", index_col=0)\n",
    "targets = pd.read_csv(bed_targets_path, sep=\"\\t\", header=None)\n",
    "targets.columns = ['contig', 'start', 'end', 'amplicon', 'mutation', 'ref', 'alt']\n",
    "\n",
    "geno, pos, gn_contigs, samples, refs, alts = load_vcf(vcf_path=vcf_path, metadata=metadata)\n",
    "alts = np.concatenate([refs.reshape(refs.shape[0], -1), alts], axis=1)"
   ]
  },
  {
   "cell_type": "code",
   "execution_count": 21,
   "id": "14944cbb",
   "metadata": {},
   "outputs": [],
   "source": [
    "def _aims_n_alt(gt, aim_alts, data_alts):\n",
    "    n_sites = gt.shape[0]\n",
    "    n_samples = gt.shape[1]\n",
    "    # create empty array\n",
    "    aim_n_alt = np.empty((n_sites, n_samples), dtype=np.int8)\n",
    "\n",
    "    # for every site\n",
    "    for i in range(n_sites):\n",
    "        # find the index of the correct tag snp allele\n",
    "        tagsnp_index = np.where(aim_alts[i] == data_alts[i])[0]\n",
    "        for j in range(n_samples):\n",
    "            n_tag_alleles = np.sum(gt[i, j] == tagsnp_index[0])\n",
    "            n_missing = np.sum(gt[i, j] == -1)\n",
    "            if n_missing != 0:\n",
    "                aim_n_alt[i,j] = -1\n",
    "            else:\n",
    "                aim_n_alt[i, j] = n_tag_alleles\n",
    "\n",
    "    return aim_n_alt"
   ]
  },
  {
   "cell_type": "code",
   "execution_count": null,
   "id": "7ffdd883",
   "metadata": {
    "tags": [
     "remove-input"
    ]
   },
   "outputs": [],
   "source": [
    "contigs = ['2L', '2R', '3L', '3R', 'X']\n",
    "df_aims = targets.query(\"mutation.str.contains('AIM')\", engine='python')\n",
    "\n",
    "aim_mask = np.isin(pos, df_aims.end.to_list())\n",
    "aim_gn = geno.compress(aim_mask, axis=0)\n",
    "aim_pos = pos[aim_mask]\n",
    "aim_contigs = gn_contigs[aim_mask]\n",
    "aim_alts = alts[aim_mask]\n",
    "\n",
    "aim_loc = [\"aim_\" + c + \":\" + str(aim_pos[i]) for i, c in enumerate(aim_contigs)]\n",
    "df_aims = df_aims.assign(loc=lambda x: \"aim_\" + x.contig + \":\" + x.end.astype(str)).set_index('loc')\n",
    "df_aims = df_aims.loc[aim_loc]\n",
    "\n",
    "aim_gn_alt = _aims_n_alt(aim_gn, aim_alts=df_aims.alt.to_list(), data_alts=aim_alts)\n",
    "df_aims = pd.concat([df_aims, pd.DataFrame(aim_gn_alt, columns=samples, index=aim_loc)], axis=1)\n",
    "df_aims = pd.concat([df_aims.query(f\"contig == '{contig}'\") for contig in contigs])\n",
    "df_aims_gn = df_aims.iloc[:, 7:].T\n",
    "\n",
    "x_label = df_aims_gn.columns.to_list()\n",
    "\n",
    "\n",
    "from plotly.subplots import make_subplots\n",
    "col_widths = [\n",
    "    np.count_nonzero(aim_contigs == contig)\n",
    "    for contig in contigs\n",
    "]\n",
    "\n",
    "fig = make_subplots(\n",
    "    rows=1,\n",
    "    cols=len(contigs),\n",
    "    shared_yaxes=True,\n",
    "    column_titles=contigs,\n",
    "    row_titles=None,\n",
    "    column_widths=col_widths,\n",
    "    x_title=None,\n",
    "    y_title=None,\n",
    "    horizontal_spacing=0.01,\n",
    "    vertical_spacing=0.01,\n",
    ")\n",
    "\n",
    "species = \"gamb_vs_colu\".split(\"_vs_\")\n",
    "# Define a colorbar.\n",
    "colorbar = dict(\n",
    "    title=\"AIM genotype\",\n",
    "    tickmode=\"array\",\n",
    "    tickvals=[-1, 0, 1, 2],\n",
    "    ticktext=[\n",
    "        \"missing\",\n",
    "        f\"{species[0]}/{species[0]}\",\n",
    "        f\"{species[0]}/{species[1]}\",\n",
    "        f\"{species[1]}/{species[1]}\",\n",
    "    ],\n",
    "    len=100,\n",
    "    lenmode=\"pixels\",\n",
    "    y=1,\n",
    "    yanchor=\"top\",\n",
    "    outlinewidth=1,\n",
    "    outlinecolor=\"black\",\n",
    ")\n",
    "\n",
    "# Set up default AIMs color palettes.\n",
    "colors = px.colors.qualitative.T10\n",
    "color_gambcolu = colors[6]\n",
    "color_gamb = colors[0]\n",
    "color_gamb_colu_het = colors[5]\n",
    "color_colu = colors[2]\n",
    "color_missing = \"white\"\n",
    "palette = (\n",
    "        color_missing,\n",
    "        color_gamb,\n",
    "        color_gamb_colu_het,\n",
    "        color_colu,\n",
    "    )\n",
    "\n",
    "colorscale = [\n",
    "    [0 / 4, palette[0]],\n",
    "    [1 / 4, palette[0]],\n",
    "    [1 / 4, palette[1]],\n",
    "    [2 / 4, palette[1]],\n",
    "    [2 / 4, palette[2]],\n",
    "    [3 / 4, palette[2]],\n",
    "    [3 / 4, palette[3]],\n",
    "    [4 / 4, palette[3]],\n",
    "]\n",
    "\n",
    "# Create the subplots, one for each contig.\n",
    "for j, contig in enumerate(contigs):\n",
    "\n",
    "    df_aims_contig = df_aims.filter(like=contig, axis=0)\n",
    "\n",
    "    fig.add_trace(\n",
    "        go.Heatmap(\n",
    "            y=samples,\n",
    "            z=df_aims_contig.T,\n",
    "            x=df_aims_contig.index,\n",
    "            colorscale=colorscale,\n",
    "            zmin=-1.5,\n",
    "            zmax=2.5,\n",
    "            xgap=0,\n",
    "            ygap=0.5,  # this creates faint lines between rows\n",
    "            colorbar=colorbar,\n",
    "            # hovertemplate=hovertemplate,\n",
    "        ),\n",
    "        row=1,\n",
    "        col=j + 1,\n",
    "    )\n",
    "\n",
    "fig.update_layout(\n",
    "    title=f\"AIMs - gambiae vs coluzzii\",\n",
    "    height=max(300, 1 * len(samples) + 100),\n",
    ")\n",
    "\n",
    "fig.show()"
   ]
  },
  {
   "cell_type": "markdown",
   "id": "eb21a22d",
   "metadata": {},
   "source": [
    "#### Species assignments by cohorts"
   ]
  },
  {
   "cell_type": "code",
   "execution_count": null,
   "id": "dbe61122",
   "metadata": {
    "tags": [
     "remove-input"
    ]
   },
   "outputs": [],
   "source": [
    "# solely based on X chromosome, all the others look unreliable\n",
    "df = df_aims.query(\"contig == 'X'\").iloc[:, 7:]\n",
    "df.columns = samples\n",
    "mean_aims = df.replace(-1, float('nan')).apply(np.nanmean, axis=0)\n",
    "aims = mean_aims.loc[metadata.set_index('sampleID').index]\n",
    "metadata = metadata.assign(mean_aim_genotype=aims.values)\n",
    "\n",
    "taxon = []\n",
    "for i, row in metadata.iterrows():\n",
    "    if row.mean_aim_genotype < 0.5:\n",
    "        taxon.append('gambiae')\n",
    "    elif row.mean_aim_genotype >= 0.5 and row.mean_aim_genotype < 1.5:\n",
    "        taxon.append('uncertain')\n",
    "    elif row.mean_aim_genotype >= 1.5:\n",
    "        taxon.append('coluzzii')\n",
    "    else: \n",
    "        taxon.append(np.nan)\n",
    "        \n",
    "new_metadata = metadata.assign(taxon=taxon)\n",
    "\n",
    "fig = px.histogram(new_metadata, nbins=100, x='mean_aim_genotype', color=cohort_col, width=750, height=400, template='plotly_white', title='AIM genotype distribution')\n",
    "fig.show()"
   ]
  },
  {
   "cell_type": "code",
   "execution_count": null,
   "id": "2c1c00ff",
   "metadata": {
    "tags": [
     "remove-input"
    ]
   },
   "outputs": [],
   "source": [
    "from IPython.display import display, Markdown\n",
    "new_metadata.to_csv(f\"{wkdir}/results/config/metadata.qcpass.tsv\", sep=\"\\t\")\n",
    "new_metadata[['sampleID', 'taxon', 'mean_aim_genotype']].to_csv(f\"{wkdir}/results/ag-vampir/aims/taxon_aims.tsv\", sep=\"\\t\")\n",
    "display(Markdown(f'<a href={wkdir}/results/ag-vampir/aims/taxon_aims.tsv>Sample aims and taxon assignment (.tsv)</a>'))"
   ]
  }
 ],
 "metadata": {
  "celltoolbar": "Tags",
  "kernelspec": {
   "display_name": "Python 3",
   "language": "python",
   "name": "python3"
  },
  "language_info": {
   "codemirror_mode": {
    "name": "ipython",
    "version": 3
   },
   "file_extension": ".py",
   "mimetype": "text/x-python",
   "name": "python",
   "nbconvert_exporter": "python",
   "pygments_lexer": "ipython3",
   "version": "3.12.7"
  }
 },
 "nbformat": 4,
 "nbformat_minor": 5
}
