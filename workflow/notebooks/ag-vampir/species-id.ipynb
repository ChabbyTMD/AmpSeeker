{
 "cells": [
  {
   "cell_type": "code",
   "execution_count": null,
   "id": "52c0f6cb",
   "metadata": {
    "tags": [
     "remove-input"
    ]
   },
   "outputs": [],
   "source": [
    "import allel\n",
    "import pandas as pd\n",
    "import numpy as np\n",
    "import plotly.express as px"
   ]
  },
  {
   "cell_type": "code",
   "execution_count": null,
   "id": "0391f196",
   "metadata": {
    "tags": [
     "parameters",
     "remove-input"
    ]
   },
   "outputs": [],
   "source": [
    "metadata_path = '../../../config/metadata.tsv'\n",
    "bed_targets_path = \"../../../config/AgamDao.bed\"\n",
    "vcf_path = \"vcf\"\n",
    "wkdir = \"../..\""
   ]
  },
  {
   "cell_type": "code",
   "execution_count": null,
   "id": "d2b7e45b",
   "metadata": {
    "tags": [
     "remove-input"
    ]
   },
   "outputs": [],
   "source": [
    "metadata = pd.read_csv(metadata_path , sep=\"\\t\")\n",
    "targets = pd.read_csv(bed_targets_path, sep=\"\\t\", header=None)\n",
    "targets.columns = ['contig', 'start', 'end', 'amplicon', 'mutation']\n",
    "\n",
    "vcf = allel.read_vcf(vcf_path)\n",
    "\n",
    "samples = vcf['samples']\n",
    "contigs = vcf['variants/CHROM']\n",
    "geno = allel.GenotypeArray(vcf['calldata/GT'])\n",
    "pos = vcf['variants/POS']\n",
    "ref = vcf['variants/REF']"
   ]
  },
  {
   "cell_type": "code",
   "execution_count": null,
   "id": "7ffdd883",
   "metadata": {
    "tags": [
     "remove-input"
    ]
   },
   "outputs": [],
   "source": [
    "aim_targets = targets.query(\"mutation.str.contains('AIM')\", engine='python')\n",
    "\n",
    "aim_mask = np.isin(pos, aim_targets.end.to_list())\n",
    "aim_gn = geno.compress(aim_mask, axis=0)\n",
    "aim_pos = pos[aim_mask]\n",
    "aim_contig = contigs[aim_mask]\n",
    "\n",
    "aim_df = pd.DataFrame(aim_gn.to_n_alt(fill=-1)).assign(pos=aim_pos, contig=aim_contig).set_index(['pos', 'contig'])\n",
    "# reorder contigs \n",
    "aim_df = pd.concat([aim_df.query(\"contig == @contig\") for contig in ['2R', '2L', '3R', '3L', 'X']])\n",
    "aim_pos = aim_df.reset_index()['pos']\n",
    "aim_contig = aim_df.reset_index()['contig']\n",
    "\n",
    "x_label = [f\"{c}:{p}\" for c, p in zip(aim_contig, aim_pos)]\n",
    "\n",
    "fig = px.imshow(\n",
    "    aim_df.values.T, \n",
    "    x=x_label,\n",
    "    y=samples, \n",
    "    color_continuous_scale='blackbody_r',\n",
    "    aspect='auto',\n",
    "    title='gamb vs colu AIM genotypes',\n",
    "    width=1000, \n",
    "    height=800\n",
    ")\n",
    "fig.show()"
   ]
  }
 ],
 "metadata": {
  "celltoolbar": "Tags",
  "kernelspec": {
   "display_name": "Python 3 (ipykernel)",
   "language": "python",
   "name": "python3"
  },
  "language_info": {
   "codemirror_mode": {
    "name": "ipython",
    "version": 3
   },
   "file_extension": ".py",
   "mimetype": "text/x-python",
   "name": "python",
   "nbconvert_exporter": "python",
   "pygments_lexer": "ipython3",
   "version": "3.8.10"
  }
 },
 "nbformat": 4,
 "nbformat_minor": 5
}
