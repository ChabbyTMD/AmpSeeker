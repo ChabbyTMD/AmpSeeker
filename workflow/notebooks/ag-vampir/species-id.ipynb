{
 "cells": [
  {
   "cell_type": "code",
   "execution_count": null,
   "id": "52c0f6cb",
   "metadata": {
    "tags": [
     "remove-input"
    ]
   },
   "outputs": [],
   "source": [
    "import allel\n",
    "import pandas as pd\n",
    "import numpy as np\n",
    "import plotly.express as px\n",
    "\n",
    "def load_vcf(vcf_path, metadata):\n",
    "    \"\"\"\n",
    "    Load VCF and filter poor-quality samples\n",
    "    \"\"\"\n",
    "        \n",
    "    # load vcf and get genotypes and positions\n",
    "    vcf = allel.read_vcf(vcf_path, fields='*')\n",
    "    samples = vcf['samples']\n",
    "    # keep only samples in qcpass metadata \n",
    "    sample_mask = np.isin(vcf['samples'], metadata.sampleID)\n",
    "    \n",
    "    # remove low quality samples \n",
    "    geno = allel.GenotypeArray(vcf['calldata/GT'])\n",
    "    geno = geno.compress(sample_mask, axis=1)\n",
    "    pos = vcf['variants/POS']\n",
    "    contig = vcf['variants/CHROM']\n",
    "    indel = vcf['variants/INDEL']\n",
    "    \n",
    "    # remove indels \n",
    "    geno = geno.compress(~indel, axis=0)\n",
    "    pos = pos[~indel]\n",
    "    contig = contig[~indel]\n",
    "    \n",
    "    return geno, pos, contig, samples[sample_mask]"
   ]
  },
  {
   "cell_type": "code",
   "execution_count": null,
   "id": "0391f196",
   "metadata": {
    "tags": [
     "parameters",
     "remove-input"
    ]
   },
   "outputs": [],
   "source": [
    "metadata_path = '../../../results/config/metadata.qcpass.tsv'\n",
    "bed_targets_path = \"../../../config/ag-vampir.bed\"\n",
    "vcf_path = \"../../../results/vcfs/targets/ampseq-vigg01.annot.vcf\"\n",
    "wkdir = \"../../..\"\n",
    "cohort_cols = 'taxon,location'"
   ]
  },
  {
   "cell_type": "markdown",
   "id": "8bbf306c",
   "metadata": {},
   "source": [
    "### Species ID"
   ]
  },
  {
   "cell_type": "code",
   "execution_count": null,
   "id": "d2b7e45b",
   "metadata": {
    "tags": [
     "remove-input"
    ]
   },
   "outputs": [],
   "source": [
    "metadata = pd.read_csv(metadata_path , sep=\"\\t\", index_col=0)\n",
    "targets = pd.read_csv(bed_targets_path, sep=\"\\t\", header=None)\n",
    "targets.columns = ['contig', 'start', 'end', 'amplicon', 'mutation']\n",
    "\n",
    "geno, pos, contig, samples = load_vcf(vcf_path=vcf_path, metadata=metadata)\n",
    "#ref = vcf['variants/REF']"
   ]
  },
  {
   "cell_type": "code",
   "execution_count": null,
   "id": "7ffdd883",
   "metadata": {
    "tags": [
     "remove-input"
    ]
   },
   "outputs": [],
   "source": [
    "aim_targets = targets.query(\"mutation.str.contains('AIM')\", engine='python')\n",
    "\n",
    "aim_mask = np.isin(pos, aim_targets.end.to_list())\n",
    "aim_gn = geno.compress(aim_mask, axis=0)\n",
    "aim_pos = pos[aim_mask]\n",
    "aim_contig = contig[aim_mask]\n",
    "\n",
    "aim_df = pd.DataFrame(aim_gn.to_n_alt(fill=-1)).assign(pos=aim_pos, contig=aim_contig).set_index(['pos', 'contig'])\n",
    "# reorder contigs \n",
    "aim_df = pd.concat([aim_df.query(\"contig == @contig\") for contig in ['2R', '2L', '3R', '3L', 'X']])\n",
    "aim_pos = aim_df.reset_index()['pos']\n",
    "aim_contig = aim_df.reset_index()['contig']\n",
    "\n",
    "x_label = [f\"{c}:{p}\" for c, p in zip(aim_contig, aim_pos)]\n",
    "\n",
    "aim_df = aim_df.T\n",
    "idxs = np.argsort(samples)\n",
    "samples = samples[idxs]\n",
    "aim_df = aim_df.iloc[idxs, :]\n",
    "\n",
    "fig = px.imshow(\n",
    "    aim_df.replace(-1, np.nan), \n",
    "    x=x_label,\n",
    "    y=samples, \n",
    "    color_continuous_scale='Inferno',\n",
    "    aspect='auto',\n",
    "    title='gamb vs colu AIM genotypes',\n",
    "    template='simple_white',\n",
    "    width=1000, \n",
    "    height=800\n",
    ")\n",
    "fig.show()"
   ]
  },
  {
   "cell_type": "markdown",
   "id": "eb21a22d",
   "metadata": {},
   "source": [
    "### Species assignments by cohorts"
   ]
  },
  {
   "cell_type": "code",
   "execution_count": null,
   "id": "dbe61122",
   "metadata": {
    "tags": [
     "remove-input"
    ]
   },
   "outputs": [],
   "source": [
    "df = aim_df.T.query(\"contig != '2L'\")\n",
    "df.columns = samples\n",
    "mean_aims = df.replace(-1, float('nan')).apply(np.nanmean, axis=0)\n",
    "aims = mean_aims.loc[metadata.set_index('sampleID').index]\n",
    "metadata = metadata.assign(mean_aim_genotype=aims.values)\n",
    "\n",
    "fig = px.histogram(metadata, nbins=100, x='mean_aim_genotype', color='location', width=750, height=400, template='plotly_white', title='AIM genotype distribution')\n",
    "fig.show()"
   ]
  },
  {
   "cell_type": "code",
   "execution_count": null,
   "id": "2c1c00ff",
   "metadata": {
    "tags": [
     "remove-input"
    ]
   },
   "outputs": [],
   "source": [
    "\n",
    "taxon = []\n",
    "for i, row in metadata.iterrows():\n",
    "    if row.mean_aim_genotype < 0.5:\n",
    "        taxon.append('coluzzii')\n",
    "    elif row.mean_aim_genotype >= 0.5 and row.mean_aim_genotype < 1.5:\n",
    "        taxon.append('uncertain')\n",
    "    elif row.mean_aim_genotype >= 1.5:\n",
    "        taxon.append('gambiae')\n",
    "    else: \n",
    "        taxon.append(np.nan)\n",
    "\n",
    "from IPython.display import display, Markdown\n",
    "new_metadata = metadata.assign(taxon=taxon)\n",
    "new_metadata.to_csv(f\"{wkdir}/results/config/metadata.qcpass.tsv\", sep=\"\\t\")\n",
    "new_metadata[['sampleID', 'taxon', 'mean_aim_genotype']].to_csv(f\"{wkdir}/results/ag-vampir/aims/taxon_aims.tsv\", sep=\"\\t\")\n",
    "display(Markdown(f'<a href={wkdir}/results/ag-vampir/aims/taxon_aims.tsv>Sample aims and taxon assignment (.tsv)</a>'))\n"
   ]
  }
 ],
 "metadata": {
  "celltoolbar": "Tags",
  "kernelspec": {
   "display_name": "AmpSeq_python",
   "language": "python",
   "name": "ampseq_python"
  },
  "language_info": {
   "codemirror_mode": {
    "name": "ipython",
    "version": 3
   },
   "file_extension": ".py",
   "mimetype": "text/x-python",
   "name": "python",
   "nbconvert_exporter": "python",
   "pygments_lexer": "ipython3",
   "version": "3.9.18"
  }
 },
 "nbformat": 4,
 "nbformat_minor": 5
}
