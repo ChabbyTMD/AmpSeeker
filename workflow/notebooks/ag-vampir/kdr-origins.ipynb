{
 "cells": [
  {
   "cell_type": "code",
   "execution_count": null,
   "id": "c1548fbc",
   "metadata": {
    "tags": [
     "remove-input"
    ]
   },
   "outputs": [],
   "source": [
    "import numpy as np\n",
    "import pandas as pd\n",
    "import allel\n",
    "import re\n",
    "\n",
    "def load_vcf(vcf_path, metadata):\n",
    "    \"\"\"\n",
    "    Load VCF and filter poor-quality samples\n",
    "    \"\"\"\n",
    "    \n",
    "    sampleIDs = metadata.sampleID.to_list()\n",
    "    \n",
    "    # load vcf and get genotypes and positions\n",
    "    vcf = allel.read_vcf(vcf_path, fields='*')\n",
    "    samples = vcf['samples']\n",
    "    # keep only samples in qcpass metadata \n",
    "    sample_mask = np.isin(vcf['samples'], metadata.sampleID)\n",
    "    \n",
    "    # remove low quality samples \n",
    "    geno = allel.GenotypeArray(vcf['calldata/GT'])\n",
    "    geno = geno.compress(sample_mask, axis=1)\n",
    "    pos = vcf['variants/POS']\n",
    "    contig = vcf['variants/CHROM']\n",
    "    indel = vcf['variants/INDEL']\n",
    "    \n",
    "    # remove indels \n",
    "    geno = geno.compress(~indel, axis=0)\n",
    "    pos = pos[~indel]\n",
    "    contig = contig[~indel]\n",
    "    \n",
    "    return geno, pos, contig, samples[sample_mask], vcf['variants/REF'][~indel], vcf['variants/ALT'][~indel]"
   ]
  },
  {
   "cell_type": "code",
   "execution_count": null,
   "id": "907d8f16",
   "metadata": {
    "tags": [
     "remove-input",
     "parameters"
    ]
   },
   "outputs": [],
   "source": [
    "metadata_path = '../../../results/config/metadata.qcpass.tsv'\n",
    "kdr_marker_snps_path = '../../../resources/ag-vampir/Kdr_marker_SNPs.csv'\n",
    "vcf_path = \"../../../results/vcfs/targets/ampseq-vigg-01.annot.vcf\"\n",
    "cohort_cols = 'location,taxon'\n",
    "wkdir = \"../../..\""
   ]
  },
  {
   "cell_type": "markdown",
   "id": "d83db822",
   "metadata": {
    "tags": [
     "remove-input"
    ]
   },
   "source": [
    "### Load in the table of SNPs that we use to define haplotypes"
   ]
  },
  {
   "cell_type": "code",
   "execution_count": null,
   "id": "257966e1",
   "metadata": {
    "tags": [
     "remove-input"
    ]
   },
   "outputs": [],
   "source": [
    "cohort_cols = cohort_cols.split(\",\")\n",
    "\n",
    "hap_def = pd.read_csv(kdr_marker_snps_path, sep = '\\t', index_col = 1)\n",
    "hap_def['variant_pos'] = hap_def.index.str.replace('.*:', '', regex = True).astype('int')\n",
    "hap_def"
   ]
  },
  {
   "cell_type": "markdown",
   "id": "88ea5248",
   "metadata": {
    "tags": [
     "remove-input"
    ]
   },
   "source": [
    "### The functions for making the kdr background calls"
   ]
  },
  {
   "cell_type": "code",
   "execution_count": null,
   "id": "8beaef71",
   "metadata": {
    "tags": [
     "remove-input"
    ]
   },
   "outputs": [],
   "source": [
    "# Determine kdr F origin for a genotype\n",
    "def _F_kdr_origin_gen(genotypes, clean = True):\n",
    "    if 'sample_name' in genotypes.index:\n",
    "        sample_name = genotypes['sample_name']\n",
    "    else:\n",
    "        sample_name = genotypes.name\n",
    "    # Check for the 995F mutations\n",
    "    if pd.isnull(genotypes['kdr-995F']):\n",
    "        kdr_F_origins = 'F:unknown'\n",
    "    elif genotypes['kdr-995F'] == 'AA':\n",
    "        kdr_F_origins = 'F:wt_hom'\n",
    "    elif genotypes['kdr-995F'] == 'AT':\n",
    "        kdr_F_origins = 'F:het'\n",
    "    elif genotypes['kdr-995F'] == 'TT':\n",
    "        kdr_F_origins = 'F:hom'\n",
    "    else:\n",
    "        print(f'Unexpected kdr F genotype. {sample_name} {genotypes[\"kdr-995F\"]}')\n",
    "        kdr_F_origins = 'Fail. Unexpected kdr F genotype'\n",
    "    # If the individual has Fkdr, find out its origins\n",
    "    # For F homozygotes\n",
    "    if kdr_F_origins == 'F:hom':\n",
    "        if pd.isnull(genotypes['Def-F1']):\n",
    "            kdr_F_origins = f'{kdr_F_origins},F1?'\n",
    "        elif genotypes['Def-F1'] == 'AA':\n",
    "            kdr_F_origins = f'{kdr_F_origins},F1_hom'\n",
    "        elif genotypes['Def-F1'] == 'AG':\n",
    "            kdr_F_origins = f'{kdr_F_origins},F1_het'\n",
    "        #\n",
    "        if pd.isnull(genotypes['Def-F2']):\n",
    "            kdr_F_origins = f'{kdr_F_origins},F2?'\n",
    "        elif genotypes['Def-F2'] == 'AA':\n",
    "            kdr_F_origins = f'{kdr_F_origins},F2_hom'\n",
    "        elif genotypes['Def-F2'] == 'AG':\n",
    "            kdr_F_origins = f'{kdr_F_origins},F2_het'\n",
    "        #\n",
    "        if pd.isnull(genotypes['Def-F3F4-2']):\n",
    "            kdr_F_origins = f'{kdr_F_origins},F3F4?'\n",
    "        elif genotypes['Def-F3F4-2'] == 'TT':\n",
    "            if pd.isnull(genotypes['Def-F3']):\n",
    "                kdr_F_origins = f'{kdr_F_origins},(F3F4)_hom'\n",
    "            elif genotypes['Def-F3'] == 'CC':\n",
    "                kdr_F_origins = f'{kdr_F_origins},F3_hom'\n",
    "            elif genotypes['Def-F3'] == 'CG':\n",
    "                kdr_F_origins = f'{kdr_F_origins},F3_het,F4_het'\n",
    "            elif genotypes['Def-F3'] == 'GG':\n",
    "                kdr_F_origins = f'{kdr_F_origins},F4_hom'\n",
    "        elif genotypes['Def-F3F4-2'] == 'AT':\n",
    "            if pd.isnull(genotypes['Def-F3']):\n",
    "                kdr_F_origins = f'{kdr_F_origins},(F3F4)_het'\n",
    "            elif genotypes['Def-F3'] == 'CC':\n",
    "                kdr_F_origins = f'Fail. Genotypes suggest that sample {sample_name} is heterozygote for F3F4, but homozygote for F3.'\n",
    "            elif genotypes['Def-F3'] == 'CG':\n",
    "                kdr_F_origins = f'{kdr_F_origins},F3_het'\n",
    "            elif genotypes['Def-F3'] == 'GG':\n",
    "                kdr_F_origins = f'{kdr_F_origins},F4_het'\n",
    "        #\n",
    "        if pd.isnull(genotypes['Def-F5-2']):\n",
    "            kdr_F_origins = f'{kdr_F_origins},F5?'\n",
    "        elif genotypes['Def-F5-2'] == 'GG':\n",
    "            kdr_F_origins = f'{kdr_F_origins},F5_hom'\n",
    "        elif genotypes['Def-F5-2'] == 'AG':\n",
    "            kdr_F_origins = f'{kdr_F_origins},F5_het'\n",
    "    # for F heterozygotes\n",
    "    elif kdr_F_origins == 'F:het':\n",
    "        if pd.isnull(genotypes['Def-F1']):\n",
    "            kdr_F_origins = f'{kdr_F_origins},F1?'\n",
    "        elif genotypes['Def-F1'] == 'AA':\n",
    "            kdr_F_origins = f'Fail. Genotypes suggest that sample {sample_name} is heterozygote for F kdr, but homozygote for F1.'\n",
    "        elif genotypes['Def-F1'] == 'AG':\n",
    "            kdr_F_origins = f'{kdr_F_origins},F1_het'\n",
    "        #\n",
    "        if pd.isnull(genotypes['Def-F2']):\n",
    "            kdr_F_origins = f'{kdr_F_origins},F2?'\n",
    "        elif genotypes['Def-F2'] == 'AA':\n",
    "            kdr_F_origins = f'Fail. Genotypes suggest that sample {sample_name} is heterozygote for F kdr, but homozygote for F2.'\n",
    "        elif genotypes['Def-F2'] == 'AG':\n",
    "            kdr_F_origins = f'{kdr_F_origins},F2_het'\n",
    "        #\n",
    "        if pd.isnull(genotypes['Def-F3F4-2']):\n",
    "            kdr_F_origins = f'{kdr_F_origins},F3F4?'\n",
    "        elif genotypes['Def-F3F4-2'] == 'TT':\n",
    "            kdr_F_origins = f'Fail. Genotypes suggest that sample {sample_name} is heterozygote for F kdr, but homozygote for F3F4.'\n",
    "        elif genotypes['Def-F3F4-2'] == 'AT':\n",
    "            if pd.isnull(genotypes['Def-F3']):\n",
    "                kdr_F_origins = f'{kdr_F_origins},(F3F4)_het'\n",
    "            elif genotypes['Def-F3'] == 'CC':\n",
    "                kdr_F_origins = f'Fail. Genotypes suggest that sample {sample_name} is heterozygote for F kdr and F3F4, but homozygote for F3.'\n",
    "            elif genotypes['Def-F3'] == 'CG':\n",
    "                kdr_F_origins = f'{kdr_F_origins},F3_het'\n",
    "            elif genotypes['Def-F3'] == 'GG':\n",
    "                kdr_F_origins = f'{kdr_F_origins},F4_het'\n",
    "        #\n",
    "        if pd.isnull(genotypes['Def-F5-2']):\n",
    "            kdr_F_origins = f'{kdr_F_origins},F5?'\n",
    "        elif genotypes['Def-F5-2'] == 'GG':\n",
    "            kdr_F_origins = f'Fail. Genotypes suggest that sample {sample_name} is heterozygote for F kdr, but homozygote for F5.'\n",
    "        elif genotypes['Def-F5-2'] == 'AG':\n",
    "            kdr_F_origins = f'{kdr_F_origins},F5_het'\n",
    "    if clean:\n",
    "        return(_kdr_gen_cleanup(kdr_F_origins))\n",
    "    else:\n",
    "        return(kdr_F_origins)\n",
    "\n",
    "\n",
    "# Determine kdr S origin for a genotype\n",
    "def _S_kdr_origin_gen(genotypes, clean = True, alternate_S4S5 = False):\n",
    "    if 'sample_name' in genotypes.index:\n",
    "        sample_name = genotypes['sample_name']\n",
    "    else:\n",
    "        sample_name = genotypes.name\n",
    "    # Check for the 995S mutations\n",
    "    if pd.isnull(genotypes['kdr-995S']):\n",
    "        kdr_S_origins = 'S:unknown'\n",
    "    elif genotypes['kdr-995S'] == 'TT':\n",
    "        kdr_S_origins = 'S:wt_hom'\n",
    "    elif genotypes['kdr-995S'] == 'CT':\n",
    "        kdr_S_origins = 'S:het'\n",
    "    elif genotypes['kdr-995S'] == 'CC':\n",
    "        kdr_S_origins = 'S:hom'\n",
    "    else:\n",
    "        print(f'Unexpected kdr S genotype. {sample_name} {genotypes[\"kdr-995S\"]}')\n",
    "        kdr_S_origins = 'Fail. Unexpected kdr S genotype'\n",
    "    # If the individual has Skdr, find out its origins\n",
    "    # For S homozygotes\n",
    "    if kdr_S_origins == 'S:hom':\n",
    "        if pd.isnull(genotypes['Def-S1-3']):\n",
    "            kdr_S_origins = f'{kdr_S_origins},S1?'\n",
    "        elif genotypes['Def-S1-3'] == 'CC':\n",
    "            kdr_S_origins = f'{kdr_S_origins},S1_hom'\n",
    "        elif genotypes['Def-S1-3'] == 'CT':\n",
    "            kdr_S_origins = f'{kdr_S_origins},S1_het'\n",
    "        #\n",
    "        if pd.isnull(genotypes['Def-S2S4']):\n",
    "            kdr_S_origins = f'{kdr_S_origins},S2S4?'\n",
    "        elif genotypes['Def-S2S4'] == 'TT':\n",
    "            if pd.isnull(genotypes['Def-S2-4']):\n",
    "                kdr_S_origins = f'{kdr_S_origins},(S2S4)_hom'\n",
    "            elif genotypes['Def-S2-4'] == 'AA':\n",
    "                kdr_S_origins = f'{kdr_S_origins},S2_hom'\n",
    "            elif genotypes['Def-S2-4'] == 'AT':\n",
    "                kdr_S_origins = f'{kdr_S_origins},S2_het,S4_het'\n",
    "            elif genotypes['Def-S2-4'] == 'TT':\n",
    "                kdr_S_origins = f'{kdr_S_origins},S4_hom'\n",
    "        elif genotypes['Def-S2S4'] == 'CT':\n",
    "            if pd.isnull(genotypes['Def-S2-4']):\n",
    "                kdr_S_origins = f'{kdr_S_origins},(S2S4)_het'\n",
    "            elif genotypes['Def-S2-4'] == 'AA':\n",
    "                kdr_S_origins = f'Fail. Genotypes suggest that sample {sample_name} is heterozygote for S2S4, but homozygote for S2.'\n",
    "            elif genotypes['Def-S2-4'] == 'AT':\n",
    "                kdr_S_origins = f'{kdr_S_origins},S2_het'\n",
    "            elif genotypes['Def-S2-4'] == 'TT':\n",
    "                kdr_S_origins = f'{kdr_S_origins},S4_het'\n",
    "        #\n",
    "        if pd.isnull(genotypes['Def-S3']):\n",
    "            kdr_S_origins = f'{kdr_S_origins},S3?'\n",
    "        elif genotypes['Def-S3'] == 'GG':\n",
    "            kdr_S_origins = f'{kdr_S_origins},S3_hom'\n",
    "        elif genotypes['Def-S3'] == 'GT':\n",
    "            kdr_S_origins = f'{kdr_S_origins},S3_het'\n",
    "        # \n",
    "        if alternate_S4S5:\n",
    "            if pd.isnull(genotypes['Def-S4S5-2']):\n",
    "                kdr_S_origins = f'{kdr_S_origins},S4S5?'\n",
    "            elif genotypes['Def-S4S5-2'] == 'TT':\n",
    "                if pd.isnull(genotypes['Def-S5']):\n",
    "                    kdr_S_origins = f'{kdr_S_origins},(S4S5)_hom'\n",
    "                elif genotypes['Def-S5'] == 'CC':\n",
    "                    kdr_S_origins = f'{kdr_S_origins},S5_hom'\n",
    "                elif genotypes['Def-S5'] == 'AC':\n",
    "                    kdr_S_origins = f'{kdr_S_origins},S5_het,S4_het'\n",
    "                elif genotypes['Def-S5'] == 'AA':\n",
    "                    kdr_S_origins = f'{kdr_S_origins},S4_hom'\n",
    "            elif genotypes['Def-S4S5-2'] == 'GT':\n",
    "                if pd.isnull(genotypes['Def-S5']):\n",
    "                    kdr_S_origins = f'{kdr_S_origins},(S4S5)_het'\n",
    "                elif genotypes['Def-S5'] == 'CC':\n",
    "                    kdr_S_origins = f'Fail. Genotypes suggest that sample {sample_name} is heterozygote for S4S5, but homozygote for S5.'\n",
    "                elif genotypes['Def-S5'] == 'AC':\n",
    "                    kdr_S_origins = f'{kdr_S_origins},S5_het'\n",
    "                elif genotypes['Def-S5'] == 'AA':\n",
    "                    kdr_S_origins = f'{kdr_S_origins},S4_het'\n",
    "        else :\n",
    "            if pd.isnull(genotypes['Def-S4S5']):\n",
    "                kdr_S_origins = f'{kdr_S_origins},S4S5?'\n",
    "            elif genotypes['Def-S4S5'] == 'CC':\n",
    "                if pd.isnull(genotypes['Def-S5']):\n",
    "                    kdr_S_origins = f'{kdr_S_origins},(S4S5)_hom'\n",
    "                elif genotypes['Def-S5'] == 'CC':\n",
    "                    kdr_S_origins = f'{kdr_S_origins},S5_hom'\n",
    "                elif genotypes['Def-S5'] == 'AC':\n",
    "                    kdr_S_origins = f'{kdr_S_origins},S4_het,S5_het'\n",
    "                elif genotypes['Def-S5'] == 'AA':\n",
    "                    kdr_S_origins = f'{kdr_S_origins},S4_hom'\n",
    "            elif genotypes['Def-S4S5'] == 'CT':\n",
    "                if pd.isnull(genotypes['Def-S5']):\n",
    "                    kdr_S_origins = f'{kdr_S_origins},(S4S5)_het'\n",
    "                elif genotypes['Def-S5'] == 'CC':\n",
    "                    kdr_S_origins = f'Fail. Genotypes suggest that sample {sample_name} is heterozygote for S4S5, but homozygote for S5.'\n",
    "                elif genotypes['Def-S5'] == 'AC':\n",
    "                    kdr_S_origins = f'{kdr_S_origins},S5_het'\n",
    "                elif genotypes['Def-S5'] == 'AA':\n",
    "                    kdr_S_origins = f'{kdr_S_origins},S4_het'\n",
    "    # for S heterozygotes\n",
    "    elif kdr_S_origins == 'S:het':\n",
    "        if pd.isnull(genotypes['Def-S1-3']):\n",
    "            kdr_S_origins = f'{kdr_S_origins},S1?'\n",
    "        elif genotypes['Def-S1-3'] == 'CC':\n",
    "            kdr_S_origins = f'Fail. Genotypes suggest that sample {sample_name} is heterozygote for S kdr, but homozygote for S1.'\n",
    "        elif genotypes['Def-S1-3'] == 'CT':\n",
    "            kdr_S_origins = f'{kdr_S_origins},S1_het'\n",
    "        #\n",
    "        if pd.isnull(genotypes['Def-S2S4']):\n",
    "            kdr_S_origins = f'{kdr_S_origins},S2S4?'\n",
    "        elif genotypes['Def-S2S4'] == 'TT':\n",
    "            kdr_S_origins = f'Fail. Genotypes suggest that sample {sample_name} is heterozygote for S kdr, but homozygote for S2S4.'\n",
    "        elif genotypes['Def-S2S4'] == 'CT':\n",
    "            if pd.isnull(genotypes['Def-S2-4']):\n",
    "                kdr_S_origins = f'{kdr_S_origins},(S2S4)_het'\n",
    "            elif genotypes['Def-S2-4'] == 'AA':\n",
    "                ksr_S_origins = f'Fail. Genotypes suggest that sample {sample_name} is heterozygote for S kdr and S2S4, but homozygote for S2.'\n",
    "            elif genotypes['Def-S2-4'] == 'AT':\n",
    "                kdr_S_origins = f'{kdr_S_origins},S2_het'\n",
    "            elif genotypes['Def-S2-4'] == 'TT':\n",
    "                kdr_S_origins = f'{kdr_S_origins},S4_het'\n",
    "        #\n",
    "        if pd.isnull(genotypes['Def-S3']):\n",
    "            kdr_S_origins = f'{kdr_S_origins},S3?'\n",
    "        elif genotypes['Def-S3'] == 'GG':\n",
    "            kdr_S_origins = f'Fail. Genotypes suggest that sample {sample_name} is heterozygote for S kdr, but homozygote for S3.'\n",
    "        elif genotypes['Def-S3'] == 'GT':\n",
    "            kdr_S_origins = f'{kdr_S_origins},S3_het'\n",
    "        # \n",
    "        if alternate_S4S5:\n",
    "            if pd.isnull(genotypes['Def-S4S5_2']):\n",
    "                kdr_S_origins = f'{kdr_S_origins},S4S5?'\n",
    "            elif genotypes['Def-S4S5-2'] == 'TT':\n",
    "                kdr_S_origins = f'Fail. Genotypes suggest that sample {sample_name} is heterozygote for S kdr, but homozygote for S4S5.'\n",
    "            elif genotypes['Def-S4S5-2'] == 'GT':\n",
    "                if pd.isnull(genotypes['Def-S5']):\n",
    "                    kdr_S_origins = f'{kdr_S_origins},(S4S5)_het'\n",
    "                elif genotypes['Def-S5'] == 'CC':\n",
    "                    kdr_S_origins = f'Fail. Genotypes suggest that sample {sample_name} is heterozygote for S kdr and S4S5, but homozygote for S5.'\n",
    "                elif genotypes['Def-S5'] == 'AC':\n",
    "                    kdr_S_origins = f'{kdr_S_origins},S5_het'\n",
    "                elif genotypes['Def-S5'] == 'AA':\n",
    "                    kdr_S_origins = f'{kdr_S_origins},S4_het'\n",
    "        else :\n",
    "            if pd.isnull(genotypes['Def-S4S5']):\n",
    "                kdr_S_origins = f'{kdr_S_origins},S4S5?'\n",
    "            elif genotypes['Def-S4S5'] == 'CC':\n",
    "                kdr_S_origins = f'Fail. Genotypes suggest that sample {sample_name} is heterozygote for S kdr, but homozygote for S4S5.'\n",
    "            elif genotypes['Def-S4S5'] == 'CT':\n",
    "                if pd.isnull(genotypes['Def-S5']):\n",
    "                    kdr_S_origins = f'{kdr_S_origins},(S4S5)_het'\n",
    "                elif genotypes['Def-S5'] == 'CC':\n",
    "                    return(f'Fail. Genotypes suggest that sample {sample_name} is heterozygote for S kdr and S4S5, but homozygote for S5.')\n",
    "                elif genotypes['Def-S5'] == 'AC':\n",
    "                    kdr_S_origins = f'{kdr_S_origins},S5_het'\n",
    "                elif genotypes['Def-S5'] == 'AA':\n",
    "                    kdr_S_origins = f'{kdr_S_origins},S4_het'\n",
    "    if clean:\n",
    "        return(_kdr_gen_cleanup(kdr_S_origins))\n",
    "    else:\n",
    "        return(kdr_S_origins)\n",
    "\n",
    "def _402_kdr_origin_gen(genotypes, clean = True):\n",
    "    if 'sample_name' in genotypes.index:\n",
    "        sample_name = genotypes['sample_name']\n",
    "    else:\n",
    "        sample_name = genotypes.name\n",
    "    # Check for the 995F mutations\n",
    "    if pd.isnull(genotypes['kdr-402L']):\n",
    "        kdr_402_origins = '402:unknown'\n",
    "    elif genotypes['kdr-402L'] == 'GG':\n",
    "        kdr_402_origins = '402:wt_hom'\n",
    "    elif genotypes['kdr-402L'] == 'CG':\n",
    "        kdr_402_origins = '402:het,402LC_het'\n",
    "    elif genotypes['kdr-402L'] == 'GT':\n",
    "        kdr_402_origins = '402:het,402LT_het'\n",
    "    elif genotypes['kdr-402L'] == 'CT':\n",
    "        kdr_402_origins = '402:hom,402LC_het,402LT_het'\n",
    "    elif genotypes['kdr-402L'] == 'CC':\n",
    "        kdr_402_origins = '402:hom,402LC_hom'\n",
    "    elif genotypes['kdr-402L'] == 'TT':\n",
    "        kdr_402_origins = '402:hom,402LT_hom'\n",
    "    else:\n",
    "        print(f'Unexpected kdr 402 genotype. {sample_name} {genotypes[\"kdr-402L\"]}')\n",
    "        kdr_402_origins = 'Fail. Unexpected kdr 402 genotype'\n",
    "        \n",
    "    if clean:\n",
    "        return(_kdr_gen_cleanup(kdr_402_origins))\n",
    "    else:\n",
    "        return(kdr_402_origins)\n",
    "\n",
    "# The initial output of the kdr_origin function can be a little messy, since it outputs all of the \n",
    "# information that it could or couldn't obtain. This function tidies it up a bit. \n",
    "def _kdr_gen_cleanup(kdr_origin_str):\n",
    "    if re.search('Fail', kdr_origin_str):\n",
    "        return('?,?')\n",
    "    if re.search('wt', kdr_origin_str):\n",
    "        return('wt,wt')\n",
    "    kdr_type = re.findall('.*(?=:)', kdr_origin_str)[0]\n",
    "    outcomes = kdr_origin_str.split(',')\n",
    "    origins = np.unique(outcomes[1:])\n",
    "    established_origins = [o for o in origins if not re.search('\\?', o)]\n",
    "    # Remove \"_het\" and \"_hom\" text\n",
    "    established_origins = [re.sub('_het', '', o) for o in established_origins]\n",
    "    # Now double up each _hom entry. this is cludgy, but coudn't find a more elegant way\n",
    "    for i in range(len(established_origins)):\n",
    "        o = established_origins[i]\n",
    "        if re.search('_hom', o):\n",
    "            o = re.sub('_hom', '', o)\n",
    "            established_origins[i] = o\n",
    "            established_origins.append(o)\n",
    "    if re.search('hom', outcomes[0]):\n",
    "        if len(established_origins) == 1:\n",
    "            return(f'{kdr_type},{established_origins[0]}')\n",
    "        elif len(established_origins) == 2:\n",
    "            return(','.join(established_origins))\n",
    "        else:\n",
    "            return(f'{kdr_type},{kdr_type}')\n",
    "    if re.search('het', outcomes[0]):\n",
    "        if len(established_origins) == 1:\n",
    "            return(f'wt,{established_origins[0]}')\n",
    "        else:\n",
    "            return(f'wt,{kdr_type}')\n",
    "    else:\n",
    "        return('?,?')\n",
    "\n",
    "\n",
    "# Single function to call both the F and S origins for a given haplotype. This function determines\n",
    "# from the look of the genotype table whether it represents genotypes or haplotypes, and calls \n",
    "# the appropriate function. \n",
    "def kdr_origin(genotypes, alternate_S4S5 = False, clean = True, include_402 = None):\n",
    "    if 'sample_name' in genotypes.index:\n",
    "        sample_name = genotypes['sample_name']\n",
    "    else:\n",
    "        sample_name = genotypes.name\n",
    "    if include_402 == None:\n",
    "        if 'kdr-402L' in genotypes.index:\n",
    "            include_402 = True\n",
    "        else:\n",
    "            include_402 = False\n",
    "    if include_402 == False:\n",
    "        kdr_origins = pd.DataFrame({'kdr_F_origin': [_F_kdr_origin_gen(genotypes, clean)], \n",
    "                                    'kdr_S_origin': [_S_kdr_origin_gen(genotypes, clean, alternate_S4S5)]\n",
    "                                    }, index = [sample_name]\n",
    "        \n",
    "        )\n",
    "    else:\n",
    "        kdr_origins = pd.DataFrame({'kdr_F_origin': [_F_kdr_origin_gen(genotypes, clean)], \n",
    "                                    'kdr_S_origin': [_S_kdr_origin_gen(genotypes, clean, alternate_S4S5)],\n",
    "                                    'kdr_402_origin': [_402_kdr_origin_gen(genotypes, clean)]\n",
    "                                    }, index = [sample_name]\n",
    "        )\n",
    "    return(kdr_origins)\n",
    "\n",
    "# From a pair of kdr origin calls (obtained by running the kdr_origin function  for each of \n",
    "# F and S, followed by kdr_hap_cleanup), output a single call combining the F and S calls. \n",
    "def get_single_gen_call(x):  \n",
    "    if 'kdr_402_origin' in x.index:\n",
    "        return(_get_single_gen_call_with_402(x))\n",
    "    else:\n",
    "        return(_get_single_gen_call_no_402(x))\n",
    "    \n",
    "def _get_single_gen_call_no_402(x): \n",
    "    if 'sample_name' in x.index:\n",
    "        sample_name = x['sample_name']\n",
    "    else:\n",
    "        sample_name = x.name\n",
    "    joined_calls = np.array(x['kdr_F_origin'].split(',') + x['kdr_S_origin'].split(','))\n",
    "    # There should be at least two 'wt' calls\n",
    "    if np.sum(joined_calls == 'wt') < 2:\n",
    "        print(f'Too many different mutant haplotype backgrounds in sample {sample_name}')\n",
    "        return('?,?')\n",
    "    # Otherwise, drop two wildtype calls\n",
    "    else:\n",
    "        which_drop = np.where(joined_calls == 'wt')[0][:2]\n",
    "        return(','.join(np.delete(joined_calls, which_drop)))\n",
    "\n",
    "def _get_single_gen_call_with_402(x): \n",
    "    if 'sample_name' in x.index:\n",
    "        sample_name = x['sample_name']\n",
    "    else:\n",
    "        sample_name = x.name\n",
    "    joined_calls = np.array(x['kdr_F_origin'].split(',') + \n",
    "                            x['kdr_S_origin'].split(',') +\n",
    "                            x['kdr_402_origin'].split(',')\n",
    "    )\n",
    "    # There should be at least four 'wt' calls\n",
    "    if np.sum(np.isin(joined_calls,  ['wt', '?'])) < 4:\n",
    "        print(f'Too many different mutant haplotype backgrounds in sample {sample_name}')\n",
    "        return('?,?')\n",
    "    # Otherwise, drop four wildtype calls\n",
    "    else:\n",
    "        which_drop = np.concatenate([\n",
    "            np.where(joined_calls == 'wt')[0],\n",
    "            np.where(joined_calls == '?')[0]\n",
    "        ])[:4]\n",
    "        return(','.join(np.delete(joined_calls, which_drop)))"
   ]
  },
  {
   "cell_type": "markdown",
   "id": "81488cf0",
   "metadata": {
    "tags": [
     "remove-input"
    ]
   },
   "source": [
    "### Load metadata"
   ]
  },
  {
   "cell_type": "code",
   "execution_count": null,
   "id": "fd1a611c",
   "metadata": {
    "tags": [
     "remove-input"
    ]
   },
   "outputs": [],
   "source": [
    "metadata = pd.read_csv(metadata_path, sep = '\\t', index_col = 0)\n",
    "metadata.taxon.fillna('UNKN', inplace = True)\n",
    "metadata"
   ]
  },
  {
   "cell_type": "markdown",
   "id": "9ad48170",
   "metadata": {
    "tags": [
     "remove-input"
    ]
   },
   "source": [
    "### Get the genotype calls"
   ]
  },
  {
   "cell_type": "markdown",
   "id": "507e6744",
   "metadata": {
    "tags": [
     "remove-input"
    ]
   },
   "source": [
    "### Filter the SNPs to just the ones useful for kdr origin analysis"
   ]
  },
  {
   "cell_type": "code",
   "execution_count": null,
   "id": "a5de2ea6",
   "metadata": {
    "tags": [
     "remove-input"
    ]
   },
   "outputs": [],
   "source": [
    "geno, pos, contig, samples, ref, alt = load_vcf(vcf_path, metadata=metadata)\n",
    "\n",
    "which_snps = (contig == '2L') & np.isin(pos, hap_def['variant_pos']) \n",
    "\n",
    "snp_calls = geno[which_snps, :, :]\n",
    "pos = pos[which_snps]\n",
    "alt = alt[which_snps, :]\n",
    "ref = ref[which_snps]"
   ]
  },
  {
   "cell_type": "markdown",
   "id": "2710ba21",
   "metadata": {
    "tags": [
     "remove-input"
    ]
   },
   "source": [
    "### Convert genotype calls to nucleotides"
   ]
  },
  {
   "cell_type": "code",
   "execution_count": null,
   "id": "5f235e86",
   "metadata": {
    "tags": [
     "remove-input"
    ]
   },
   "outputs": [],
   "source": [
    "# combine ref and alt into a single matrix, and add a column of '?' at the end, so that \n",
    "# any genotype call of -1 (missing) draws the '?' character'\n",
    "snp_alleles = np.concatenate([np.reshape(ref, (len(ref), 1)), \n",
    "                              alt,\n",
    "                              np.full((len(ref), 1), '?')], \n",
    "                             axis = 1)\n",
    "\n",
    "# Convert numberic calls to nucleotides, and sort each pair of nucleotides alphabetically\n",
    "# (so, eg, the genotype 'TA' becomes 'AT')\n",
    "snp_genotypes_3d = snp_alleles[\n",
    "    np.array(np.arange(snp_alleles.shape[0])).reshape(snp_alleles.shape[0], 1, 1), \n",
    "    snp_calls\n",
    "]\n",
    "snp_genotypes = np.apply_along_axis(lambda x: ''.join(np.sort(x)), 2, snp_genotypes_3d)\n",
    "\n",
    "# Store results in data frame\n",
    "hap_def.index = hap_def['variant_pos']\n",
    "gen_df = pd.DataFrame(\n",
    "    np.transpose(snp_genotypes), \n",
    "    index = samples,\n",
    "    columns = hap_def.loc[pos, 'SNP name']\n",
    ")\n",
    "gen_df"
   ]
  },
  {
   "cell_type": "markdown",
   "id": "fb8620cc",
   "metadata": {
    "tags": [
     "remove-input"
    ]
   },
   "source": [
    "### Obtain kdr origin calls"
   ]
  },
  {
   "cell_type": "code",
   "execution_count": null,
   "id": "b8eb15c6",
   "metadata": {
    "scrolled": true,
    "tags": [
     "remove-input"
    ]
   },
   "outputs": [],
   "source": [
    "\n",
    "kdr_origins = pd.concat([kdr_origin(gen_df.iloc[i]) for i in range(gen_df.shape[0])])\n",
    "kdr_origins['kdr_origin'] = kdr_origins.apply(\n",
    "    get_single_gen_call, axis = 1\n",
    ")\n",
    "\n",
    "kdr_origins"
   ]
  },
  {
   "cell_type": "markdown",
   "id": "d31864b4",
   "metadata": {
    "tags": [
     "remove-input"
    ]
   },
   "source": [
    "### Merge kdr origins with metadata and write to file. "
   ]
  },
  {
   "cell_type": "code",
   "execution_count": null,
   "id": "22f47c9a",
   "metadata": {
    "tags": [
     "remove-input"
    ]
   },
   "outputs": [],
   "source": [
    "kdr_origins_df = pd.merge(kdr_origins, metadata.set_index(\"sampleID\"), left_index = True, right_index = True)\n",
    "kdr_origins_df.to_csv(f'{wkdir}/results/kdr-origins/kdr_origins.csv', sep = '\\t')\n",
    "kdr_origins_df"
   ]
  },
  {
   "cell_type": "markdown",
   "id": "0e0ce4db",
   "metadata": {
    "tags": [
     "remove-input"
    ]
   },
   "source": [
    "### Create a table where each row is a haplotype instead of a genotype (although these are genotype-based calls, so order within each sample will be random, so they can be used for, say, mapping, but not haplotype clustering). Write this table to file."
   ]
  },
  {
   "cell_type": "code",
   "execution_count": null,
   "id": "8ac2402e",
   "metadata": {
    "scrolled": true,
    "tags": [
     "remove-input"
    ]
   },
   "outputs": [],
   "source": [
    "\n",
    "kdr_genhap_origins_df = pd.DataFrame({'kdr_origin': ','.join(list(kdr_origins['kdr_origin'])).split(',')},\n",
    "                                     index = np.repeat(kdr_origins.index, 2)\n",
    ")\n",
    "kdr_genhap_origins_df = pd.merge(kdr_genhap_origins_df, metadata.set_index(\"sampleID\"), left_index=True, right_index=True)\n",
    "kdr_genhap_origins_df.to_csv(f'{wkdir}/results/kdr-origins/kdr_genhap_origins.csv', sep = '\\t')\n",
    "kdr_genhap_origins_df"
   ]
  },
  {
   "cell_type": "markdown",
   "id": "0dae4aae",
   "metadata": {
    "tags": [
     "remove-input"
    ]
   },
   "source": [
    "### Summarise results by taxon and location"
   ]
  },
  {
   "cell_type": "code",
   "execution_count": null,
   "id": "6d3b20e5",
   "metadata": {
    "scrolled": false,
    "tags": [
     "remove-input"
    ]
   },
   "outputs": [],
   "source": [
    "cols_keep = cohort_cols + ['kdr_origin']\n",
    "# Count the number of occurances of each haplotypes in each population\n",
    "# \"values\" could be any column that isn't specified elsewhere in the function. But it's \n",
    "# not allowed to be blank, so we had to pick one. \n",
    "pop_origin_counts = kdr_genhap_origins_df[cols_keep].pivot_table(columns='kdr_origin', \n",
    "                                                                    index=cohort_cols,\n",
    "                                                                    aggfunc=len\n",
    "                                                                   ).fillna(0).astype(int)\n",
    "\n",
    "# A function to round a number up to n_signif significant figures\n",
    "def signif(x, n_figs):\n",
    "    power = 10 ** np.floor(np.log10(np.abs(x).clip(1e-200)))\n",
    "    rounded = np.round(x / power, n_figs - 1) * power\n",
    "    return rounded\n",
    "\n",
    "# Calculate row totals of non-\"?\" columns\n",
    "if '?' in pop_origin_counts.columns:\n",
    "    pop_origin_counts = pop_origin_counts.drop('?', axis = 1)\n",
    "\n",
    "row_totals = pop_origin_counts.sum(axis = 1)\n",
    "# Calculate origin frequencies. We exclude the \"?\" calls for this\n",
    "pop_origin_freqs = pop_origin_counts.div(row_totals, axis = 0)\n",
    "# Round to 2 significant figures\n",
    "pop_origin_freqs = signif(pop_origin_freqs, 2)\n",
    "print('Counts of origins:')\n",
    "display(pop_origin_counts)\n",
    "print('\\n\\nFrequencies of known origins:')\n",
    "display(pop_origin_freqs)"
   ]
  },
  {
   "cell_type": "markdown",
   "id": "e782b7c6",
   "metadata": {
    "tags": [
     "remove-input"
    ]
   },
   "source": [
    "### That's all folks"
   ]
  }
 ],
 "metadata": {
  "celltoolbar": "Tags",
  "kernelspec": {
   "display_name": "pythonGenomics",
   "language": "python",
   "name": "pythongenomics"
  },
  "language_info": {
   "codemirror_mode": {
    "name": "ipython",
    "version": 3
   },
   "file_extension": ".py",
   "mimetype": "text/x-python",
   "name": "python",
   "nbconvert_exporter": "python",
   "pygments_lexer": "ipython3",
   "version": "3.10.12"
  }
 },
 "nbformat": 4,
 "nbformat_minor": 5
}
