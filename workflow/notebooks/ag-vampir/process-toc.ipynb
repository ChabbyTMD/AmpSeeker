{
 "cells": [
  {
   "cell_type": "code",
   "execution_count": null,
   "id": "b9952ba6",
   "metadata": {},
   "outputs": [],
   "source": [
    "import yaml"
   ]
  },
  {
   "cell_type": "code",
   "execution_count": null,
   "id": "1165f234",
   "metadata": {
    "tags": [
     "parameters"
    ]
   },
   "outputs": [],
   "source": [
    "wkdir = \"\""
   ]
  },
  {
   "cell_type": "code",
   "execution_count": null,
   "id": "32b0f09a",
   "metadata": {},
   "outputs": [],
   "source": [
    "toc_path = f'{wkdir}/docs/ampseeker-results/_toc.yml'  \n",
    "          \n",
    "with open(toc_path, 'r') as file:\n",
    "    toc_yml = yaml.safe_load(file)"
   ]
  },
  {
   "cell_type": "code",
   "execution_count": null,
   "id": "777fcd34",
   "metadata": {},
   "outputs": [],
   "source": [
    "# add ag-vampir section \n",
    "toc_yml['parts'].append({'caption':'Ag-vAmpIR',\n",
    " 'chapters':[{\n",
    "     'file':'notebooks/ag-vampir/species-id',\n",
    "     'file':'notebooks/ag-vampir/kdr-origins'\n",
    " }]\n",
    "})"
   ]
  },
  {
   "cell_type": "code",
   "execution_count": null,
   "id": "77e9c72a",
   "metadata": {},
   "outputs": [],
   "source": [
    "with open('toc.yml', 'w') as file:\n",
    "    yaml.dump(toc_yml, file)"
   ]
  }
 ],
 "metadata": {
  "kernelspec": {
   "display_name": "Python 3 (ipykernel)",
   "language": "python",
   "name": "python3"
  },
  "language_info": {
   "codemirror_mode": {
    "name": "ipython",
    "version": 3
   },
   "file_extension": ".py",
   "mimetype": "text/x-python",
   "name": "python",
   "nbconvert_exporter": "python",
   "pygments_lexer": "ipython3",
   "version": "3.8.12"
  }
 },
 "nbformat": 4,
 "nbformat_minor": 5
}
