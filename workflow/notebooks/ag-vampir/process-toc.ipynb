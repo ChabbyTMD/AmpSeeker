{
 "cells": [
  {
   "cell_type": "code",
   "execution_count": 1,
   "id": "b9952ba6",
   "metadata": {},
   "outputs": [],
   "source": [
    "import yaml"
   ]
  },
  {
   "cell_type": "code",
   "execution_count": 3,
   "id": "32b0f09a",
   "metadata": {},
   "outputs": [],
   "source": [
    "toc_path = '../../../docs/ampseeker-results/_toc.yml'  \n",
    "          \n",
    "with open(toc_path, 'r') as file:\n",
    "    toc_yml = yaml.safe_load(file)"
   ]
  },
  {
   "cell_type": "code",
   "execution_count": 12,
   "id": "777fcd34",
   "metadata": {},
   "outputs": [],
   "source": [
    "# add ag-vampir section \n",
    "toc_yml['parts'].append({'caption':'Ag-vAmpIR',\n",
    " 'chapters':[{\n",
    "     'file':'notebooks/ag-vampir/species-id'\n",
    " }]\n",
    "})"
   ]
  },
  {
   "cell_type": "code",
   "execution_count": 13,
   "id": "77e9c72a",
   "metadata": {},
   "outputs": [
    {
     "data": {
      "text/plain": [
       "{'format': 'jb-book',\n",
       " 'root': 'intro',\n",
       " 'parts': [{'caption': 'QC',\n",
       "   'chapters': [{'file': 'notebooks/read-quality'},\n",
       "    {'file': 'notebooks/reads-per-well'}]},\n",
       "  {'caption': 'Results',\n",
       "   'chapters': [{'file': 'notebooks/sample-map'},\n",
       "    {'file': 'notebooks/coverage'},\n",
       "    {'file': 'notebooks/principal-component-analysis'},\n",
       "    {'file': 'notebooks/snp-dataframe'},\n",
       "    {'file': 'notebooks/allele-frequencies'}]},\n",
       "  {'caption': 'Ag-vAmpIR',\n",
       "   'chapters': [{'file': 'notebooks/ag-vampir/species-id'}]}]}"
      ]
     },
     "execution_count": 13,
     "metadata": {},
     "output_type": "execute_result"
    }
   ],
   "source": [
    "with open('toc.yml', 'w') as file:\n",
    "    yaml.dump(toc_yml, file)"
   ]
  }
 ],
 "metadata": {
  "kernelspec": {
   "display_name": "Python 3 (ipykernel)",
   "language": "python",
   "name": "python3"
  },
  "language_info": {
   "codemirror_mode": {
    "name": "ipython",
    "version": 3
   },
   "file_extension": ".py",
   "mimetype": "text/x-python",
   "name": "python",
   "nbconvert_exporter": "python",
   "pygments_lexer": "ipython3",
   "version": "3.10.10"
  }
 },
 "nbformat": 4,
 "nbformat_minor": 5
}
