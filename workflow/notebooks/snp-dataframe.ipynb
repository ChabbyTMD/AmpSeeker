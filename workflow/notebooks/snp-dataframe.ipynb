{
 "cells": [
  {
   "cell_type": "code",
   "execution_count": null,
   "id": "ebdcabe6",
   "metadata": {
    "tags": [
     "remove-input"
    ]
   },
   "outputs": [],
   "source": [
    "import pandas as pd\n",
    "\n",
    "def read_vcf_to_excel(path, out_path):\n",
    "    import io\n",
    "    import os\n",
    "    with open(path, 'r') as f:\n",
    "        lines = [l for l in f if not l.startswith('##')]\n",
    "        \n",
    "    vcf_df = pd.read_csv(\n",
    "        io.StringIO(''.join(lines)),\n",
    "        dtype={'#CHROM': str, 'POS': int, 'ID': str, 'REF': str, 'ALT': str,\n",
    "               'QUAL': str, 'FILTER': str, 'INFO': str},\n",
    "        sep='\\t').rename(columns={'#CHROM': 'CHROM'})\n",
    "    \n",
    "    vcf_df = vcf_df.assign(ANNOTATION=vcf_df['INFO'].str.extract(r'ANN=(.*)'))\n",
    "    # shift column 'Name' to first position\n",
    "    first_column = vcf_df.pop('ANNOTATION')\n",
    "    # insert column using insert(position,column_name,\n",
    "    # first_column) function\n",
    "    vcf_df.insert(8, 'ANNOTATION', first_column)\n",
    "    vcf_df.to_excel(out_path)\n",
    "    \n",
    "    return vcf_df"
   ]
  },
  {
   "cell_type": "code",
   "execution_count": null,
   "id": "33ab3057",
   "metadata": {
    "tags": [
     "parameters",
     "remove-input"
    ]
   },
   "outputs": [],
   "source": [
    "dataset = \"gaard-sanger\"\n",
    "wkdir = \"\""
   ]
  },
  {
   "cell_type": "markdown",
   "id": "612c170f",
   "metadata": {},
   "source": [
    "# SNP dataframe\n",
    "\n",
    "In this notebook, we display the variant calling and annotation results as a pandas dataframe and save it as an excel spreadsheet for the user to explore or analyse further. If the DataFrame is too large to display, please use the .xlsx file. \n",
    "\n",
    "#### Target variant calling"
   ]
  },
  {
   "cell_type": "code",
   "execution_count": null,
   "id": "983bb2c8",
   "metadata": {
    "tags": [
     "remove-input"
    ]
   },
   "outputs": [],
   "source": [
    "vcf_df = read_vcf_to_excel(\n",
    "    path=f\"results/vcfs/targets/{dataset}.annot.vcf\",\n",
    "    out_path=f\"results/vcfs/targets/{dataset}-snps.xlsx\"\n",
    ")\n",
    "pd.set_option(\"display.max_rows\", 1000, \"display.max_columns\", 1000)\n",
    "vcf_df"
   ]
  },
  {
   "cell_type": "markdown",
   "id": "2ff0828c",
   "metadata": {},
   "source": [
    "---"
   ]
  },
  {
   "cell_type": "code",
   "execution_count": null,
   "id": "80f41f95",
   "metadata": {
    "tags": [
     "remove-input"
    ]
   },
   "outputs": [],
   "source": [
    "from IPython.display import display, Markdown\n",
    "display(Markdown(f'<a href=\"{wkdir}/results/vcfs/targets/{dataset}-snps.xlsx\">Target SNP data(.xlsx)</a>'))"
   ]
  },
  {
   "cell_type": "markdown",
   "id": "490f4ab3",
   "metadata": {},
   "source": [
    "#### Whole-amplicon variant calling"
   ]
  },
  {
   "cell_type": "code",
   "execution_count": null,
   "id": "1735dc71",
   "metadata": {
    "tags": [
     "remove-input"
    ]
   },
   "outputs": [],
   "source": [
    "vcf_df = read_vcf_to_excel(\n",
    "    path=f\"results/vcfs/amplicons/{dataset}.annot.vcf\",\n",
    "    out_path=f\"results/vcfs/amplicons/{dataset}-snps.xlsx\"\n",
    ")\n",
    "vcf_df"
   ]
  },
  {
   "cell_type": "markdown",
   "id": "7c0c4f01",
   "metadata": {},
   "source": [
    "---"
   ]
  },
  {
   "cell_type": "code",
   "execution_count": null,
   "id": "57f18b21",
   "metadata": {
    "tags": [
     "remove-input"
    ]
   },
   "outputs": [],
   "source": [
    "display(Markdown(f'<a href=\"{wkdir}/results/vcfs/amplicons/{dataset}-snps.xlsx\">Whole amplicon SNP data(.xlsx)</a>'))"
   ]
  }
 ],
 "metadata": {
  "celltoolbar": "Tags",
  "kernelspec": {
   "display_name": "pythonGenomics",
   "language": "python",
   "name": "pythongenomics"
  },
  "language_info": {
   "codemirror_mode": {
    "name": "ipython",
    "version": 3
   },
   "file_extension": ".py",
   "mimetype": "text/x-python",
   "name": "python",
   "nbconvert_exporter": "python",
   "pygments_lexer": "ipython3",
   "version": "3.9.15"
  }
 },
 "nbformat": 4,
 "nbformat_minor": 5
}
