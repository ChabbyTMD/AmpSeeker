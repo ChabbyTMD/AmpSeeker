{
 "cells": [
  {
   "cell_type": "code",
   "execution_count": null,
   "id": "b9952ba6",
   "metadata": {},
   "outputs": [],
   "source": [
    "import yaml"
   ]
  },
  {
   "cell_type": "code",
   "execution_count": null,
   "id": "1165f234",
   "metadata": {
    "tags": [
     "parameters"
    ]
   },
   "outputs": [],
   "source": [
    "wkdir = \"../..\"\n",
    "panel = 'ag-vampir'\n",
    "bcl_convert = True"
   ]
  },
  {
   "cell_type": "code",
   "execution_count": null,
   "id": "32b0f09a",
   "metadata": {},
   "outputs": [],
   "source": [
    "toc_path = f'{wkdir}/docs/ampseeker-results/_toc_skeleton.yml'  \n",
    "          \n",
    "with open(toc_path, 'r') as file:\n",
    "    toc_yml = yaml.safe_load(file)"
   ]
  },
  {
   "cell_type": "code",
   "execution_count": null,
   "id": "6fa0fb0d-2a48-40e3-bf6b-abc00e4fd7e1",
   "metadata": {},
   "outputs": [],
   "source": [
    "toc_yml"
   ]
  },
  {
   "cell_type": "code",
   "execution_count": null,
   "id": "722e01fc",
   "metadata": {},
   "outputs": [],
   "source": [
    "if bcl_convert:\n",
    "    toc_yml['parts'][0] = {'caption':'Sequencing and workflow',\n",
    "                        'chapters':[{'file':'notebooks/run-information'},\n",
    "                                    {'file':'notebooks/run-statistics'}\n",
    "                                    ]\n",
    "                                    }\n",
    "    \n",
    "if panel == 'ag-vampir':\n",
    "    # add ag-vampir section \n",
    "    toc_yml['parts'].append({'caption':'Ag-vampIR',\n",
    "    'chapters':[{\n",
    "        'file':'notebooks/ag-vampir/species-id'},{\n",
    "        'file':'notebooks/ag-vampir/kdr-analysis'}\n",
    "    ]\n",
    "    })"
   ]
  },
  {
   "cell_type": "code",
   "execution_count": null,
   "id": "77e9c72a",
   "metadata": {},
   "outputs": [],
   "source": [
    "with open(f'{wkdir}/docs/ampseeker-results/_toc.yml' , 'w') as file:\n",
    "    yaml.dump(toc_yml, file)"
   ]
  },
  {
   "cell_type": "code",
   "execution_count": null,
   "id": "721c147c",
   "metadata": {},
   "outputs": [],
   "source": []
  }
 ],
 "metadata": {
  "kernelspec": {
   "display_name": "AmpSeq_python",
   "language": "python",
   "name": "ampseq_python"
  },
  "language_info": {
   "codemirror_mode": {
    "name": "ipython",
    "version": 3
   },
   "file_extension": ".py",
   "mimetype": "text/x-python",
   "name": "python",
   "nbconvert_exporter": "python",
   "pygments_lexer": "ipython3",
   "version": "3.11.0"
  }
 },
 "nbformat": 4,
 "nbformat_minor": 5
}
