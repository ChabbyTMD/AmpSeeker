{
 "cells": [
  {
   "cell_type": "code",
   "execution_count": null,
   "id": "6057752e",
   "metadata": {
    "tags": [
     "remove-input"
    ]
   },
   "outputs": [],
   "source": [
    "import plotly.express as px\n",
    "import allel\n",
    "import numpy as np\n",
    "import pandas as pd"
   ]
  },
  {
   "cell_type": "code",
   "execution_count": null,
   "id": "d4571035",
   "metadata": {
    "tags": [
     "remove-input",
     "parameters"
    ]
   },
   "outputs": [],
   "source": [
    "dataset = 'gaard-sanger'\n",
    "metadata_path = \"../../config/metadata.tsv\"\n",
    "cohort_column = 'location'\n",
    "bed_path = \"../../config/AgamDao.bed\"\n",
    "vcf_path = \"../../results/vcfs/targets/calvin2.annot.vcf\""
   ]
  },
  {
   "cell_type": "markdown",
   "id": "7d349d15",
   "metadata": {
    "tags": [
     "remove-input"
    ]
   },
   "source": [
    "### Plotting allele frequencies\n",
    "\n",
    "This page shows allele frequencies in each cohort of the SNPs genotyped in the amplicon sequencing protocol."
   ]
  },
  {
   "cell_type": "code",
   "execution_count": null,
   "id": "ee8c132c",
   "metadata": {
    "tags": [
     "remove-input",
     "remove-output"
    ]
   },
   "outputs": [],
   "source": [
    "bed_df = pd.read_csv(bed_path, sep=\"\\t\", header=None)\n",
    "bed_df.columns = ['contig', 'start', 'pos', 'amplicon_id', 'target_id']\n",
    "\n",
    "# load metadata\n",
    "if metadata_path.endswith('.xlsx'):\n",
    "\tmetadata = pd.read_excel(metadata_path, engine='openpyxl')\n",
    "elif metadata_path.endswith('.tsv'):\n",
    "\tmetadata = pd.read_csv(metadata_path, sep=\"\\t\")\n",
    "elif metadata_path.endswith('.csv'):\n",
    "\tmetadata = pd.read_csv(metadata_path, sep=\",\")\n",
    "else:\n",
    "\traise ValueError(\"Metadata file must be .xlsx or .csv\")\n",
    "\n",
    "# load vcf and get genotypes and positions\n",
    "vcf = allel.read_vcf(vcf_path, fields=['calldata/GT', 'variants/POS', 'variants/CHROM', 'variants/INFO'])\n",
    "geno = allel.GenotypeArray(vcf['calldata/GT'])\n",
    "pos = vcf['variants/POS']\n",
    "contig = vcf['variants/CHROM']\n",
    "indel = vcf['variants/INDEL']\n",
    "\n",
    "# remove indels\n",
    "# make dataframe of variant positions and merge with bed\n",
    "vcf_var_df = pd.DataFrame({'contig':contig, 'pos':pos})\n",
    "vcf_var_df = vcf_var_df[~indel].merge(bed_df)\n",
    "geno = geno.compress(~indel, axis=0)\n",
    "\n",
    "# get indices of each population\n",
    "pop_dict = {}\n",
    "pops = metadata[cohort_column].unique()\n",
    "for pop in pops:\n",
    "    pop_dict[pop] = np.where(metadata[cohort_column] == pop)[0]\n",
    "\n",
    "# get allele counts for each population\n",
    "ac = geno.count_alleles_subpops(pop_dict)\n",
    "\n",
    "# convert to frequencies\n",
    "for pop in pops:\n",
    "    pop_dict[pop] = ac[pop].to_frequencies()\n",
    "\n",
    "# make dataframe of allele frequencies\n",
    "freq_dfs = []\n",
    "for pop in pops:\n",
    "    df = pd.DataFrame({'cohort':pop,\n",
    "                       'mutation': vcf_var_df['target_id'],\n",
    "                       'ref':pop_dict[pop][:, 0], \n",
    "                       'alt':pop_dict[pop][:, 1]})\n",
    "    freq_dfs.append(df)\n",
    "\n",
    "# concatenate dataframes\n",
    "freq_df = pd.concat(freq_dfs)"
   ]
  },
  {
   "cell_type": "code",
   "execution_count": null,
   "id": "19a63cb1",
   "metadata": {
    "tags": [
     "remove-input"
    ]
   },
   "outputs": [],
   "source": [
    "df = freq_df.drop(columns='ref').pivot(columns='cohort', index='mutation', values='alt').round(2)\n",
    "\n",
    "fig = px.imshow(\n",
    "        img=df,\n",
    "        zmin=0,\n",
    "        zmax=1,\n",
    "        width=400,\n",
    "        height=1600,\n",
    "        text_auto=True,\n",
    "        aspect=1,\n",
    "        color_continuous_scale=\"Reds\",\n",
    "        title=f\"{dataset} allele frequencies\",\n",
    "    )\n",
    "fig.update(layout_coloraxis_showscale=False)\n",
    "\n",
    "fig"
   ]
  },
  {
   "cell_type": "code",
   "execution_count": null,
   "id": "c7ed92b0",
   "metadata": {},
   "outputs": [],
   "source": []
  }
 ],
 "metadata": {
  "celltoolbar": "Tags",
  "kernelspec": {
   "display_name": "pythonGenomics",
   "language": "python",
   "name": "pythongenomics"
  },
  "language_info": {
   "codemirror_mode": {
    "name": "ipython",
    "version": 3
   },
   "file_extension": ".py",
   "mimetype": "text/x-python",
   "name": "python",
   "nbconvert_exporter": "python",
   "pygments_lexer": "ipython3",
   "version": "3.10.12"
  }
 },
 "nbformat": 4,
 "nbformat_minor": 5
}
