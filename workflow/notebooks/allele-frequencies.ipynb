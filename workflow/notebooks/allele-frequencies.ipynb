{
 "cells": [
  {
   "cell_type": "code",
   "execution_count": null,
   "id": "6057752e",
   "metadata": {
    "tags": [
     "remove-input"
    ]
   },
   "outputs": [],
   "source": [
    "import plotly.express as px\n",
    "import allel\n",
    "import numpy as np\n",
    "import pandas as pd\n",
    "\n",
    "def load_vcf(vcf_path, metadata):\n",
    "    \"\"\"\n",
    "    Load VCF and filter poor-quality samples\n",
    "    \"\"\"\n",
    "    \n",
    "    sampleIDs = metadata.sampleID.to_list()\n",
    "    \n",
    "    # load vcf and get genotypes and positions\n",
    "    vcf = allel.read_vcf(vcf_path, fields='*')\n",
    "    samples = vcf['samples']\n",
    "    # keep only samples in qcpass metadata \n",
    "    sample_mask = np.isin(vcf['samples'], metadata.sampleID)\n",
    "    \n",
    "    # remove low quality samples \n",
    "    geno = allel.GenotypeArray(vcf['calldata/GT'])\n",
    "    geno = geno.compress(sample_mask, axis=1)\n",
    "    pos = vcf['variants/POS']\n",
    "    contig = vcf['variants/CHROM']\n",
    "    indel = vcf['variants/INDEL']\n",
    "    \n",
    "    # remove indels \n",
    "    geno = geno.compress(~indel, axis=0)\n",
    "    pos = pos[~indel]\n",
    "    contig = contig[~indel]\n",
    "    \n",
    "    return geno, pos, contig, samples[sample_mask]\n",
    "\n",
    "\n",
    "def vcf_data_to_frequencies(metadata, bed_df, geno, contig, pos, cohort_col):\n",
    "    # make dataframe of variant positions and merge with bed\n",
    "    vcf_var_df = pd.DataFrame({'contig':contig, 'pos':pos})\n",
    "    vcf_var_df = vcf_var_df.merge(bed_df)\n",
    "    \n",
    "    # filter out AIMs (will only do anything if ag-vampir)\n",
    "    aim_mask = vcf_var_df.eval(\"~target_id.str.contains('AIM')\")\n",
    "    geno = geno.compress(aim_mask, axis=0)\n",
    "    vcf_var_df = vcf_var_df[aim_mask]\n",
    "    \n",
    "    # get indices of each population\n",
    "    pop_dict = {}\n",
    "    pops = metadata[cohort_col].unique()\n",
    "    for pop in pops:\n",
    "        pop_dict[pop] = np.where(metadata[cohort_col] == pop)[0]\n",
    "\n",
    "    # get allele counts for each population\n",
    "    ac = geno.count_alleles_subpops(pop_dict)\n",
    "\n",
    "    # convert to frequencies\n",
    "    for pop in pops:\n",
    "        pop_dict[pop] = ac[pop].to_frequencies()\n",
    "\n",
    "    # make dataframe of allele frequencies\n",
    "    freq_dfs = []\n",
    "    for pop in pops:\n",
    "        df = pd.DataFrame({'cohort':pop,\n",
    "                           'mutation': vcf_var_df['target_id'],\n",
    "                           'ref':pop_dict[pop][:, 0], \n",
    "                           'alt':pop_dict[pop][:, 1]})\n",
    "        freq_dfs.append(df)\n",
    "\n",
    "    # concatenate dataframes\n",
    "    return pd.concat(freq_dfs)\n",
    "\n",
    "def plot_allele_frequencies(metadata, vcf_path, bed_df, cohort_col):\n",
    "    \n",
    "    geno, pos, contig, samples = load_vcf(vcf_path=vcf_path, metadata=metadata)\n",
    "    \n",
    "    freq_df = vcf_data_to_frequencies(\n",
    "        metadata=metadata, \n",
    "        bed_df=bed_df, \n",
    "        geno=geno,\n",
    "        contig=contig, \n",
    "        pos=pos, \n",
    "        cohort_col=cohort_col\n",
    "    )\n",
    "    \n",
    "    df = freq_df.drop(columns='ref').pivot(columns='cohort', index='mutation', values='alt').round(2)\n",
    "\n",
    "    fig = px.imshow(\n",
    "            img=df,\n",
    "            zmin=0,\n",
    "            zmax=1,\n",
    "            width=df.shape[1] * 100,\n",
    "            height=df.shape[0] * 20,\n",
    "            text_auto=True,\n",
    "            aspect=1,\n",
    "            color_continuous_scale=\"Reds\",\n",
    "            title=f\"{dataset} allele frequencies | by {cohort_col}\",\n",
    "        )\n",
    "    fig.update(layout_coloraxis_showscale=False)\n",
    "\n",
    "    fig.show()"
   ]
  },
  {
   "cell_type": "code",
   "execution_count": null,
   "id": "d4571035",
   "metadata": {
    "tags": [
     "remove-input",
     "parameters"
    ]
   },
   "outputs": [],
   "source": [
    "dataset = 'ampseq-vigg-01'\n",
    "metadata_path = \"../../results/config/metadata.qcpass.tsv\"\n",
    "cohort_cols = 'taxon,location'\n",
    "bed_path = \"../../config/ag-vampir.bed\"\n",
    "vcf_path = \"../../results/vcfs/targets/ampseq-vigg-01.annot.vcf\""
   ]
  },
  {
   "cell_type": "markdown",
   "id": "7d349d15",
   "metadata": {
    "tags": [
     "remove-input"
    ]
   },
   "source": [
    "### Plotting allele frequencies\n",
    "\n",
    "This page shows allele frequencies in each cohort of the SNPs genotyped in the amplicon sequencing protocol."
   ]
  },
  {
   "cell_type": "code",
   "execution_count": null,
   "id": "ee8c132c",
   "metadata": {
    "tags": [
     "remove-input",
     "remove-output"
    ]
   },
   "outputs": [],
   "source": [
    "cohort_cols = cohort_cols.split(\",\")\n",
    "\n",
    "bed_df = pd.read_csv(bed_path, sep=\"\\t\", header=None)\n",
    "bed_df.columns = ['contig', 'start', 'pos', 'amplicon_id', 'target_id']\n",
    "\n",
    "# load metadata\n",
    "if metadata_path.endswith('.xlsx'):\n",
    "    metadata = pd.read_excel(metadata_path, engine='openpyxl')\n",
    "elif metadata_path.endswith('.tsv'):\n",
    "    metadata = pd.read_csv(metadata_path, sep=\"\\t\")\n",
    "elif metadata_path.endswith('.csv'):\n",
    "    metadata = pd.read_csv(metadata_path, sep=\",\")\n",
    "else:\n",
    "    raise ValueError(\"Metadata file must be .xlsx or .csv\")"
   ]
  },
  {
   "cell_type": "code",
   "execution_count": null,
   "id": "19a63cb1",
   "metadata": {
    "scrolled": false,
    "tags": [
     "remove-input"
    ]
   },
   "outputs": [],
   "source": [
    "for cohort_col in cohort_cols:\n",
    "    plot_allele_frequencies(\n",
    "        metadata=metadata, \n",
    "        vcf_path=vcf_path, \n",
    "        bed_df=bed_df, \n",
    "        cohort_col=cohort_col\n",
    "    )"
   ]
  },
  {
   "cell_type": "code",
   "execution_count": null,
   "id": "c7ed92b0",
   "metadata": {},
   "outputs": [],
   "source": []
  }
 ],
 "metadata": {
  "celltoolbar": "Tags",
  "kernelspec": {
   "display_name": "pythonGenomics",
   "language": "python",
   "name": "pythongenomics"
  },
  "language_info": {
   "codemirror_mode": {
    "name": "ipython",
    "version": 3
   },
   "file_extension": ".py",
   "mimetype": "text/x-python",
   "name": "python",
   "nbconvert_exporter": "python",
   "pygments_lexer": "ipython3",
   "version": "3.10.12"
  }
 },
 "nbformat": 4,
 "nbformat_minor": 5
}
